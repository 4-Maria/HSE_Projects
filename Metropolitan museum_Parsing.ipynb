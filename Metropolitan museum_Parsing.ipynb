{
 "cells": [
  {
   "cell_type": "code",
   "execution_count": 5,
   "metadata": {},
   "outputs": [
    {
     "name": "stderr",
     "output_type": "stream",
     "text": [
      "[WDM] - ====== WebDriver manager ======\n",
      "[WDM] - Current google-chrome version is 89.0.4389\n",
      "[WDM] - Get LATEST driver version for 89.0.4389\n"
     ]
    },
    {
     "name": "stdout",
     "output_type": "stream",
     "text": [
      "\n",
      "\n"
     ]
    },
    {
     "name": "stderr",
     "output_type": "stream",
     "text": [
      "[WDM] - Driver [C:\\Users\\chernyshova.m\\.wdm\\drivers\\chromedriver\\win32\\89.0.4389.23\\chromedriver.exe] found in cache\n"
     ]
    }
   ],
   "source": [
    "from webdriver_manager.chrome import ChromeDriverManager\n",
    "from selenium import webdriver \n",
    "from selenium import webdriver as wb\n",
    "from selenium.webdriver.common.keys import Keys\n",
    "from selenium.webdriver.support.ui import Select\n",
    "from bs4 import BeautifulSoup\n",
    "from time import sleep\n",
    "import pandas as pd\n",
    "\n",
    "# The Metropolitan Museum of Art -> Art -> Architecture\n",
    "driver = webdriver.Chrome(executable_path=ChromeDriverManager().install())\n",
    "driver.get(\"https://www.metmuseum.org/art/collection/search#!?q=Architecture&perPage=20&searchField=All&sortBy=Relevance&offset=0&pageSize=0\")  "
   ]
  },
  {
   "cell_type": "code",
   "execution_count": 91,
   "metadata": {},
   "outputs": [
    {
     "name": "stdout",
     "output_type": "stream",
     "text": [
      "20\n",
      "<img alt=\"Architecture\" class=\"result-card__image--art\" ng-src=\"https://images.metmuseum.org/CRDImages/ad/mobile-large/DP294450.jpg\" onerror=\"this.src='/assets/icons/ico-no-image.svg'\" src=\"https://images.metmuseum.org/CRDImages/ad/mobile-large/DP294450.jpg\"/>\n"
     ]
    }
   ],
   "source": [
    "soup = BeautifulSoup(driver.page_source)\n",
    "pic = soup.find_all('img', {'class': 'result-card__image--art'})\n",
    "#print (len(pic))  # 20 изображений в формате \".jpg\" на одной странице\n",
    "#print (pic[0])    # структура 1 изображения - только фото! Название расположено в тэге \"p\""
   ]
  },
  {
   "cell_type": "code",
   "execution_count": 92,
   "metadata": {},
   "outputs": [
    {
     "name": "stdout",
     "output_type": "stream",
     "text": [
      "20\n",
      "['https://images.metmuseum.org/CRDImages/ad/mobile-large/DP294450.jpg', 'https://images.metmuseum.org/CRDImages/es/mobile-large/ES4785.jpg', 'https://images.metmuseum.org/CRDImages/ad/mobile-large/DP205019.jpg', 'https://images.metmuseum.org/CRDImages/ad/mobile-large/DP277324.jpg', 'https://images.metmuseum.org/CRDImages/ad/mobile-large/DP171093.jpg', 'https://images.metmuseum.org/CRDImages/ad/mobile-large/DP131444.jpg', 'https://images.metmuseum.org/CRDImages/ad/mobile-large/ADA3249.jpg', 'https://images.metmuseum.org/CRDImages/ad/mobile-large/DP227958.jpg', 'https://images.metmuseum.org/CRDImages/ad/mobile-large/DP170797.jpg', 'https://images.metmuseum.org/CRDImages/ad/mobile-large/243867.jpg', 'https://images.metmuseum.org/CRDImages/ad/mobile-large/243867.jpg', 'https://images.metmuseum.org/CRDImages/ad/mobile-large/DT10281.jpg', 'https://images.metmuseum.org/CRDImages/ad/mobile-large/DT223517.jpg', 'https://images.metmuseum.org/CRDImages/dp/mobile-large/DP841055.jpg', 'https://images.metmuseum.org/CRDImages/dp/mobile-large/DP874039.jpg', 'https://images.metmuseum.org/CRDImages/ma/mobile-large/sf1982.518.jpg', 'https://images.metmuseum.org/CRDImages/dp/mobile-large/DP825975.jpg', 'https://images.metmuseum.org/CRDImages/dp/mobile-large/DP826240.jpg', 'https://images.metmuseum.org/CRDImages/ad/mobile-large/DT239187.jpg', 'https://images.metmuseum.org/CRDImages/ad/mobile-large/DP263972.jpg']\n"
     ]
    }
   ],
   "source": [
    "hrefs =[]\n",
    "for h in range (20):      # извлекаю только ссылки на изображения\n",
    "    hrefs.append(pic[h].get('src'))\n",
    "#print (len(hrefs))\n",
    "#print (hrefs)"
   ]
  },
  {
   "cell_type": "code",
   "execution_count": 93,
   "metadata": {},
   "outputs": [
    {
     "data": {
      "text/plain": [
       "'image/jpeg'"
      ]
     },
     "execution_count": 93,
     "metadata": {},
     "output_type": "execute_result"
    }
   ],
   "source": [
    "import requests \n",
    "requests.get(hrefs[0]).headers['content-type']  # проверяю формат первой ссылки, все ок"
   ]
  },
  {
   "cell_type": "code",
   "execution_count": 94,
   "metadata": {},
   "outputs": [
    {
     "name": "stdout",
     "output_type": "stream",
     "text": [
      "20\n",
      "['Daniel Chester French, 1898', 'Clodion (Claude Michel), ca. 1780–90', 'Italian, ca. 1825–30', 'Frank Lloyd Wright, 1912–14', 'American, ca. 1767', 'Louis Comfort Tiffany, ca. 1905', 'American, 1760–90', 'American, ca. 1756', 'Augustus Saint-Gaudens, ca. 1881–83', 'Louis Henry Sullivan, 1893', 'Louis Henry Sullivan, 1893', 'Louis Comfort Tiffany, ca. 1905–15', 'John Hewlett, 1740–60', 'Michelangelo Colonna, 17th century', 'Benoit Audran the Elder, 1690', 'Lyonel Charles Feininger, 1937', 'Johann Georg Hertel, 18th century', 'Louis Félix de La Rue', 'American, 1695–1700', 'United Society of Believers in Christ’s Second Appearing (“Shakers”), Mount Lebanon, New York, ca. 1830–40']\n"
     ]
    }
   ],
   "source": [
    "# нахожу расположение Названия изображения\n",
    "n = soup.find_all('p', {'class': 'result-card__grid-artist ng-binding ng-scope ng-isolate-scope'}) \n",
    "# извлекаю Названия\n",
    "names = []\n",
    "for i in range(20):\n",
    "    names.append(n[i].text)\n",
    "#print (len(names))\n",
    "#print (names)"
   ]
  },
  {
   "cell_type": "code",
   "execution_count": null,
   "metadata": {},
   "outputs": [],
   "source": [
    "import os\n",
    "os.getcwd()"
   ]
  },
  {
   "cell_type": "code",
   "execution_count": null,
   "metadata": {},
   "outputs": [],
   "source": [
    "os.chdir('C:\\\\Users\\\\........') # адрес сохранения результатов\n",
    "os.getcwd()"
   ]
  },
  {
   "cell_type": "code",
   "execution_count": 76,
   "metadata": {},
   "outputs": [],
   "source": [
    "# пробник для первого изображения\n",
    "all_pic = requests.get(hrefs[0], stream=True) \n",
    "\n",
    "if all_pic.headers['content-type'] == 'image/jpeg': \n",
    "    img = open(f'{names[0]}.jpg', 'wb') \n",
    "    img.write(all_pic.content) \n",
    "    img.close()"
   ]
  },
  {
   "cell_type": "code",
   "execution_count": null,
   "metadata": {},
   "outputs": [],
   "source": []
  },
  {
   "cell_type": "code",
   "execution_count": null,
   "metadata": {},
   "outputs": [],
   "source": [
    "https://www.metmuseum.org/art/collection/search#!?q=Architecture&perPage=20&offset=0&pageSize=0&sortBy=Relevance&sortOrder=asc&searchField=All"
   ]
  },
  {
   "cell_type": "code",
   "execution_count": null,
   "metadata": {},
   "outputs": [],
   "source": [
    "https://www.metmuseum.org/art/collection/search#!?q=Architecture&perPage=20&offset=20&pageSize=0&sortBy=Relevance&sortOrder=asc&searchField=All"
   ]
  },
  {
   "cell_type": "code",
   "execution_count": null,
   "metadata": {},
   "outputs": [],
   "source": [
    "https://www.metmuseum.org/art/collection/search#!?q=Architecture&perPage=20&offset=40&pageSize=0&sortBy=Relevance&sortOrder=asc&searchField=All"
   ]
  },
  {
   "cell_type": "code",
   "execution_count": null,
   "metadata": {},
   "outputs": [],
   "source": [
    "num_page = 3     # пердположим, что необходимо собрать изображ. с первых 3 страниц\n",
    "f'...................page={num_page}.html'"
   ]
  },
  {
   "cell_type": "code",
   "execution_count": null,
   "metadata": {},
   "outputs": [],
   "source": [
    "def get_page(num_page):"
   ]
  },
  {
   "cell_type": "code",
   "execution_count": 97,
   "metadata": {},
   "outputs": [],
   "source": [
    "for a in range (20):\n",
    "    # потоковое чтение файла, потому файл может быть большим и не уместиться в памяти\n",
    "    all_pic = requests.get(hrefs[a], stream=True) \n",
    "    # на всякий случай делаем проверку, иначе можем получить битый файл\n",
    "    if all_pic.headers['content-type'] == 'image/jpeg': \n",
    "        # wb - запись байтовой информации\n",
    "        img = open(f'{names[a]}.jpg', 'wb') \n",
    "        # считываем туда \"содержание\" файла по ссылке\n",
    "        img.write(all_pic.content) \n",
    "        img.close()"
   ]
  },
  {
   "cell_type": "code",
   "execution_count": null,
   "metadata": {},
   "outputs": [],
   "source": []
  }
 ],
 "metadata": {
  "kernelspec": {
   "display_name": "Python 3",
   "language": "python",
   "name": "python3"
  },
  "language_info": {
   "codemirror_mode": {
    "name": "ipython",
    "version": 3
   },
   "file_extension": ".py",
   "mimetype": "text/x-python",
   "name": "python",
   "nbconvert_exporter": "python",
   "pygments_lexer": "ipython3",
   "version": "3.8.8"
  },
  "toc": {
   "base_numbering": 1,
   "nav_menu": {},
   "number_sections": true,
   "sideBar": true,
   "skip_h1_title": false,
   "title_cell": "Table of Contents",
   "title_sidebar": "Contents",
   "toc_cell": false,
   "toc_position": {},
   "toc_section_display": true,
   "toc_window_display": false
  },
  "varInspector": {
   "cols": {
    "lenName": 16,
    "lenType": 16,
    "lenVar": 40
   },
   "kernels_config": {
    "python": {
     "delete_cmd_postfix": "",
     "delete_cmd_prefix": "del ",
     "library": "var_list.py",
     "varRefreshCmd": "print(var_dic_list())"
    },
    "r": {
     "delete_cmd_postfix": ") ",
     "delete_cmd_prefix": "rm(",
     "library": "var_list.r",
     "varRefreshCmd": "cat(var_dic_list()) "
    }
   },
   "types_to_exclude": [
    "module",
    "function",
    "builtin_function_or_method",
    "instance",
    "_Feature"
   ],
   "window_display": false
  }
 },
 "nbformat": 4,
 "nbformat_minor": 4
}
