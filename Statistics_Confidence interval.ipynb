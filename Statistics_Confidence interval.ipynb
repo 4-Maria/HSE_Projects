{
 "cells": [
  {
   "cell_type": "markdown",
   "metadata": {
    "id": "R1iX5KdYY1NK"
   },
   "source": [
    "## Доверительные интервалы"
   ]
  },
  {
   "cell_type": "markdown",
   "metadata": {
    "id": "Pwde8yi1c5zj"
   },
   "source": [
    "### Правило 3 сигм\n",
    "\n",
    "Пусть X имеет некоторое распределение с математическим ожиданием EX = a и конечной дисперсией Var(X) = σ^2 < ∞. \n",
    "\n",
    "С помощью неравенства Чебышёва покажите, с какой вероятностью эта случайная величина лежит в отрезках [a − 2σ, a + 2σ] и [a − 3σ, a + 3σ]. \n",
    "\n",
    "Сравните полученные вероятности с соответствующими вероятностями для стандартного нормального распределения N (0, 1). Какой вывод можно сделать?"
   ]
  },
  {
   "cell_type": "markdown",
   "metadata": {
    "id": "vAtXjUAuTkv_"
   },
   "source": [
    "![image.png](data:image/png;base64,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)"
   ]
  },
  {
   "cell_type": "markdown",
   "metadata": {
    "id": "w8EORI1WWcu9"
   },
   "source": [
    "![image.png](data:image/png;base64,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)"
   ]
  },
  {
   "cell_type": "markdown",
   "metadata": {
    "id": "-6FJXiDRVWB3"
   },
   "source": [
    "Т.к. необходимо найти вероятность в пределах отгрезка - знаки в другую сторону"
   ]
  },
  {
   "cell_type": "markdown",
   "metadata": {
    "id": "Eps31t2TVIz6"
   },
   "source": [
    "![Txebixev_01.png](data:image/png;base64,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)"
   ]
  },
  {
   "cell_type": "code",
   "execution_count": null,
   "metadata": {
    "id": "osEVadhPe4Jf"
   },
   "outputs": [],
   "source": [
    "P(|X - μ| <= a) >= 1 - (σ^2/ a^2)\n",
    "\n",
    "Через k:\n",
    "P(|X - μ| <= kσ) >= 1 - (1/ k^2)\n",
    "\n",
    "\n",
    "В задаче М = а, Var = σ^2,   тогда вормула в конкретной задаче выглядит:\n",
    "P(|X - a| <= kσ) >= 1 - (1/ k^2)  или неравенство относительно X (+ выносим σ^2):\n",
    "P( a-k <= X <= a+k ) >= 1 - (σ^2/ k^2)\n",
    "\n",
    "\n",
    "# 1. k=2:\n",
    "P(a-2σ <= X <= a+2σ) >= 1 - (σ^2/ 4σ^2)   P >= 3/4  или 0.75\n",
    "\n",
    "# 2. k=3:\n",
    "ε = a + 3σ - a + 3σ = 6σ\n",
    "P(a-3σ <= X <= a+3σ) >= 1 - (σ^2/ 9σ^2)   P >= 8/9  или 0.89"
   ]
  },
  {
   "cell_type": "code",
   "execution_count": null,
   "metadata": {
    "id": "67gZAmHqe3Oe"
   },
   "outputs": [],
   "source": [
    "# Для стандартного нормального распределения N (0, 1):\n",
    "# Приблизительно 99,7% всех значений лежат в пределе трех сигм от математического ожидания, около 95% — в пределах двух сигм.\n",
    "\n",
    "\n",
    "# Если случайная величина распределена нормально, то абсолютная величина ее отклонения от математического ожидания не превосходит утроенного \n",
    "# среднего квадратического отклонения.\n",
    "\n",
    "# Если распределение изучаемой случайной величины неизвестно, но условие, указанное в приведенном правиле, выполняется, \n",
    "# то есть основание предполагать, что изучаемая величина распределена нормально; в противном случае она не распределена нормально."
   ]
  },
  {
   "cell_type": "markdown",
   "metadata": {
    "id": "xAZDUID_dMWh"
   },
   "source": [
    "### Сравнение дов. интервалов"
   ]
  },
  {
   "cell_type": "markdown",
   "metadata": {
    "id": "xhLDPgBlavdM"
   },
   "source": [
    "Рассмотрим нормальное распределение N(μ,σ^2) с неизвестными параметрами μ ∈ R и σ^2 > 0. \n",
    "\n",
    "В этой задаче мы численно сравним следующие доверительные интервалы для параметра μ:\n",
    "1. теоретический\n",
    "2. на основе параметрического бутстрэпа\n",
    "3. на основе непараметрического бутстрэпа. \n",
    "\n",
    "Для этого:\n",
    "1. сгенерируйте неизвестный параметр μ из равномерного распределения на [10,20] и σ — из равномерного распределения на [1, 2];\n",
    "2. сгенерируйте выборку из нормального распределения N (μ, σ^2) размера n = 50;\n",
    "3. постройте доверительные интервалы 1), 2), 3) уровня доверия 1 − α, α=0.05;\n",
    "4. сравните длины полученных доверительных интервалов;\n",
    "5. проведите этот эксперимент на 10000 выборках; с какой частотой μ попадает в полученные доверительные интервалы?\n"
   ]
  },
  {
   "cell_type": "code",
   "execution_count": null,
   "metadata": {
    "id": "JBpV8yk4e2KK"
   },
   "outputs": [],
   "source": [
    "import numpy as np \n",
    "from scipy import stats \n",
    "\n",
    "np.random.seed(15) # фиксируем seed"
   ]
  },
  {
   "cell_type": "code",
   "execution_count": null,
   "metadata": {
    "colab": {
     "base_uri": "https://localhost:8080/"
    },
    "id": "CZkGyytGMHRj",
    "outputId": "caec5d39-b029-4366-bd9a-ce88f21a62fd"
   },
   "outputs": [
    {
     "name": "stdout",
     "output_type": "stream",
     "text": [
      "Значение mu равно 18.488176972685785\n",
      "Значение sigma равно 1.1788959249209985\n"
     ]
    }
   ],
   "source": [
    "# 1\n",
    "mu = np.random.uniform(10,20) \n",
    "sigma = np.random.uniform(1,2) # std\n",
    "print(\"Значение mu равно\", mu)\n",
    "print(\"Значение sigma равно\", sigma)\n",
    "\n",
    "# 2\n",
    "n = 50 # размер выборки \n",
    "sample = np.random.normal(mu, sigma, size=n)\n",
    "\n",
    "\n",
    "# print(\"Sample:\", sample)"
   ]
  },
  {
   "cell_type": "code",
   "execution_count": null,
   "metadata": {
    "colab": {
     "base_uri": "https://localhost:8080/"
    },
    "id": "Ueoyhs6U1vsq",
    "outputId": "26e19411-67cb-4090-b9a1-e400995f688f"
   },
   "outputs": [
    {
     "name": "stdout",
     "output_type": "stream",
     "text": [
      "Ppf: 1.959963984540054\n",
      "Теоретический ДИ равен [18.0511984256395, 18.72027285907213]\n"
     ]
    }
   ],
   "source": [
    "# 3\n",
    "alpha = 0.05 # параметр ошибки\n",
    "\n",
    "# 0.05/2 = 0.025 =>  q = 1-0.025 = 0.975\n",
    "x_q = stats.norm.ppf(q=0.975)\n",
    "\n",
    "#  ppf - для извлечения значения случайной величины, которое с заданной вероятностью не меньше всех других значений (квантиль, процентиль)\n",
    "print(\"Ppf:\", x_q)\n",
    "\n",
    "# Теоретический доверительный интервал:\n",
    "std = np.std(sample)\n",
    "\n",
    "CI_Theoretical = [\n",
    "    np.mean(sample) - stats.norm.ppf(1-alpha/2)*std/np.sqrt(n), \n",
    "    np.mean(sample) + stats.norm.ppf(1-alpha/2)*std/np.sqrt(n)]\n",
    "\n",
    "print(\"Теоретический ДИ равен\", CI_Theoretical)"
   ]
  },
  {
   "cell_type": "code",
   "execution_count": null,
   "metadata": {
    "colab": {
     "base_uri": "https://localhost:8080/"
    },
    "id": "xy0lsuWy1vpf",
    "outputId": "e10d2acb-942b-416b-99f1-0b471b013d9b"
   },
   "outputs": [
    {
     "name": "stdout",
     "output_type": "stream",
     "text": [
      "Mean = 18.385735642355815 Std = 1.2069279658467393\n",
      "\n",
      "ДИ на основе парметрического бутстрэпа равен [18.054305062475613, 18.591694956675415]\n"
     ]
    }
   ],
   "source": [
    "#  На основе параметрического бутстрэпа:\n",
    " \n",
    " # Параметры для бутстрэпа\n",
    "number_of_bootstrap_samples = 10 # количество бутстрэп-выборок\n",
    "size_of_bootstrap_samples = 20 # размер бутстрэп-выборок\n",
    "\n",
    "# Оцениваем неизвестные параметры  \n",
    "mean = np.mean(sample) \n",
    "std = np.std(sample)\n",
    "print('Mean =', mean, 'Std =', std)\n",
    "\n",
    "# Генерируем выборку из распределения N(sample_mean, sigma)\n",
    "bootstrap_samples = np.random.normal(mean,std,\n",
    "                                     size=[number_of_bootstrap_samples,\n",
    "                                           size_of_bootstrap_samples]) \n",
    "\n",
    "# Считаем среднее для каждой выборки \n",
    "bootstrap_estimates = np.apply_along_axis(np.mean, 1, bootstrap_samples)\n",
    "print()\n",
    "# Вычисляем параметрический бутстрэп доверительный интервал\n",
    "CI_Bootstrap_Parametric = [\n",
    "    np.quantile(bootstrap_estimates,alpha/2), \n",
    "    np.quantile(bootstrap_estimates,1-alpha/2)]\n",
    "\n",
    "print(\"ДИ на основе парметрического бутстрэпа равен\", CI_Bootstrap_Parametric)"
   ]
  },
  {
   "cell_type": "code",
   "execution_count": null,
   "metadata": {
    "colab": {
     "base_uri": "https://localhost:8080/"
    },
    "id": "IibaAqhe1vml",
    "outputId": "08b39dd8-0202-44e4-f14d-d3c19058137b"
   },
   "outputs": [
    {
     "name": "stdout",
     "output_type": "stream",
     "text": [
      "ДИ на основе (непарметрического) бутстрэпа равен [18.163000965222494, 19.11734894679038]\n"
     ]
    }
   ],
   "source": [
    "#  На основе непараметрического бутстрэпа:\n",
    "\n",
    "number_of_bootstrap_samples = 10 # количество бутстрэп-выборок\n",
    "size_of_bootstrap_samples = 20 # размер бутстрэп-выборок\n",
    "\n",
    "# Генерируем выборку из распределения N(bootstrap_mean, sigma)\n",
    "bootstrap_samples = np.random.choice(sample,\n",
    "                        size=[number_of_bootstrap_samples,size_of_bootstrap_samples]) \n",
    "\n",
    "# Считаем среднее для каждой выборки \n",
    "bootstrap_estimates = np.apply_along_axis(np.mean, 1, bootstrap_samples)\n",
    "\n",
    "# Вычисляем непараметрический бутстрэп доверительный интервал\n",
    "CI_Bootstrap_Nonparametric = [\n",
    "    np.quantile(bootstrap_estimates,alpha/2), \n",
    "    np.quantile(bootstrap_estimates,1-alpha/2)]\n",
    "\n",
    "print(\"ДИ на основе (непарметрического) бутстрэпа равен\", CI_Bootstrap_Nonparametric)"
   ]
  },
  {
   "cell_type": "code",
   "execution_count": null,
   "metadata": {
    "colab": {
     "base_uri": "https://localhost:8080/"
    },
    "id": "eBHnNlL3GT6u",
    "outputId": "09e2b818-580a-42ff-b800-d6dfe55fdd2b"
   },
   "outputs": [
    {
     "name": "stdout",
     "output_type": "stream",
     "text": [
      "Длина теоретического ДИ:  0.6690744334326268\n",
      "Длина ДИ на основе парметрического бустрэпа:  0.5373898941998014\n",
      "Длина ДИ на основе непарметрического бустрэпа:  0.954347981567885\n"
     ]
    }
   ],
   "source": [
    "# 4 сравние длины полученных доверительных интервалов:\n",
    "\n",
    "print(\"Длина теоретического ДИ: \", CI_Theoretical[1]-CI_Theoretical[0])\n",
    "print(\"Длина ДИ на основе парметрического бустрэпа: \", CI_Bootstrap_Parametric[1]-CI_Bootstrap_Parametric[0])\n",
    "print(\"Длина ДИ на основе непарметрического бустрэпа: \", CI_Bootstrap_Nonparametric[1]-CI_Bootstrap_Nonparametric[0])"
   ]
  },
  {
   "cell_type": "code",
   "execution_count": null,
   "metadata": {
    "id": "9IGVlfZ6GT36"
   },
   "outputs": [],
   "source": [
    "# эксперимент на 10000 выборках\n",
    "\n",
    "N_samples = 10000 # количество \"экспериентов\" по вычислению доверительных интервалов\n",
    "\n",
    "theoretical = np.zeros(N_samples) # результаты для теоретического доверительного интервала\n",
    "parametric_bootstrap = np.zeros(N_samples) # результаты для параметрического бутстрэпа \n",
    "nonparametric_bootstrap = np.zeros(N_samples) # результаты для непараметрического бутстрэпа "
   ]
  },
  {
   "cell_type": "code",
   "execution_count": null,
   "metadata": {
    "id": "ObUpj2PQL4l2"
   },
   "outputs": [],
   "source": [
    "# Вычисляем теоретический доверительный интервал\n",
    "\n",
    "def Theoretical(sample,alpha):\n",
    "    n = len(sample)\n",
    "    mean = np.mean(sample)\n",
    "    std = np.std(sample)\n",
    "    \n",
    "    return [\n",
    "        mean - stats.norm.ppf(1-alpha/2)*std/np.sqrt(n), \n",
    "        mean + stats.norm.ppf(1-alpha/2)*std/np.sqrt(n)]"
   ]
  },
  {
   "cell_type": "code",
   "execution_count": null,
   "metadata": {
    "id": "BRUzFMRvL4iZ"
   },
   "outputs": [],
   "source": [
    "# Вычисляем доверительный интервал на основе параметрического бутстрэпа\n",
    "\n",
    "def Parametric_bootstrap(sample,alpha,\n",
    "                         number_of_bootstrap_samples,size_of_bootstrap_samples):\n",
    "    n = len(sample)\n",
    "    mean = np.mean(sample)\n",
    "    std = np.std(sample)\n",
    "\n",
    "    bootstrap_samples = np.random.normal(mean,std,\n",
    "            size=[number_of_bootstrap_samples,size_of_bootstrap_samples]) \n",
    "    bootstrap_estimates = np.apply_along_axis(np.mean, 1, bootstrap_samples)\n",
    "    return [\n",
    "        np.quantile(bootstrap_estimates,alpha/2), \n",
    "        np.quantile(bootstrap_estimates,1-alpha/2)]"
   ]
  },
  {
   "cell_type": "code",
   "execution_count": null,
   "metadata": {
    "id": "mdC5_6gnL4f4"
   },
   "outputs": [],
   "source": [
    "# Вычисляем доверительный интервал на основе непараметрического бутстрэпа\n",
    "\n",
    "def Nonparametric_bootstrap(sample,alpha,number_of_bootstrap_samples,size_of_bootstrap_samples):\n",
    "    bootstrap_samples = np.random.choice(sample,size=[number_of_bootstrap_samples,size_of_bootstrap_samples]) \n",
    "    bootstrap_estimates = np.apply_along_axis(np.mean, 1, bootstrap_samples)\n",
    "    return [np.quantile(bootstrap_estimates,alpha/2), np.quantile(bootstrap_estimates,1-alpha/2)]"
   ]
  },
  {
   "cell_type": "code",
   "execution_count": null,
   "metadata": {
    "id": "Y3Cs6jC6L4c9"
   },
   "outputs": [],
   "source": [
    "# Проведем N_samples экспериментов\n",
    "for i in range(N_samples):\n",
    "    sample = np.random.normal(mu, sigma, size=n)\n",
    "    # теоретические интервалы\n",
    "    CI_Theoretical = Theoretical(sample,alpha)\n",
    "    theoretical[i] = (mu >= CI_Theoretical[0]) and (mu <= CI_Theoretical[1])\n",
    "    \n",
    "    CI_parametric_bootstrap = Parametric_bootstrap(sample,alpha,number_of_bootstrap_samples,size_of_bootstrap_samples)\n",
    "    parametric_bootstrap[i] = (mu >= CI_parametric_bootstrap[0]) and (mu <= CI_parametric_bootstrap[1])\n",
    "    \n",
    "    CI_nonparametric_bootstrap = Nonparametric_bootstrap(sample,alpha,number_of_bootstrap_samples,size_of_bootstrap_samples)\n",
    "    nonparametric_bootstrap[i] = (mu >= CI_nonparametric_bootstrap[0]) and (mu <= CI_nonparametric_bootstrap[1])"
   ]
  },
  {
   "cell_type": "code",
   "execution_count": null,
   "metadata": {
    "colab": {
     "base_uri": "https://localhost:8080/"
    },
    "id": "7Ddhz_jSQRr_",
    "outputId": "f38fb6f0-462d-4051-e1b5-01c96ace1bc8"
   },
   "outputs": [
    {
     "name": "stdout",
     "output_type": "stream",
     "text": [
      "Частота попадания истинного параметра в ДИ:\n",
      "- для теоретического ДИ 0.9407\n",
      "- для параметрического бутстрэп ДИ 0.912\n",
      "- для непараметрического бутстрэп ДИ 0.9116\n"
     ]
    }
   ],
   "source": [
    "print(\"Частота попадания истинного параметра в ДИ:\")\n",
    "print(\"- для теоретического ДИ\", np.mean(theoretical))\n",
    "print(\"- для параметрического бутстрэп ДИ\", np.mean(parametric_bootstrap))\n",
    "print(\"- для непараметрического бутстрэп ДИ\", np.mean(nonparametric_bootstrap))"
   ]
  },
  {
   "cell_type": "code",
   "execution_count": null,
   "metadata": {
    "id": "5VAA6ZjcQRmJ"
   },
   "outputs": [],
   "source": []
  },
  {
   "cell_type": "markdown",
   "metadata": {
    "id": "5OTSlNjbY3uo"
   },
   "source": [
    "### banner\n",
    "В файле Banner_small.npy даны две выборки из распределения Бернулли. Они соответствуют кликам по двум рекламным баннерам в Интернете. \n",
    "\n",
    "Постройте доверительные интервалы для частоты кликов (то есть параметра «успеха»). \n",
    "\n",
    "Сравните асимптотический дов. итервал и дов. интервал на основе непараметрического бутстрэпа для обоих баннеров.\n",
    "\n",
    "Как думаете, можно ли сказать, что один из баннеров лучше, чем другой? \n",
    "\n",
    "Проверьте свой вывод на выборке большего размера, которая записана в файл Banner_large.npy"
   ]
  },
  {
   "cell_type": "markdown",
   "metadata": {
    "id": "XB1KQnuZe0p9"
   },
   "source": [
    "*Выводы тут*"
   ]
  },
  {
   "cell_type": "code",
   "execution_count": null,
   "metadata": {
    "id": "RLWBBfPWe0qA"
   },
   "outputs": [],
   "source": [
    "# Код ниже"
   ]
  },
  {
   "cell_type": "code",
   "execution_count": null,
   "metadata": {
    "id": "VKQsdp_dilMu"
   },
   "outputs": [],
   "source": [
    "import numpy as np"
   ]
  },
  {
   "cell_type": "code",
   "execution_count": null,
   "metadata": {
    "colab": {
     "base_uri": "https://localhost:8080/"
    },
    "id": "GquqELb-i-JQ",
    "outputId": "357e11fe-cb71-4668-fc89-36af8125391b"
   },
   "outputs": [
    {
     "name": "stdout",
     "output_type": "stream",
     "text": [
      "--2021-11-24 18:29:25--  https://raw.githubusercontent.com/ilyaaaaaaaa/stat_HSE_DPO_21-Fall/main/data/Banner_small.npy\n",
      "Resolving raw.githubusercontent.com (raw.githubusercontent.com)... 185.199.109.133, 185.199.110.133, 185.199.111.133, ...\n",
      "Connecting to raw.githubusercontent.com (raw.githubusercontent.com)|185.199.109.133|:443... connected.\n",
      "HTTP request sent, awaiting response... 200 OK\n",
      "Length: 8128 (7.9K) [application/octet-stream]\n",
      "Saving to: ‘Banner_small.npy’\n",
      "\n",
      "Banner_small.npy    100%[===================>]   7.94K  --.-KB/s    in 0s      \n",
      "\n",
      "2021-11-24 18:29:25 (80.3 MB/s) - ‘Banner_small.npy’ saved [8128/8128]\n",
      "\n",
      "--2021-11-24 18:29:25--  https://raw.githubusercontent.com/ilyaaaaaaaa/stat_HSE_DPO_21-Fall/main/data/Banner_large.npy\n",
      "Resolving raw.githubusercontent.com (raw.githubusercontent.com)... 185.199.108.133, 185.199.109.133, 185.199.110.133, ...\n",
      "Connecting to raw.githubusercontent.com (raw.githubusercontent.com)|185.199.108.133|:443... connected.\n",
      "HTTP request sent, awaiting response... 200 OK\n",
      "Length: 1600128 (1.5M) [application/octet-stream]\n",
      "Saving to: ‘Banner_large.npy’\n",
      "\n",
      "Banner_large.npy    100%[===================>]   1.53M  --.-KB/s    in 0.05s   \n",
      "\n",
      "2021-11-24 18:29:25 (28.0 MB/s) - ‘Banner_large.npy’ saved [1600128/1600128]\n",
      "\n"
     ]
    }
   ],
   "source": [
    "! wget https://raw.githubusercontent.com/ilyaaaaaaaa/stat_HSE_DPO_21-Fall/main/data/Banner_small.npy\n",
    "! wget https://raw.githubusercontent.com/ilyaaaaaaaa/stat_HSE_DPO_21-Fall/main/data/Banner_large.npy"
   ]
  },
  {
   "cell_type": "code",
   "execution_count": null,
   "metadata": {
    "colab": {
     "base_uri": "https://localhost:8080/"
    },
    "id": "H_Eq9Iybimmy",
    "outputId": "501ffa05-c5f8-4630-ca6c-5f015ffab2ad"
   },
   "outputs": [
    {
     "data": {
      "text/plain": [
       "((2, 500), (2, 100000))"
      ]
     },
     "execution_count": 90,
     "metadata": {},
     "output_type": "execute_result"
    }
   ],
   "source": [
    "XL = np.load('Banner_large.npy')\n",
    "XS = np.load('Banner_small.npy')\n",
    "XS.shape, XL.shape"
   ]
  },
  {
   "cell_type": "code",
   "execution_count": null,
   "metadata": {
    "id": "olmXYp325TUG"
   },
   "outputs": [],
   "source": [
    "alpha = 0.05 # параметр ошибки"
   ]
  },
  {
   "cell_type": "code",
   "execution_count": null,
   "metadata": {
    "colab": {
     "base_uri": "https://localhost:8080/"
    },
    "id": "OE53yL715TQp",
    "outputId": "2994df08-eaa9-4f95-ee80-a28ed8cbf7c7"
   },
   "outputs": [
    {
     "name": "stdout",
     "output_type": "stream",
     "text": [
      "Оценка вероятности успеха, выборкa 1:  0.002\n",
      "Оценка вероятности успеха, выборка 2:  0.006\n",
      "\n",
      "Асимптотический ДИ на основе ЦПТ, баннер 1: (0.0, 0.005916006079184627)\n",
      "Асимптотический ДИ на основе ЦПТ, баннер 2: (0.0, 0.012769115216425226)\n",
      "\n",
      "ДИ на основе (непарметрического) бутстрэпа, баннер 1: [0.0, 0.006]\n",
      "ДИ на основе (непарметрического) бутстрэпа, баннер 2: [0.0, 0.014]\n",
      "\n",
      "Доверительный интервал Уилсона, баннер 1:  (0.00035313639455927543, 0.01124070670514676)\n",
      "Доверительный интервал Уилсона, баннер 2:   (0.002042596271960238, 0.017490252104053382)\n"
     ]
    }
   ],
   "source": [
    "import statsmodels.stats.proportion\n",
    "\n",
    "# XS\n",
    "n = 500 # размер выборки\n",
    "number_of_bootstrap_samples = 1000 # количество бутстрэп-выборок\n",
    "size_of_bootstrap_samples = 500 # размер бутстрэп-выборок\n",
    "\n",
    "print(\"Оценка вероятности успеха, выборкa 1: \",np.mean(XS[0]))\n",
    "print(\"Оценка вероятности успеха, выборка 2: \",np.mean(XS[1]))\n",
    "print()\n",
    "\n",
    "CI_Normal_1 = statsmodels.stats.proportion.proportion_confint(sum(XS[0]), n, alpha, method = 'normal')\n",
    "CI_Normal_2 = statsmodels.stats.proportion.proportion_confint(sum(XS[1]), n, alpha, method = 'normal')\n",
    "print(\"Асимптотический ДИ на основе ЦПТ, баннер 1:\", CI_Normal_1)\n",
    "print(\"Асимптотический ДИ на основе ЦПТ, баннер 2:\", CI_Normal_2)\n",
    "print()\n",
    "\n",
    "# Генерируем выборки:\n",
    "bootstrap_samples_1 = np.random.choice(XS[0], size=[number_of_bootstrap_samples,size_of_bootstrap_samples])\n",
    "bootstrap_samples_2 = np.random.choice(XS[1], size=[number_of_bootstrap_samples,size_of_bootstrap_samples])\n",
    "# Считаем среднее для каждой выборки для каждого барннера:\n",
    "bootstrap_estimates_1 = np.apply_along_axis(np.mean, 1, bootstrap_samples_1)\n",
    "bootstrap_estimates_2 = np.apply_along_axis(np.mean, 1, bootstrap_samples_2)\n",
    "# Вычисляем непараметрический бутстрэп доверительный интервал\n",
    "CI_Bootstrap_Nonparametric_1 = [\n",
    "    np.quantile(bootstrap_estimates_1, alpha/2), \n",
    "    np.quantile(bootstrap_estimates_1, 1-alpha/2)]\n",
    "CI_Bootstrap_Nonparametric_2 = [\n",
    "    np.quantile(bootstrap_estimates_2, alpha/2), \n",
    "    np.quantile(bootstrap_estimates_2, 1-alpha/2)]\n",
    "\n",
    "print(\"ДИ на основе (непарметрического) бутстрэпа, баннер 1:\", CI_Bootstrap_Nonparametric_1)\n",
    "print(\"ДИ на основе (непарметрического) бутстрэпа, баннер 2:\", CI_Bootstrap_Nonparametric_2)\n",
    "print()\n",
    "\n",
    "# Дополнительно:\n",
    "CI_Wilson_1 = statsmodels.stats.proportion.proportion_confint(sum(XS[0]), n, alpha, method = 'wilson')\n",
    "CI_Wilson_2 = statsmodels.stats.proportion.proportion_confint(sum(XS[1]), n, alpha, method = 'wilson')\n",
    "print(\"Доверительный интервал Уилсона, баннер 1: \", CI_Wilson_1)\n",
    "print(\"Доверительный интервал Уилсона, баннер 2:  \", CI_Wilson_2)"
   ]
  },
  {
   "cell_type": "code",
   "execution_count": null,
   "metadata": {
    "id": "AbWDLd0ePvRB"
   },
   "outputs": [],
   "source": [
    "# Можно предположить, что второй баннер лучше"
   ]
  },
  {
   "cell_type": "code",
   "execution_count": null,
   "metadata": {
    "id": "QPiB4nzM0KV-"
   },
   "outputs": [],
   "source": []
  },
  {
   "cell_type": "code",
   "execution_count": null,
   "metadata": {
    "colab": {
     "base_uri": "https://localhost:8080/"
    },
    "id": "b6_gVMmyxb5-",
    "outputId": "8e2d9efc-49d3-4f3a-9ca3-a3e57faf9fac"
   },
   "outputs": [
    {
     "name": "stdout",
     "output_type": "stream",
     "text": [
      "Оценка вероятности успеха, выборкa 1:  0.00547\n",
      "Оценка вероятности успеха, выборка 2:  0.00645\n",
      "\n",
      "Асимптотический ДИ на основе ЦПТ, баннер 1: (0.005012858448137027, 0.005927141551862973)\n",
      "Асимптотический ДИ на основе ЦПТ, баннер 2: (0.005953838785243252, 0.006946161214756748)\n",
      "\n",
      "ДИ на основе (непарметрического) бутстрэпа, баннер 1: [0.001, 0.01]\n",
      "ДИ на основе (непарметрического) бутстрэпа, баннер 2: [0.002, 0.011]\n",
      "\n",
      "Доверительный интервал Уилсона, баннер 1:  (0.005031469130789156, 0.005946523742342226)\n",
      "Доверительный интервал Уилсона, баннер 2:   (0.005972445015040758, 0.006965472568389962)\n"
     ]
    }
   ],
   "source": [
    "# XL\n",
    "n = 100000 # размер выборки\n",
    "number_of_bootstrap_samples = 2000 # количество бутстрэп-выборок\n",
    "size_of_bootstrap_samples = 1000 # размер бутстрэп-выборок\n",
    "\n",
    "print(\"Оценка вероятности успеха, выборкa 1: \",np.mean(XL[0]))\n",
    "print(\"Оценка вероятности успеха, выборка 2: \",np.mean(XL[1]))\n",
    "print()\n",
    "\n",
    "CI_Normal_1 = statsmodels.stats.proportion.proportion_confint(sum(XL[0]), n, alpha, method = 'normal')\n",
    "CI_Normal_2 = statsmodels.stats.proportion.proportion_confint(sum(XL[1]), n, alpha, method = 'normal')\n",
    "print(\"Асимптотический ДИ на основе ЦПТ, баннер 1:\", CI_Normal_1)\n",
    "print(\"Асимптотический ДИ на основе ЦПТ, баннер 2:\", CI_Normal_2)\n",
    "print()\n",
    "\n",
    "# Генерируем выборки:\n",
    "bootstrap_samples_1 = np.random.choice(XL[0], size=[number_of_bootstrap_samples,size_of_bootstrap_samples])\n",
    "bootstrap_samples_2 = np.random.choice(XL[1], size=[number_of_bootstrap_samples,size_of_bootstrap_samples])\n",
    "# Считаем среднее для каждой выборки для каждого барннера:\n",
    "bootstrap_estimates_1 = np.apply_along_axis(np.mean, 1, bootstrap_samples_1)\n",
    "bootstrap_estimates_2 = np.apply_along_axis(np.mean, 1, bootstrap_samples_2)\n",
    "# Вычисляем непараметрический бутстрэп доверительный интервал\n",
    "CI_Bootstrap_Nonparametric_1 = [\n",
    "    np.quantile(bootstrap_estimates_1, alpha/2), \n",
    "    np.quantile(bootstrap_estimates_1, 1-alpha/2)]\n",
    "CI_Bootstrap_Nonparametric_2 = [\n",
    "    np.quantile(bootstrap_estimates_2, alpha/2), \n",
    "    np.quantile(bootstrap_estimates_2, 1-alpha/2)]\n",
    "\n",
    "print(\"ДИ на основе (непарметрического) бутстрэпа, баннер 1:\", CI_Bootstrap_Nonparametric_1)\n",
    "print(\"ДИ на основе (непарметрического) бутстрэпа, баннер 2:\", CI_Bootstrap_Nonparametric_2)\n",
    "print()\n",
    "\n",
    "# Дополнительно:\n",
    "CI_Wilson_1 = statsmodels.stats.proportion.proportion_confint(sum(XL[0]), n, alpha, method = 'wilson')\n",
    "CI_Wilson_2 = statsmodels.stats.proportion.proportion_confint(sum(XL[1]), n, alpha, method = 'wilson')\n",
    "print(\"Доверительный интервал Уилсона, баннер 1: \", CI_Wilson_1)\n",
    "print(\"Доверительный интервал Уилсона, баннер 2:  \", CI_Wilson_2)"
   ]
  },
  {
   "cell_type": "code",
   "execution_count": null,
   "metadata": {
    "id": "JZNnr5Z62kSu"
   },
   "outputs": [],
   "source": [
    "# Второй баннер кажется более кликабельным"
   ]
  },
  {
   "cell_type": "markdown",
   "metadata": {
    "id": "HALykPFtX3yt"
   },
   "source": [
    "## Критерии однородности \n",
    "\n",
    "В каждом следующем упражнении необходимо воспользоваться всеми изученными критериями, которые можно использовать в данных постановках. \n",
    "\n",
    "Кроме этого, решения необходимо сопроводить краткими комментариями к Вашим действиям и выводами, которые Вы сделали на основе анализа."
   ]
  },
  {
   "cell_type": "markdown",
   "metadata": {
    "id": "esr8zh62Krdr"
   },
   "source": [
    "![photo_2021-11-18_22-22-52.jpg](data:image/jpeg;base64,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)"
   ]
  },
  {
   "cell_type": "markdown",
   "metadata": {
    "id": "nbHK4unpW5Js"
   },
   "source": [
    "### anorexia\n",
    "\n",
    "В файле anorexia.txt записан вес пациентов до начала терапии анорексии и после ее окончания. Была ли терапия в эффективна?\n"
   ]
  },
  {
   "cell_type": "markdown",
   "metadata": {
    "id": "66vFXfrSev6-"
   },
   "source": [
    "*Выводы тут*"
   ]
  },
  {
   "cell_type": "code",
   "execution_count": null,
   "metadata": {
    "colab": {
     "base_uri": "https://localhost:8080/",
     "height": 204
    },
    "id": "wSS91lLsev6_",
    "outputId": "189506d3-c072-4e85-8647-1df776d16e9c"
   },
   "outputs": [
    {
     "data": {
      "text/html": [
       "<div>\n",
       "<style scoped>\n",
       "    .dataframe tbody tr th:only-of-type {\n",
       "        vertical-align: middle;\n",
       "    }\n",
       "\n",
       "    .dataframe tbody tr th {\n",
       "        vertical-align: top;\n",
       "    }\n",
       "\n",
       "    .dataframe thead th {\n",
       "        text-align: right;\n",
       "    }\n",
       "</style>\n",
       "<table border=\"1\" class=\"dataframe\">\n",
       "  <thead>\n",
       "    <tr style=\"text-align: right;\">\n",
       "      <th></th>\n",
       "      <th>Before</th>\n",
       "      <th>After</th>\n",
       "    </tr>\n",
       "  </thead>\n",
       "  <tbody>\n",
       "    <tr>\n",
       "      <th>0</th>\n",
       "      <td>80.5</td>\n",
       "      <td>82.2</td>\n",
       "    </tr>\n",
       "    <tr>\n",
       "      <th>1</th>\n",
       "      <td>84.9</td>\n",
       "      <td>85.6</td>\n",
       "    </tr>\n",
       "    <tr>\n",
       "      <th>2</th>\n",
       "      <td>81.5</td>\n",
       "      <td>81.4</td>\n",
       "    </tr>\n",
       "    <tr>\n",
       "      <th>3</th>\n",
       "      <td>82.6</td>\n",
       "      <td>81.9</td>\n",
       "    </tr>\n",
       "    <tr>\n",
       "      <th>4</th>\n",
       "      <td>79.9</td>\n",
       "      <td>76.4</td>\n",
       "    </tr>\n",
       "  </tbody>\n",
       "</table>\n",
       "</div>"
      ],
      "text/plain": [
       "   Before  After\n",
       "0    80.5   82.2\n",
       "1    84.9   85.6\n",
       "2    81.5   81.4\n",
       "3    82.6   81.9\n",
       "4    79.9   76.4"
      ]
     },
     "execution_count": 94,
     "metadata": {},
     "output_type": "execute_result"
    }
   ],
   "source": [
    "# Код ниже\n",
    "\n",
    "import pandas as pd\n",
    "\n",
    "df = pd.read_csv('https://raw.githubusercontent.com/ilyaaaaaaaa/stat_HSE_DPO_21-Fall/main/data/anorexia.txt', sep='\\t')\n",
    "df.head()"
   ]
  },
  {
   "cell_type": "code",
   "execution_count": null,
   "metadata": {
    "colab": {
     "base_uri": "https://localhost:8080/"
    },
    "id": "phm2k3CF4-sY",
    "outputId": "3cc4426d-3a4b-47e9-ff6c-163c3eccf6f7"
   },
   "outputs": [
    {
     "data": {
      "text/plain": [
       "(29, 2)"
      ]
     },
     "execution_count": 95,
     "metadata": {},
     "output_type": "execute_result"
    }
   ],
   "source": [
    "df.shape"
   ]
  },
  {
   "cell_type": "markdown",
   "metadata": {
    "id": "aXhyF6KASqvt"
   },
   "source": [
    "#### Решение (вариант № 1) - непараиметрический"
   ]
  },
  {
   "cell_type": "code",
   "execution_count": null,
   "metadata": {
    "colab": {
     "base_uri": "https://localhost:8080/"
    },
    "id": "ASUxrj9KSKFc",
    "outputId": "ae62d5ef-d280-48bf-cc72-6e89e41fb1b1"
   },
   "outputs": [
    {
     "data": {
      "text/plain": [
       "WilcoxonResult(statistic=131.5, pvalue=0.06291972262602667)"
      ]
     },
     "execution_count": 96,
     "metadata": {},
     "output_type": "execute_result"
    }
   ],
   "source": [
    "import scipy\n",
    "from scipy.stats import wilcoxon\n",
    "\n",
    "scipy.stats.wilcoxon(df['Before'], df['After'])"
   ]
  },
  {
   "cell_type": "markdown",
   "metadata": {
    "id": "KtgGsTXg6MRx"
   },
   "source": [
    "**Таблица критических значений T-критерия Вилкоксона:** \n",
    "https://statpsy.ru/wilkoxon/tablica-willcoxon/\n",
    "\n",
    "*   Если расчетное (эмпирическое) значение Тэмп. меньше табличного Ткр. или равно \n",
    "ему, то признается статистическая значимость изменений показателя в типичную сторону (принимается альтернативная гипотеза). \n",
    "\n",
    "Достоверность различий тем выше, чем меньше значение Т.\n",
    "Если Тэмп. больше Ткр., принимается нулевая гипотеза об отсутствии статистической значимости изменений показателя.\n",
    "*   Если Тэмп. больше Ткр., принимается нулевая гипотеза об отсутствии статистической значимости изменений показателя."
   ]
  },
  {
   "cell_type": "code",
   "execution_count": null,
   "metadata": {
    "colab": {
     "base_uri": "https://localhost:8080/",
     "height": 36
    },
    "id": "wf-fWoTHSJ9V",
    "outputId": "43869370-70ae-4628-fa3f-079a8b477bcc"
   },
   "outputs": [
    {
     "data": {
      "application/vnd.google.colaboratory.intrinsic+json": {
       "type": "string"
      },
      "text/plain": [
       "'The therapy was effective.'"
      ]
     },
     "execution_count": 97,
     "metadata": {},
     "output_type": "execute_result"
    }
   ],
   "source": [
    "T_imp = 131.5\n",
    "T_crit = 140\n",
    "\n",
    "# Сравниваем Тэмп. с Ткр., который при уровне значимости p=0.05 и n=29 равен 140:\n",
    "'The therapy was effective.'if T_imp <= T_crit else 'The therapy wasn`t effective.'\n",
    "\n",
    "# Различия статистически значимы"
   ]
  },
  {
   "cell_type": "code",
   "execution_count": null,
   "metadata": {
    "id": "hEusev4vZcBK"
   },
   "outputs": [],
   "source": []
  },
  {
   "cell_type": "markdown",
   "metadata": {
    "id": "SGbwvW7YZfBb"
   },
   "source": [
    "#### Решение (вариант № 2) - параметрический"
   ]
  },
  {
   "cell_type": "code",
   "execution_count": null,
   "metadata": {
    "colab": {
     "base_uri": "https://localhost:8080/",
     "height": 279
    },
    "id": "6xXQu-c1Zb7V",
    "outputId": "c752a545-ff38-48ab-f38b-3be21d101096"
   },
   "outputs": [
    {
     "data": {
      "image/png": "[encoded data removed]",
      "text/plain": [
       "<Figure size 432x288 with 1 Axes>"
      ]
     },
     "metadata": {
      "needs_background": "light"
     },
     "output_type": "display_data"
    }
   ],
   "source": [
    "import seaborn as sns\n",
    "\n",
    "sns.histplot(df['Before'], kde=True, bins = 10);"
   ]
  },
  {
   "cell_type": "code",
   "execution_count": null,
   "metadata": {
    "colab": {
     "base_uri": "https://localhost:8080/",
     "height": 279
    },
    "id": "Eje6wCDrcNVD",
    "outputId": "b5ed8872-5819-472c-e671-b8ec2fd8dc24"
   },
   "outputs": [
    {
     "data": {
      "image/png": "[encoded data removed]",
      "text/plain": [
       "<Figure size 432x288 with 1 Axes>"
      ]
     },
     "metadata": {
      "needs_background": "light"
     },
     "output_type": "display_data"
    }
   ],
   "source": [
    "sns.histplot(df['After'], kde=True, bins = 10);"
   ]
  },
  {
   "cell_type": "code",
   "execution_count": null,
   "metadata": {
    "colab": {
     "base_uri": "https://localhost:8080/",
     "height": 265
    },
    "id": "FgSGxwE-Zb1F",
    "outputId": "153b93c4-76d0-464a-b633-b505e2133bd8"
   },
   "outputs": [
    {
     "data": {
      "image/png": "[encoded data removed]",
      "text/plain": [
       "<Figure size 432x288 with 1 Axes>"
      ]
     },
     "metadata": {
      "needs_background": "light"
     },
     "output_type": "display_data"
    }
   ],
   "source": [
    "import matplotlib.pyplot as plt\n",
    "\n",
    "plt.style.use('seaborn-deep')\n",
    "plt.hist([df['Before'], df['After']], label=['Before', 'After'], bins = 10)\n",
    "plt.legend(loc='upper right')\n",
    "plt.show()"
   ]
  },
  {
   "cell_type": "markdown",
   "metadata": {
    "id": "GKD4vt8rJLJl"
   },
   "source": [
    "![p.jpg](data:image/jpeg;base64,/9j/4AAQSkZJRgABAQEAeAB4AAD/2wCEAAgICAgJCAkKCgkNDgwODRMREBARExwUFhQWFBwrGx8bGx8bKyYuJSMlLiZENS8vNUROQj5CTl9VVV93cXecnNEBCAgICAkICQoKCQ0ODA4NExEQEBETHBQWFBYUHCsbHxsbHxsrJi4lIyUuJkQ1Ly81RE5CPkJOX1VVX3dxd5yc0f/CABEIBQADXwMBIgACEQEDEQH/xAAyAAEAAgMBAQAAAAAAAAAAAAAABAYBAwUCBwEBAQEBAQEAAAAAAAAAAAAAAAIBAwQF/9oADAMBAAIQAxAAAAD7YYsbfco6QI6QI6QI6QI6QI6QI6QI6QI6QI6QI6QI6QI6QI6QI6QI6QI6QI6QI6QI6QI6QI6QI6QI6QI6QI6QI6QI6QI6QI6QI6QI6QI6QI6QI6QI6QI6QI6QI6QI6QI6QI6QI6QI6QI6QI6QI6QI6QI6QI6QI6RpMCjGcEmFN+dZHbtnzrn9OX15j59y7fQlB97N7Vg2zvlVk3LiqMLNvalcTc+oKd3J3qqVp3L0+fWlvYz8puzLAh1bNuqiQKz6U+Q3AtuflNmLg+eQWfUVW9ZVnVaAXh8817n0fFZqR9UUips+xuJHm7G+R2SovD5brPq2OFQG/XHCo+PqygSi6vmHe1cM/KLmWRRPGL6oU8t6FXcq3vl/Vqb0pW3NuL5H39m+qNwT6uoVZPsakcNv1PFap59WRZUdAAAAAAAAAAEKbCNGcZsxnBK+c/Rau50i7WDp7nzfuWv54ytQblu68qNeurGiq1z+j36ygvulAnaN2+9z6nnaLjYcr5zUvp/Iqfnt773azaJ2+RdM2xfEft/yaLi6rrBvnz/Ng47evQ/N93KXOmadzHS7NKmu1wdnAuLlULV4zeL2rFwM23/O/q1Qjp9BoF/rEXFpn0XgdOVOmVy19OXG+u82jx09cH65RWc2FcpFZwPHR0yttE0/Q1fHrNYdVTw4P0aj4+w/LPqtJ5d7B8a+2fPr50K6WqPU+qd9E4E1U7Q5NTbqR9ZpcXS+1YeLUWz5h9Iqbb73OZ0+PoDNAAAAAAAAAQpsI0ZxmzGcEqVFlQAAAAAAAAAAAVK2tzx7M3HF7ZnK6oA0BX7AYDQAAAKnbDcDNAAVuyNyNJM0DibOu3AzQAAAAAAAAAAAAAAAAAEKbCNGcZsxnBKlRZUAAAAAAAAAAAAAAAAAAAAAAAAAAAAAAAAAAAAAAAAAAAAAAAAAAEKbCNGcZsxnBKlRZUAAKju5naN3RpnfNHZ+azy9zPkn1oiw/lNiLZMqs07sWrSS2baRzD6Bu4fHLJ2PltvOtF5WosqueDuTqlXT6fsos8sG3jcYtm+r+C4y/kv0Y2aqxguMX590iz+qRdDpcqrwD6jyuNpO516rUy+9bl1g+j8rlaCtfSK5Vi+T6l7LDMqPDPpT531i3RODxD6Juq8M7nS9fLj6fmgwT6XyKPOLnXIHDPs+fHsAAAAAAAAAAAAQpsI0ZxmzGcEqVFlQAA5HNtIq3m1jk6O6OT1g41M+mYKf1O6K3Htgr8zqCv8AmxDj7+iOX56w4e7rCpTu+KLD+jCoxruPnuPoYo9vkjh6LGOVyLYKhMsYr3Kuw4UnqCqzu4KZPsg4fX2il9/qip9DuDk8K5iucm8iq77GORv6ArErujleeuORxbiODu7AAAAAAAAAAAAAAQpsI0ZxmzGcEqVFlQAAAAAAAAAAAAAAAAAAAAAAAAAAAAAAAAAAAAAAAAAAAAAAAAAAQpsI0ZxmzGcEqVFlQAAAAAAAAAAAAAAAAAAAAK7CqbexompCr7NmxxazJ3O5Lq8w7rncDNuBXm2FUrObirloV6wgZoAAAAAAAAAAAAAAAAAACFNhGjOM2YzglSosqAAAAAAAAAAAAAAAAAAAAFH9ee7049HdxZEXSvV52XNK22fbiv8AE+gwyqdKxam9LldWDN1zp94nkVL6Dzdzl9rxGb2xNgAAAAAAAAAAAAAAAAAAIU2EaM4zZjOCVKiyoAAAAAAAAAAAAAAAAAAAAAAAAAAAAAAAAAAAAAAAAAAAAAAAAAAIU2EaM4zZjOCVKiyoAAAAADBlS7WSQAAAAAAAAAAAAAAAAAAAAADyelKt5uAAAAAAAAAAAAAAAAAAAhTYRozjNmM4JUqLKgABy+R2OPUca9U68blTRUdJXEjzDNmrfg5lsiiN1+FzDN9oO06Xvmyzqcix1Amdfh9U9QpEAsHXj7isSuTIOrypNWLL0tfHNs3k2Yg8nfAOt7hiL9M+f/QD55O3xDS16hbebzDPR4HZPMWZzSyQ90UiXX599AKTAl+zFirmCJbOfzDowvPk2e+j7Jdg+V/UT5yjDvRk818Po8MvFS0+S1ub0C2gAAAAAAAAAQpsI0ZxmzGcEqVFlQAAAAAAAAc3pBy+oAAAAAAAAAAAAAAAAAAAAAAAAAAAAObM3CtWL2AAAAAAAAAAEKbCNGcZsxnBKlRZUAAK/wCePFJfTqnTOpAq1qNPf41bLH1eLHO7D4GS2aOd7J82hdI7Ojk7zsSaXgtlu+T/AEA7VEvdHOvzq50Do7vHNJMzidghS/NOPoMJUi97qX0zvuPwS5aK/LL9R7l89O3AleBMo0ksU6n9U6GzidoneePyixbqN9BOHN8co78eBDPp7k9YAAAAAAAAAAAAAAAAAAQpsI0ZxmzGcEqVFlQAA8vQrdjyMY9DznIwyMa9o849jy9DznI8vQxx+yGMjDIxj0NW0PPjaMefY8esjznIx42Br2BjI07g1cOwjxn0PGfQ8esjz52DznIxkAAAAAAAAAAAAAAAAAAEKbCNGcZsxnBKlRZUAAAAAAAAAAAAAAAAAAAAAAAAAAAAAAAAAAAAAAAAAAAAAAAAAAEKbCNGcZsxnBKlRZUAAAAAAAAAAAAAAAAAAAAAAAAAAAAAAAAAAAAAAAAAAAAAAAAAAEKbCNGcZsxnBKlRZUAAAAADHk9vA9vA9vA9vA9vA9vA9vA9vGDY8D28D28D28D28ZPTwPbwPbwPbwPbzg9vA9vA9vA9vOD28D28D28D28D28D28D28D28D2AAAAAAAAAAAAABCmwjRnGbMZwSpUWVAAABr2aCrd+ndsl9itWQ9ePXk9sDLAywPPvVsMsDLAVux1fvlqYcNywMsDz71bDnbo26O89jnXw6mqo+i3qdZSVzelyZ6T5ESVs496/ezlgZYEWBM5/Z3mHFlgZYHn3q2GWBlgZ8evBsYyZ9ePYOGzuKJaKzptVTzbgqUbZunFjwGXRVtqrIoVxxK9cTllvcfr5pVNFTcyr5VoUyZuWcTSFNhGjOM2YzglSosqAAAAAHjOMnrx78HsAABjJhxO3oqfT652ajMjdMtg8tYYrU9LM8cTXZ98LM1I36dytlf0XO/OxnBmnXHya+Zxu1PWXNhTdnTtrvYypLleTsKvaGQOd0ud6ePfcWby2arGeizud0eO69mvYAANezWbMZwY9efQ4Hf4e5WbFv8AVR1/m1u7eVROb9N87NC71hZvyfq/QfWz85+i49TfD5ttycmZKN+a9O6qj1VrSm6T0LM2Qm0KbCNGcZsxnBKlRZUAAAAAPGcZPXj34PYAANPN6UelB+k17peufn9U+i+/rRG60WV86rQPm3w+Jaar5/qdiq3LlL4vW87869nh9ytdvlWjoF8GM4Mg4MC1/Ps63iVFlope3E7h9Sv7+pqzty71ULfXjj8PuwPd82tz5z15RvNne7J1o4fc+Levbr2cdAAa9ms2Yzgx68+gArnksqtRi3IlML8qEMvb5t3S2KQLup8Av6vaC0KHtLuo+C8qkLaBCmwjRnGbMZwSpUWVAAAAaTcoFiO1mt2E2+Gs3vA9vA9vA9Z0bD28D28D3V7JWu2Wl4cd9vA9vAxs0bCoWH579C5+vovDp5PePOokPA9V7vciesexfOfoZ69aNlcvbwPbwIvPmwuzuvDi9vA9vAxsj7T28D28D3rzrN+POD1617AChcr6kPnEu+YONVvoeCrx7iPhnf8Aqg+Ye/plfK/MueT5rp+oD4x9EsWSk876Pg+fvoIAQpsI0ZxmzGcEqVFlQAAAa9gpfX7o4HcZPWvZ4PYAANO4AAPNXtVQ75bfRw0ADTwLBRc6ebjWbNy9/QHb5jTuwZB45PY409apb+RD5+q57vPrt4AAIHPn87ssI4gANO7XsAAGndrNmM4MevPoAAAAAAAAAAAAAQpsI0ZxmzGcEqVFlQAAAAA8Zxk9ePfg9gAAAAAxU7ZWO2WgcdAA49bdjl7efZK5Zc6zh2+axnBkGON2eRPXlcnr7eP1O5LpN29HxwYBB5vT5/d3RwAAa9mvYAANezWbMZwY9efQAAAAAAAAAAAAAhTYRozjNmM4JUqLKgAAKsWlVrOemn0Zzr2Hrx78HsAAAAACr2es9ss446A1baa3k2PTv8/1oFkrljrlPHb5rGcGQY5PW5M9eVv0b+H1q99Fpk/r86yjp5QIMGfB7O2OIADXs17AABr2azZjODHrz6AAAAAAAAAAAAAEKbCNGcZsxnBKlRZUAAFYs9HNF1rVrPndrijVZ4s0aZHgy9Dy9Dy9CNv17jy9Dy9DVWbXVu2WX16cd8vQ0/PrDE5+rd7z75fQ5tjr9krhMz6d/medMjBh6GnldrkT15G7xI4fW0cjt8uuN4zz+l3+V5ehzoPS5/bO29OO+XoeXoR93jaeXoeXoedEnWevOzB59+fQAAAAAAAAAAAAAhTYRozjNmM4JUqLKgAAqVtFfsAAeM4yevHvwewAAAAAYqNuqPfLeOGjilZ7fN6fD63j349z05tmrVlrh0B3+YxnBkGON2eLPbmSosnh9Xz78e2ce+fPrr3+ZMFcOfzujzu82EcKAA17NewAAa9ms2Yzgx68+gAAAAAAAAAAAABCmwjRnGbMZwSpUWVAAAAADxnGT149+D2AAAAADFXtFZ7ZZxx3FAsnDj0dQcfpePfj2QLJXLHfCeO3zGM4MgxyOvyJ68vfo38Preffj2zHJ63Frhf0Kb3+ZC5/Qg9nbHEABr2a9gAA17NZsxnBj159AAAAAAAAAAAAACFNhGjOM2YzglSosqAAAAjGuX89tJ1NvI6Zu8efBIahtahtahtR/ZtahtahsrNhrXbLW0VfjXL78CZw+r7eE9HvRsIljrFjvh02p2+Ztxr1klqGzkdLlT250iJv4fUz70bD28DkX2i9rv8AN6kCVB9HnsDU4trUNrUM7I2w2tQ2tQ268ayTjWPfrx7AAAAAAAAAAAAAEKbCNGcZsxnBKlRZUAAAGMivdaWIcrGT149+D2AAAAADFYs9R75YaV4sXj9wc/aB49+PZz7LWbLfDoDt8xjODIMcjr8aevNkRpHD63n349sAxX7D5qOrDqFt9vye+OOAAa9mvYAANezWbMZwY9efQAAAAAAAAAAAAAhTYRozjNmM4JUqLKgAAAAB4zjJ68e/B7AAAYyADWe/kM/jezv9A2ny/pBmgePfj2c2y1yy1wnjv8xjODIMcXtceevKkx5HD63n349sAA5fK79H+j5fsufnf0Lh4PQzANezXsAAGvZrNmM4MevPoAAAAAAAAAAAAAQpsI0ZxmzGcEqVFlQAAAAOFKOhmFNPXj3gyAAaTZ64PKbcnzvk31t1Qlye3p88rr8f1db4PidgwB49+PZAslcsd+eeO3zWM4Mgxx+xyZ68rfo38Preffj2wACNUrbUvp8p0PoNyy2P5Xr4+T6u+fdHnwtm3jdTJ2gAa9ms2Yzgx68+gAAAAAAAAAAAABCmwjRnGbMZwSpUWVAAABHkD5z3+zk4NlD1y+l5Kti1m1LxcWqSuptR6Hc9bfDdxrhO6OFxLxXu09ROx5LhJohJo52yZk4fS07cubnyvzetfrybHkOZ0uZPTzI2SV87ZL9MhJohJo4/Gs8L0zpd1z3hZ7jHC898U7Xc/WTStlyMqWbWzKv253lmzGB79+PYAAAAAAAAAAAAAhTYRozjNmM4JUqLKgAAAAABoizOeV+61O2ACNJ1HN4/ZgFlABo5vT45AttcsYAiytJAg9vmnaAB5+ffQaUXcAAFRt3H7AABrpVzqZcgAPHvUUm91C3gAGmoWmvlsAAAAAAAAAAAAAAAhTYRozjNmM4JUqLKgAAAAAAAAAAAAAAAAAAAA86/mJ9UYyAAAAAAAAAAAAAAAAAAAAAAAAAAAAIU2EaM4zZjOCVKiyoAAAAAAAAAAAAAAAAAAAAaNcsAAAAAAAAAAAAAAAAAAAAAAAAAAAAAIU2EaM4zZjOCVKiyoAAAAAAAAAAAAAAAAAAAAAAAAAAAAAAAAAAAAAAAAAAAAAAAAAAIU2EaM4zZjOCVKiyoAAAAAAAAAAAAAAAAAAAAAAAAAAAAAAAAAAAAAAAAAAAAAAAAAAIU2EaM4zZjI27YeJTUITUITUITUITUITUITUITUITUITUITUITUITUITUITUITUITUITUITUITUITUITUITUITUITUITUITUITUITUITUITUITUITUITUITUITUITUITUITUITUITUITUITUITUITUITUITUITUITUITUITdGnJ6FBgxiRtlCTRCTRCTRCTRCTRCTRCTRCTRCTRCTRCTRCTRCTRCTRCTRCTRCTRCTRCTRCTRCTRCTRCTRCTRCTRCTRCTRCTRCTRCTRCTRCTRCTRCTRCTRCTRCTRCTRCTRCTRCTRCTRCTRCTRCTRCTRCTRCTRCTRCTRCzM0HgUYzgk8Hv8AzlzjX+q8Tpy+vPNA49voT5V7qfqSlbcq4Y+Tztn6WoHMPqT5pyNfYXzm1TXdfNouz9SfGr4Wl8gtZdET59lfTXy3n1P2F8Qt59Az8b7J9KfI4jPs6ibZq7qPyNfT3z3hM+vqDXT7Bj5/Rtz704nIm7i+Ndmp+mPinnc+3eaVUZ37Ip9FPtb5VKPpWfjvcPoz41ay9Plng+rPlHSPoqBTcr6C+V52fqb5V0dfQ3xnqM+pPl3JPs751TD7w+Zcxv2BUaPj7M5nUjoDQAAAAAAAAEKbCNGcZsxnBJ+dfReTnOl3PqzNfOeldaFuU2P9MzfL5hbbhjK+be7B39ygcz7tVpr5VarhW7jkRfonWmvmNH+3x6n5Va7n1Z35bb+Va1dz4f8AcPk+brh/RNWzV/NyrZ7qc/6HufLZlx0HD2XWqZsXjWOm3HV4P0hm0nvXin5tt+a/WuHHS0UG/cWa5NM+ocu+fzGZzb/15Uz6V0qTz6c2vfbqTuVOF9QlMp8Trwdd2rzfoE18Lst58VNV4H0yqn1T5V9VrvHtM+I/eq3c/L7LfNFRzqb9S5k183sdl4tT16P9frcX8ysd2qVxYvmH1Ot5VnsEeRy7BmgAAAAAAAAIU2EaM4zZjOCVKiyoAAAAAAAAAAAOT1jAaiyho3gAAjSQAAAAByuqwzIaAAgT8Hn2AEHbJMBoAAAAAAAAAAAAAAAAACFNhGjOM2YzglSosqAAB58G0AAAAAAAAAAAAAAAAAAAAAAABy55tAAAAAAAAaPBKAAAAAAAAAAAAAhTYRozjNmM4JUqLKgABRJGjsEfs07okOzUrBarH8t+onBhUDvHY7dWlHYh1+SWCXVOaXvxyOUdrv8Azi2kqDjUdbzxskzdxOEfQN9E6JZvHG5ZZpFaFt63xj6UedHFFogVDeWSXRbqSOVXuefUOLB9nVk1ivFw7PPrh9Mr/EnlQv8Axq2Wrp1rYdmZXq0fSNXz7qlvhcXkl8kcfnnTm7vmJfpVZ5JeuJWpha65H5h9iePYAAAAAAAAAAAAhTYRozjNmM4JUqLKgABF53bHOz0Bo8yRGkhFq9yHJkzRz9PWELbIHP8AU4Rfe8R0gQ/ckcubvHBgW0cPXYBVdVvHB7uRE1dAR9E8cnPVEfm9oQ9kgcyVJHG29QRJYcfqbBypMwRuX3RE5neHI3dEQpXscqZJEbEoRuf2RFSgAAAAAAAAAAAAAhTYRozjNmM4JUqLKgAAAAAAAAAAAAAAAAAAAAAAAAAAAAAAAAAAAAAAAAAAAAAAAAAAhTYRozjNmM4JUqLKgAAAAAAAAAAAAAAAAAAAAVKFUXp40TcpS/FRd+fUpx3OnV9Jblf4ZfNezhZXdVDtM6rxT23NUrYZGaAAAAAAAAAAAAAAAAAAAhTYRozjNmM4JUqLKgAAAAAAAAAAAAAAAAAAABRtPTs18nrjyJ6Uadf1R82l30U3ifTRQZ9wYV+wYy6lYJxnJpf0puVeb1YxPE2AAAAAAAAAAAAAAAAAAAhTYRozjNmM4JUqLKgAAAAAAAAAAAAAAAAAAAAAAAAAAAAAAAAAAAAAAAAAAAAAAAAAAhTYRozjNmM4JUqLKgAAAR5AYGXnUb1FuRIYGXn0Hn0HnJkwZYyGBkBgZYwemBljIMGWMhjIecmXnJl59B5yZYwejBl59B5jEtRbobnkejyenkegGBlgZYGWMHpgZAAAAAAAAAAhTYRozjNmM4JUqLKgABwa3eY1c/nX0zk2E+c+bNmelZ5dilHL6EWUUmy2DaVPpZ4Ryr7xtBBkduUc6u/R66VqxypBx+RbPBr7/v0UDHf6Bxa/d+Gc6VcIRTex0OyUHRfOIcrNh9FK+v1W2HzHbZ9JwIHaklesk+EVbu+pxwVj5BMhWGMU/wCj1m3Hz/i2TrHC6MSYVGz9SKcL32oBB9Wj2ce60O9nx/1ZhB8WKWVarfSOeTqdulnS9QrAWMAAAAAAAAACFNhGjOM2YzglSosqAAAAAAAADRvCPIAAAAAAAAAAAAAAAAAAAAAAAAAAAAEfd6HM6WQAAAAAAAAAAhTYRozjNmM4JUqLKgABT9e/Qc3pcCwnO8a+8V/s7+EaOxO0EDkdmUec5HM7fI2EDPXyQJkDUevo/wA/7pZvm/0ipmrj+u2cnb0o5A36O8VmJaeGT+ZbKqdn3x+seuZ1opqh9GeWKgX+gG/n2bSVbrR8nJseI5536uuOXu1HJ6ui5lFndPkkrmdTyXlx+wAAAAAAAAAAAAAAAAAAIU2EaM4zZjOCVKiyoAAAcnrAAAAAAAAAhzAAAAAAAAAAAAA5PWAAAAAAAAAAAAAAAAAAAAAAAACFNhGjOM2YzglSosqAAAAAAAAAAAAAAAAAAAAAAAAAAAAAAAAAAAAAAAAAAAAAAAAAACFNhGjOM2YzglSosqAAAAAAAAAAAAAAAAAAAAAAAAAAAAAAAAAAAAAAAAAAAAAAAAAACFNhGjOM2YzglSosqAAAAAA8Htr8m5rGxrGxrwbM86W3c1mbGsbGqEdJqybGsbGsbGn0bGsbGsbGsbGsbGsbGsbGrJsaxsaxsRfBNaxsaxsa8G1z5TdzWZsaxsa/Jua/Zl59AAAAAAAAAAAAACFNhGjOM2YzglSosqAAADRv1lDs/F6xH73EsB41yfB5bRqbRqbRXO5xe/Pfw2q4am0aa3aax1yxtrluptGptEf3nYam0am3gHU5sLqE/wBVjsE9tGptEbZ79GptGptHOgdOB2ddtcWptGptFb73DsMd9bavhqbRq1ydZjG7B59+fQK7uWJ88suz3Wqk5t7UDzs32uR/erao+zNuj5Z9IJfis6Du9OLvyvSj6di/lTy7PspTYuwnohTYRozjNmM4JUqLKgAAAAB4zjJ617NZ6cTXHo77lc0syq9vc51irVkbnNJuvfzZxRJfXLhV/OvVvHkoADXs17AeTlxefcBjODNWtIhzKjbgDz68+gACDz53F7zaVT6Le2pebXRyOt5trdkrNm5+jygcXctaDXMXDVwJTe5jOL8+PXn0Y4Pe5W5VrHJ9bEilWrqNqvH+hCldnuD5t1bo3Kjbib1Vm1jidTeKB0ra2FcsbLp/Z65gZSFNhGjOM2YzglSosqAAAAAHjOMmeb0debyeDYPHL6HMdaNleM+e1s8b3nv9fNRL5yN/r8tGpn03pfVmudSR58W2gfNsADXs17BU7PWSz7AYzgyDnwO/Uy2MZPPrz6AAIHJ68DvPFndGP6FD83Tz7p8W7ndH491myV+w+f0xqZb+RHo8w+/yp6TuVPm7HVxnHf52PXn0AAFY4J9FfO/R9CfFrUX98y3H0dRtRflAjH0h8b6h9QfPemW9806pdgAIU2EaM4zZjOCVKiyoAAACMbHz63HT91Szm7x58EhqG1qG1qHD79e7s99zUrhtahsrNirXbLU1OO7WobWoZ2RvZWbTUrWbWobca/BIahth7xw7DT7cPWj0bWobWoR4EuB2WBqcW1qG1qHCsFd70d9zUvhtaht148EjGse/Xj2AAcDgX4V3NhHzTsXMV2ofUeacLr9gfPfd/FJ6VkFf59wFQ22oAAIU2EaM4zZjOCVKiyoAAAPPoVeZ3ByepjJ68e/B7AABXu/wO/Hf0L4AYrNmq/bLSOOgAa65Y6sWfcADGcGQAczR2qoWn159AAEKDOgds7g46ABXu/XbHHfIvgA17NZsxnBj159AAAAAAAAAAAAACFNhGjOM2YzglSosqAAAAAHjOMnrx78HsAAFZs1Zs3P0h08wGKlbal3y3DhoAHAmcO3gADGcGQAK/YMHP6NQt4ABz+d0ud3mwDhQAFXs9Zs3P05HTzANezWbMZwY9efQAAAAAAAAAAAAAhTYRozjNmM4JUqLKgAA8+qiWv3VLSenI3k3MOYevHvwewAAV6wV/vx39C+AGKvaKz2yzjjoCJLqJJsuraAAMZwZAABT7fF4pZQAQoE+D2ztjjoAFdsNf78d/QvgA17NZsxnBj159AAAAAAAAAAAAACFNhGjOM2YzglSosqAADg975mTrrXbUfPbRjBr7caaePEjweW0am0am0VvvcTvx38Nq+GptGqs2qsdssba47qbRoq2+xGPedhqbRqbRq8SMGttGptGptGirW7nk1y+yam0c6B0oHZ2G1xam0am0Vrv8Kwx38Nq+GptGrxI1hsweffn0AAAAAAAAAAAAAIU2EaM4zZjOCVKiyoAAOR1xX7AAHjOMnrx78HsAAFdsFbssejIvzgYrFnqfbLaOOivEK3QZxr2a9gAAxnBkAAHn159FTtnFlHQBC587ndlgHEABXLDWrLHo9C/OA17NZsxnBj159AAAAAAAAAAAAACFNhGjOM2YzglSosqAAAAAHjOMnrx78HsAAFaslesHP0eh084GKjbqt2y1DjqozemTga9mvYAAMZwZAAB59efQqNu4x2XN6Rz+d04HZ3RxAAVezV2xc+/odOADXs1mzGcGPXn0AAAAAAAAAAAAAIU2EaM4zZjOCVKiyoAAACIc3p0a2kqVxOubvGNRJaxsaxsa8HD79d7099zWrhsax7rNirPbLX511XjubfG2mxrDZG2mxrGxrGzHjUSWsbGsbGsevUfYbGsVS38vmnZgS4HZYGtxbGsbGscGw1uwR32ta+GxrGzW1kjHjB79ePYAAAAAAAAAAAAAhTYRozjNmM4JUqLKgAAABzJUkaNuMnrx78HsAAFe7/AsEd8i+AGKzZqn2zsRObcuOgAa9mvYAAMZwZAAB59efQAq9owcnVW7H2d0cQAFe79esMd/QvgA17NZsxnBj159AAAAAAAAAAAAACFNhGjOM2YzglSosqAAAAAHjOMnrx78HsAAFZs1Zs3P0h08wgkn5F1dX0o+o5Pm2ABr2a9gAAxnBkAAHn159AAHO+d/RaF75+mZ+cfQPFW8SArFmrFn5+nI6eYBr2azZjODHrz6AAAAAAAAAAAAAEKbCNGcZsxnBKlRZUAAAB5PSr9A6ueX1D1496ja84PbTqJbmwDFh+dzHovMeixu/m6fO7Hv144Xd4frn6UPhdAANezXsAAGM4MgAA8+vPoAAhUi7Ur6UdTidx1zzbKhxfJf01QJHndOx/PbFx9Vhc/fXmktXo96/Xg24zgx68+gAAAAAAAAAAAABCmwjRnGbMZwSpUWVAAABo3j5v27UKzYtnkczq+CrLRltWza2qvJ7ptV7kbpukZOzXCAniBX7XxeruMe/Pvl6Hl6GnZgZeh5eh517tR7eh5eh5ehp2a9x5eh5ehB43bidskJ6EBPEBPFRm7+tz9Nb8WhXGr4tLMrHa6Glmx68Hv349gAAAAAAAAAAAACFNhGjOM2YzglSosqAAAAAAETmd6OUq+1yxgDn9AcDk2WEd0AEDm2HjnDunE7YA5nTwcWJZeYdQAHj5t9MqRbQAAUq68zpgAGqiXmsltAA8+tZQ/oFWtIABFpl24ZYwAAAAAAAAAAAAAAIU2EaM4zZjOCVKiyoAAAAAAAAAAAAAAAAAAAAeYvv5sfUcgAAAAAAAAAAAAAAAAAAAAAAAAAAAAhTYRozjNmM4JUqLKgAAAAAAAAAAAAAAAAAAAB4xsAAAAAAAAAAAAAAAAAAAAAAAAAAAAACFNhGjOM2YzglSosqAAAAAAAAAAAAAAAAAAAAAAAAAAAAAAAAAAAAAAAAAAAAAAAAAACFNhGjOM2YzglSosqAAAAAAAAAAAAAAAAAAAAAAAAAAAAAAAAAAAAAAAAAAAAAAAAAACFNhGjOM2YyM+vGJbGsbGsbGsbGsbGsbGsbGsbGsbGsbGsbGsbGsbGsbGsbGsbGsbGsbGsbGsbGsbGsbGsbGsbGsbGsbGsbGsbGsbGsbGsbGsbGsbGsbGsbGsbGsbGsbGsbGsbGsbGsbGsbGsbGsbGsbGsbGsbGsbGsbGsbNbIFP/xAA5EAABBAIABAYABQQBBAEFAQAEAQIDBQAGERITFBAVIDEyMwcWIzBAIUNQYDYiNDVBNxckJUJRR//aAAgBAQABCADw4pnMmcyZzJnMmcyZzJnMmcyZzJnMmcyZzJnMmcyZzJnMmcyZzJnMmcyZzJnMmcyZzJnMmcyZzJnMmcyZzJnMmcyZzJnMmcyZzJnMmcyZzJnMmcyZzJnMmcyZzJnMmcyZzJnMmcyZzJnMmcyZzJnMmcyZzJnMmcyZzJnMmcyZzJnMmcyZzJnMmcyZzJnMmcyZzJnMmcyZzJnMmcyZzJnMmcyZzJnMmcyZzJnMmcyZzJnMmcyZzJnMmcyZzJnMmcyZzJnMmcyZzJnMmcyZzJnFPQq8EyIdksSOXsos7KLOyizsos7KLOyizsos7KLOyizsos7KLOyizsos7KLOyizsos7KLOyizsos7KLOyizsos7KLOyizsos7KLOyizsos7KLOyizsos7KLOyizsos7KLOyizsos7KLOyizsos7KLOyizsos7KLOyizsos7KLOyizsos7KLOyizsos7KLOyizsos7KLOyizsos7KLOyizsos7KLOyizsos7KLOyizsos7KLOyizsos7KLOyizsos7KLOyizsos7KLOyizsos7KLOyizsos7KLOyizsos7KLOyizsos7KLOyizsos7KLOyizsos7KLOyizsos7KLOyizsos7KLOyiyeGOFGq1PFcD+hmW1zX08LJjGb7rbnI3BShy4WTj/wCKT/Acf5JvwjxPbxXBPobn4n/9hXZFrdHPqUZMv4YzTr5nBnHLHaL7vChqzWtydamSAFl7bNBtMNMm03klHXMLjh2FPy2y5lk3XZUicUyt2yGxozbCPU9hlvhCJZAtsmJ2ienXZNsjqJIhYGbvZglQx3e1bM+jEEnggPWWpjPzUtomvml9Si2ya0uzK5+0btHTFNEHLtxgqrzEj877BNDIYNQXwt4F3EJ08o4ZM0Wp7St8hTZbDbZoNjHpx7zeC663lroJvxFtR0RZrfZZQtdGtGT/AIiFywsUDVtqivo5WuvN47Q9a6tB34qI9gtztF++kroyovPn/ljzjNZvpLqskLk1Taprws2CS02+zZYTg1dNu5E9oyttNk2UeiHY97t3vQ0hIsbza3AgAGAp+JZ6uViUFnNaVcBc2zXjqOt7trPxBuJI0kZqe1yXshcb1/ENIiT4JQvxCKaewa0vb8OlDQidd+v0hQtaO9EuwkJgi3i8MLJhrqLc5DbLys/ZNtZUSxCQR7xZglRR3W07K+kGDmhN/EQteaWv1zYB70JZmUO2zWl0WA+bbp3bMymEG3CZdmkpyts2XyAcd8dcTKSALNLtmyPoIBZI6rerE6wEHdFts79pdSrtO2Q0SQxRkbM+DV4blY/xCuJmI+LVtumvCyRpdl3KGpnaEMzf7MMiJlvsO3T1jw1Db+JVg/ijLXcYq2sBnldu94E6CS1tb9A6sc4Qjd9hr1ifYgmQHAjFQfxjfhHie3iuB/Q3PxP/APH12AalsFpWBq9lARS0c49HWx/iGh4ql3/5rSaPybTZooNmJZZ7Mpqbyqg7O7clr2Jc1ttBUaQCZM243K3rpiYNAGcZWbCKlFY3uruLEfq5E5G7unnsVsn73N2lxQbtcwxRGb2PKLQUI80D9/8AKI0i/C/2tMBufJri4KbdVBIYAR5m+Pemt07W1EW7PqBGh6VrtnSd8pipxThkL26vu0qP0mF9rsdlcSlf/JUWfif/AOPrs2X/AIDWZorIE1kTk0vgm2n9v+HnI+/snzfiikHJWKm5835Qp+f/APzfPw8/46Tn4a/+Tt8J222Mtp62jsVt022sW031xDtoDa2zq97sw3iFavWFVlKOIVrX/PrHw/Eb/wAAzNU/4gFn4Z/99a5qTYXbqb1PxQSHq1qpvTpVdr7ZSmDeTTsd+GHPxts1dLzzO08oqp5wtzRbyxdZP3wjtLih3a5hjiN3weUWhoR5qxgSaoO3Pwx5u6tOFYt2l9ZeT/h6oKWZqFfiEG8K0At4LIpu07VVwRI1GtRE/FD/ALSsyk/8NW4fZR1m8HGvsgDSKt9+fZf/ABsFmhf8YGz8PP8AkdtxqeWT8RCVI/EhIVo4ldp/P+VK/m/DT/yNrm4qU7c4EitKjerURRS6YCwrNdgEzafzWsEC3euzgz0wDwl/jG/CPE9vFcD+hmbjrxd6KLENUBvBrAxJPAyl3KAsl9drumEhWS2lmXqhxG2w3DdspCbusYKOusLPq0FNOHqm2MGStk1DWi6Hv0nwHVDh9rIuH7Lpz7Qxh4CUO+TokM+162bdAgwDjgPipowXabrJlChqE12hPZdyHH7jrRl80JBrKigsqZlcQNq261rO3A16stAIJ/Ms/E4Yfkry80et7Gggc6bVDpNuZcpuOvGXoosQ24ivD0wQZ9RrN9PTwEVWp6r5FHNJNbaQeyyfZUgmj2px8Zd9tdDNdVkQg35I2zte0wbSNsDiWIZtba6zfVsDidOvA7aewpE0i4fZgWE+06rHexxSMjot+RiQJVizCADDzVGqnA7MXayZtlMRdVSCD0tXKBRj18uoaudRkHSk19VNabHYwjiaLcF2MZV1sutD3okceflDcnj9hJr1CNRgoPCNqO1VppU1bVaac22Za3Gy6a+zMZYAJRb5Pwhn/Etqx11UxYdQ2GStHYDrGvR0QLoc17Uzqu7MPmO1E9NmZcV+5ijk66d1vwzruaY2wfm464ZfDhsFrh3igCDvL0Wc7YpjiNroJrergDEL1sufUoKdutVM9TUQhT6vqp1PaHFz7HpcxxyWVYml7DaTwuuohohxWDQ6jqx1GUdMRtWqJeLFPE2i35WpA6wpbaaoCHEL1XcbdI4LKprYKoAcOFf4xvwjxPbxXAvpb/JvtSEvSh55442RRsjZ4XtNDdAKHNUVsVXXwBRL6rLXK+yOEOn/AGqzUw621Isov2Nh1we+hgjnDGYKIMMzxvaaO5BUSSlqBqYBgcH+HN+EeJ7eK4F9Lf5P9P3P6fxP6f4434R4nt4rgX0t/wBnN+EeJ7eK4F9LfXxb/sBvwjxPbxXAvpb6t0ONBp4JAhaK5gIgmmstipauVITRzQyhWlDx7jrMsjIY1PCYdGC+SzBiOGBkwSyALYTJAl5UuDHOSDademMQGOyuayrYxxtXc1VsyRwNjs1HWTLAW+3q44A53GnhgRslLs7uqquTvay3q7SB8gRe00Ac74JxCxTBYiRrK6q6lInHh7ZrxpEQgtlcVtVHG86uu6m1SRK8/Z6KumUcpbWu8uWxQizrxRIi5iDhBZhIJ7K9qavkQ2utq20hWUCx2CmrJmRH11vW2cEkwIJwZ4zCRcsLQCthSU6rvaa25mhQHhTlFCRpeVHblkrX7LQ2RKDC2Gy0dZN0C4rKvIBQ6EfbNcLKYNAYYMCPKSQFs9AeTGKJYbPR106jlCliGDMJGbtmuPLQREPC7/sFy7s0qqow3Ioaw2SKO84h1gDepX7TQWBDRRrGzArYEnNrr+mtJHxAhnhnMmeKacIAM8komxBE7ZJ5Dw4jBw5LG9qatWIaBYA2I6ECTTxDwySzV+zUVkQgwgx4ZUhcUAtmASSUNCHYBHRyuFEPDMUhB3bZrrClGfePBWtkgLmEOBfWEXqKioip/KN+EeJ7eK4F9LfV+IbOekGTANeQEqIhNPZHObspM91ILU69ayw2gKA6rqcS7FaQVe4AGTwBnR7bQH2ORT3kdZsrBtsjr/yfTxi7yEDBqirEfbLCXWCQVKnJvZSl6MyKcW3Km3WLtgKOMLayNleEE2xtLZY7eAEHX+8Tc7xplaRYgDX9aBpH/FajNnjb+ZNOYuyRxRbHqPJb8hm4UIiUKcmz7hyaFFBNSykv5Gw0/wCIg0Gzf8Lpc2n/AM9qWWVssVzGCBrveJuGwoUC1p+6W5Oamic+2JmrP2mDWYiQaW0jt6kM9krISPxCZGVfMhh2/WJhp572DZtsWoBsKSs1ACWG7kuH2msTG2yXMDlkqtdOq67U7SQvayLgiihnn3iRX0kQbbCKOHdNXRnmpJVjZj01bMVBpG2rHT19Z5DXwNs2Wi72ja2ku7GS2Np7Pf41XVDVQ+ppG6kTGk75SqzQBzt/ggZRQkM2VVMs9Wr8DRGb/ZcmtN2Tkun1l3dLdaGYS7a/hqmWv/ONXyvfcybRskwevVdqDaWxpe9Kqh1MEihh8R3ZBakC2m0BA6dXtrb/AGINNXI2SKGzSurJz4tc3efAQr4nWYAYNjgnA1jW4DdmcRdgzXT4/rZ/LN+EeJ7eK4F9LfVd0ot2D2pA+rywTwzYdqYxJ0pwkmo18sYMMltTj2sIscxmvAHW4VpOXUDlWQFg/K2kEr4T4mbPSQ1urBV8bNLBScdZrfXYLGcYxtdrIddYusGlakI8wgsObWgZQq4RLqpHth4h5rTXRzzYT4q7WA64wouGsow62qkroaquiqq4YCE+oFNOrDHnU45plYZJVUAtdOYSglPAFY2R0c+oDISROE3WquOkIqYptDgmHjglvdPdFXzHtdrzD46yxwjXoqYK7PBqdO5AYZGBUctLso0MMWkwwDqGwQQcMaEUa514K1cMQ6s1wYExx0gtMOLZ2FhG/Tqtwp46pqA7yBCiz9feSVKQPBrFRFTk1mSaSKSOkBclALJcx2cpVKOTaAWTyNVHeaUWPVa/XVgZgMMWlCw8kLbPWojbBllBU0IlZIROhA8BI80E6aSGjGDSWdLW2gCBkD6mM0kecwSgFGtSrJzKgdlzPatTTmRPK7ebWKt9E6mZNo0JHR6ompQiWQ1hJY6yMYb38FZVeXpNxs6sK1BlDLA1hoZQ88wGvgAWVjZMEphxbKwPip6cepjIihAowwfM2sj1Bg7FhDttdAtK4WvItKQOxrkrntaiIiJ/KN+EeJ7eK4F9Lf31RF/1g34R4nt4rgX0t/2c34R4nt4rgX0t/wBnN+EeJ7eK4F9Lf8iWVCIPIRMEYMcNESP6uP8AjjfhHie3iuBfS3/FX12tLDBO8vaHhPikJRUVEXCyO1hWRoGwqcETO0PYh5a4o4ozZ5wQmnT7SasGtGSp13UdOHFF55AlF5wrLSHyuM+ebZZIIhipMsg7nuEJro9lUZzYrmGWGZiSR+2LsD5e5eFXX0FkZLAL/ijfhHie3iuBfS3/ABW+K1tQOrt3kifrskTRGOjFHjfK7kje7NZsmD0TGwXwbARtdAfs5kRh1NWs2cmE12vjR7YfGmsGyj7JPCymApxtumhmrK8eDsgHnBMOyxuq6sailPMvbdqsEoqOCmHkjivZZYaewliGOgA0wdg2pRBD0oMEANgGeyR43+JN+EeJ7eK4F9Lf8VvLJZq4WCMOoqI1iKgLZsKkP7UBlunVQ8OrrwOftSwRDoVhKkpqqQeEZ5VZXGRxRkzBizjuGl8lquz7PHgBPF7R4NVW16O7TFADUru14J4OajkVFFp6sRJWjj14wA0kQFHVMqQugn+JN+EeJ7eK4F9Lf9nN+EeJ7eK4F9Lf9nN+EeJ7eK4F9Lf9nN+EeJ7eK4F9Lf3XOa1qucu4KS97akOYiYWGQj/GySRxRvkkTcJilVakeSWUeF8v+HN+EeJ7eK4F9LfVZLapGzy7n3PCX7LVETW5AhURY0JEU93ILt7Qp1vHSbbXBCWQ9x15pHS3xR2gWZkww23jUcBIwV0w3W0t2pZ7QPW0NpMdcyhbaEHKCTfbEpZgmtXJZkFgNYpZbQRr1hfMldamUoTxR7Syrb+sCfY3RBV2TWQ65dTzWZ9UTrmzWs96+IsnZLNNqHihsrG0LvW0tYMdc1F+HVWUt2RZ2lkPHq12Qe6xCKtozHC//bU9jYxbE2vbr+wtklu47DXLgk8/YmPtEvgxyi5J9iMe3TSI7eyKGv8AXRYSrok+5PBi1y7JKktgSNU2KAykGlshb+0k0e0s1vdlJBpA0GI2MgHUK6wcZdWFOyExWvRyI5AX7Fb2V62HXLc9INhSyrm7VdAJaRpsp0+mWlkli3aQqCS1SdLUuoAkFBtTwNiArpNmMs4zqOvAoLO0htNhDsK12z3wnmkWr3RFpXzd1uFgYALWoKFY2I98AFGWVGIIQTIA3bLkBtpHaX5FloRk8kke4AVCHRS3SP1aS5gafswbtYJJuR7WSdXt1u+Key7gNrfzVdgpax7U/Za0IizhsZdhqNbtTZqzZqU9B4WYFs1r+aZoZ7zZbUa/hiD2G6ngswqkasuiB70WrlguiALq1r7UXbS5NTiVtsUTV6yWU+crZq2KgKmlsjQtuhCnEsjS9sMGh/im/CPE9vFcC+lvqsquGxijY/8AKQmM1JJLLjOiI1ERDqZDt0ZKYlJEBuddOBEJILZ262lJQGTafbVhMV1esqEq8NrrIHXQdaC2arn8toBhLSoafuQMpFRNYawwysllltakCxkcSQUmpvpBjJy7nX63t0EUm/14kA+tdWbEZYzU8sEqGyCx0tlDp1eVETRHD67SKyyhsKfZvOh4Iz7zYALGVa5KW4tXmUL4ZIp3x3M7oA+LqwN82yBm1VBrgks99Laa1WkAF7SyIIGSOoKCnqqMYzVKkC0I1mCv2HXpwJq/yi8tCC6h0M0Bj4NT1iv8iG8zEqj49AtwVA18yPXrQkwuiOO0qqFZAWBIsUaZrIpQ5+zPnpqop67bBPU2lxS1kVUU6hPG0a4HfeCEz6ZONFsIJ8lVr6IOC8jZaIoIGI612VbUivrSH3+2rNT2FtQ1zKkrVKssAEiQ3dxJ5w6p8bRVNvKgmpsAkMrzBXVVvcVFZFVkQ6oW7TzK+Wa4vDKhayO0rT0qa7Vw9kriXT6ug1qI+HZySrLXKoruNoZPTWlzSV0VPPt4xpurERRbSIUVqh40FlHLe1odcCxFaxrVho7CfV7J6kU1k/T55n7DWEebVt0lOQBMdGootTJdWdofb1+qT/lJk8OxXBtsOBUs2KzMOjrFi2eRLDWgb8LTBpYqhTJ/4pvwjxPbxXAvpb/DMq4Cza8x3BuVtXBXd50v8xHWQR2xNk2eFs8MsLi9agIoB6ZscbIo2xs/im/CPE9vFcC+lv8As5vwjxPbxXAvpb6tguJ6iICSIi5lTYQ6oVNiuibS1rK+gvyDpbAA+p2dk+vyWx1VsV5c1cpYFNf7VaSzIlfdPKuroCUDc1sT7pg4t5NPqzLdZNlbBrYdrNLe39X2pFvc3pQ5wlZWyW18BV2xFifsU0FZTSDn3Ewd3S16WW2Ri7BX0491t0tXejhJtmzTUkQyC3F9IBV1h0O17WyiZDHBG7mYxVwS/wBoPLsmV8dyQ/ZH07xdtYXtHlA015fzXllWVlLe2BFhbBWg97stpC86qGvbK2qoS6ikv9otpXLjLu9s5y/Jq68JsqcggZLu/r7StEtjZtqcVMwDXbpbcGSWbY7ianAiKh2S2mp6mU2K4upxJK8MIO6tIbUesuHPaxrnuHvtitWSlVAl9Z21U0mrpr/a7OaZEgudkPMtowBNphk1uS5JnvtlBDSyOv8AYpa19P2ybBe1p4EN1Z3d2y+SprJitqQYSOOourGa2Jp7VLy6sSTG0wl3a2VVJIBVX22WJJUTHXl3YnGjUh1+cBXBPIS8vxLirAsf8Ob8I8T28VwL6W+rf42SgVUSijN1fY4BUrL4Ko2faWm63J5nsN7dRaZXFW0MDCtF/wCzuM0r22LJBT7Hb9irB64EaLc7cNljqxFdSHxDWQMxeh0MsbG/h6SkLMt52Ue3iWhV3e11truwtBQBuvCUmwj7kSXHd6zNXn00dQTqMOTVzLm+3KFahhN+DcnF25Su0DXCEvKoiDWT7E+wuBKocBxOaZ9+zZepZSbtIJXw1w1ZuNGINRf852rBh+52TcoGa9tFVVUkAFlpIpQ9cUTPoip2N1lUHr1e88G+rJtarqYssJFqIb6nl10k8SW7uYb78PUY0K3Rv4hsa+hham3ayBX0UxMO2BwMtaKxOqYdJktQ3AFQunFJhbrWyVVNSx1tppYxLBLA2fSvbYsHbra2Ozst2BWdloRo7WfkCcNnX24iKuL1CWO6tgdkLpAKqP8A+Rs2k98VxWiGa2oH5zneBXB0FeTYh32sw0MYZMlPqH/ebVlHbg66Vd11tstmLbU9fAORUeV7PqrVEugibU2tZ/hjfhHie3iuBfS31K1r+HFzWv4c1XSTiWl8ROjUaiIjWtanBqNazjwRrW8eCNaiqqcreKuRURUVMREaiIiQwscr0c1rkVrkjjazkRWtVvIvKz/pxzWu4cUa1qqqIxreKJ02cqNxzWuTg46nYbaAlz4jWt48ODePNnK3ijsRGo5XIjG8yuR0UT3I52IxrePCSKKXhzo1qJyo2GGLj03xxPcjlRrU48HNa5OCua1ycHK1FTgrIoo+PJjoonKjnYjWt48HQQq7mdnRg5ufLqonOsqAuJkUbVVWcrebmx7GSN5XoxiKipJFDKiI5GoiIiI1qcVa+KKThzq1q8qqrWqqOVGtRVcn+GN+EeJ7eK4F9Lf9nN+EeJ7eK4F9Lf8AZzfhHie3iuBfS3/ZzfhHie3iuBfS3/ZzfhHie3iuBfS3/ZzfhHie3iuBfS3/AGc34R4nt4rgX0t/cVeCZ1o860edaPOtHnWjzrR51o860edaPOtHnWjzrR51o860edaPOtHnViT360edaPOtHnWjzrR51o860edaPElh/wD2SWDOtHnWjzrR51o860edaPOtHiSw/wD7JLBnWjzrR51o860edaPOtHnWjxJYM6sK+3WjzrR51o860edaPOtHnWjzrR51o860edaPOtHnWjzrR51o860eIqKnFP5hvwjxPbxXAvpb+zNI2GKSRwl3aItaWTaWDABHzLR2E9jSxFktRnK3ODMejOaLODM4MzgzODM4MzgzHIzqx5wZnBmcGZwZnBmcGZsYKGRgNbwZnBmcGZwZnBmcGZwj62cGZaQIRXFQoDC2IMaPODM4MzgzFa3qpnBmcGZwZlvAhFaXCgjGsGhYvBmNRnVfnBmcGZwZnBmcGYdE2UIqPKIVBa0MdeDM4MzgzODM4MzgzGoznlzgzODM4MzgzODM4MyJGcHceDMcjOC5Cv6DP2nq5GOVtHcpbwTzJ6OZOPD9034R4nt4rgX0t/ZLhSYciJIO6JHpKx51eVZSjHC6rAbBQNjKbFGrG50o8kiiRYs6UedKPOlHnSjzpR50o8fFH1Y86UedKPOlHnSjzpR50o82isnNirWDdKPOlHnSjzpR50o86UedKPq8M6UeXAikVhkMNeN0QhY39KPLM+trIElJQK4vFR5K6cCkvLn/AOXoF4ThkAnjsJF6TMuw3E1RsEIY7WCwMf0o8bHF1XpnSjzpR50o86UedKPLAZJgC4ma8C8SpAHI6UedKPOlHnSjzpR50o8bHEr5M6UedKPOlHnSjzpR50o8iiiVruPSjx0MfKvGD6YvG/KLDqiyhVs9mkqIrSCosY7OuFNZK6RsT1irbW3ltbcIgK3PhKt2WTrS8fUzXCDWhH5a8yL1yA4bWge2163JNqyCS6C4IMpPMTSLy1fUEXEQJEhAY00lpSC2Lopl6uy1f9Ja26Cs0kSDILKxt5i1r6O+PuS2LHklpsDZHowyw2UkWSFtFdSkvcDY+JvwjxPbxXAvpb+5L9b8Z8G+D/lF63ffH69sQxYqztfV/d8LpJlqTuhX9RABOoccOALKURUAkHkpdWWP+/wOifrpz7IaKWOaNkkd8ky05yQA8/aQc+N+x3qsufy8zp613CU4CE+pvzm9cXxd4L8VyFf0GeO0f8etsEvgU1eGFmsgTV1GALNxytOmHudkZFf1RMWq2EUd9ZKfrLo6/YiUn1IhBIikkpiHBCGyfkt4gD+Jelzh11bLrrmBNEy0uIwHxQMQPYrP+plbUAVjHoKU2Rw06R64e9lCytF0kmJagYVuS0lu+R72mVF5APLJHR0kgXMWb4m/CPE9vFcC+lv7kv1vxnwb4P8AlF638Enj8Jr0CG2GrFwnb62AmaBhV7WigMPfWbIHYEuEzaTygYq14/h7Jk2zgxyvbjHtexrmn3wok6wI68BSvdYtDuu5mZElzNKPVGzRV8j5QRZHon5guVV3g/7/AAexkjHMfWK6mtH1El7PKNUmzRAvdILA92GXwwZUkKBlwGjxkQ2FwKAsbHg3IZsUz2DbLGSjHRIv9MsZXwgGSx68XMVTgEkVt4BaTGwinni1wspRQG0AmkRjusNoCDJeM2usBrISMoXG/Ob1xfF3gvxXIV/QZ47AMUXTmDC0kBMFWHAUfWPMexzQqd4s6Su4J6+CeHBOPo4fsm/CPE9vFcC+lv7kv1vxnwb4P+UXrd9keR3dPOR2sc9ODWbbQLAvtlUY+jis60sAmxUfVIYhSzxdiEDtdksFAjrnp4F21e1J4Mp4436jwfrT3voq5X1a2xB152ioXb074RWF2daaFEbakKNWlzpZ2k6VYUItWBDWgQCQ+D/v8b2tdYBKkSXiEa6Qdgj+oLBJi/8AvNcTqF3r36n/AEgsWIY45+2zRCwzFy+cgSMW7oq8aWaN6PYxyHy9EIqVAY4rygG6+oiDh2+yjj7oCUXUMUe/vGWEuvqLrzr8ue/kC1Q+M2sVyYz5y+uL4u8F+K5Cv6DP5pvwjxPbxXAvpb+5L9b8Z8G+D/lF63fZHjQAWS9Vh9TOTe1B7JvMO9g6RFTs0chcIZWqo2trogAKa0mtYrO32ScKCOuUvweAI96vXyO4jglAHYKSMgUIs1VZimlEVn5cljASGOCqsyixZ7O1khirjJJ9ZRtnPJcr4v8Av9F6+GkOIJmEcxwsDmYRWWo55k1YLWlV9akAdjVGOMisAh6Ih8djKYtPdlwxhGta1rWo050bAiXSUMg01YFINVVU4VlclPICtzKwiGaCkuTTg57maiu6842anoKhKgBo/g35zeuL4u8F+K5Cv6DPRdWxAFjQQRbDbk1slOkF3bmw2AVVWgW1sLcx1NscbDXhEmTRH7oSAlrAlvdW1UDYUur2mz2sQx04V1tJlRPcMK2Z8NBXWDZ7XYaaQKW1Nvbz8wk01fU3Nsy6kpbca12yyPtmAH/md8rYwaC7JJfbCWYtptFqLJZ13nN/ZVMFrU69b7CUHBbWAVnuNoMyzCsrmzW2Fp6+ktriS5s6qx8TfhHie3iuBfS39yX634z4N8H/ACi9b0Trx+pc2aOvfHXd96v73hudkglZ2zKyOCOvFZB4v+/x/wDWbOKMTRnMI1ezZZUosyYv3yeo9InBFJNQMFZVhND9TfnN64vi7wX4rkK/oM9G5gxHH6uPJe61WVhevzAbdXDM2AG0sKNumS2ca1Ow10tnR2QUIm5Cw00Qk2sVk9ZrcIxGho9mrCMdVxat5JPDZWVVcGalSTHDJ+H884rBy7RlTvhs8lcQt5trbYfUkkYdtKreTjfmaeK91QON5u1RQVA2q14jQr4SKvZrc6VuvCPK0IYPKPaha2oFrTLoVL/Ya6tzXq6MDbr2GLxN+EeJ7eK4F9Lf2SpkggnlwaY8WKltH3cMskbJHa2XMXSullbLHytzqR4+WPmizqR51I86kedSPOpHnUjx0sfVjzqR51I86kedSPOpHnUjzZA4TowGOSSPOpHnUjzqR51I86kedWPq51I8nVl2ZbmuASOIEZmdSPOpHnUjzqR9VFzqR51Y86keXUcZNWbCtTKyou4YcSSPElj6r86kedSPOpHnUjzqR4ckUwRUS0MMQdYEMnUjzqR51I86kedSPOpHkckfPJnUjzqR51I86kedSPOpHkUkfB2dSPHSR8q5F9MfrRET2zgnHj48G+HBEXjkVPJHshdtiJ4KiL4KiL7+HBOPH1G/CPE9vFcC+lv7MsTZoZY3DU1xwrQyTPPeApA1MASCKc8hrW8rc4MyRrOaLODM4MzgzODM4MzgzHtb1Y84MzgzODM4MzgzFRubPWkHxVzIOVucGZwZnBmcGZwbnK3qpm0HuCqpEhkrEho3gwV0PSBFjfwZnBmcGYrW9ZM4MzgzODcvR3EVB0MdjXyT07WR1B8VlWimMRres/ODM4MzgzODM4MywhWYEuFmvhyB1II03BmcGZwZnBmcGZwZjEbzzZwZnBmcGZwZnBmcGZE1vB2cGY5G8q5Cv6DP5pvwjxPbxXAvpb+5L9b8Z8G+D/lF63ffH69tjLkirEG9X97CpfNNldls2R1cYkdaj0rxEf4v+/0X7ZXUx6RCI5BoEdr7+wuTqx6/fJ6rJHrXmpHrTZ46WvZP6m/Ob1xfF3gvxXIV/QZ/NN+EeJ7eK4F9Lf3JfrfjPg3wf8ovW774/XtZpYkVa4b1XFiytBKLdSBvEro0ltZJIa4uSOtkfIAI9/i/7/RfTSwU58sQqucLA5182SGMazgFnjIY2aP02Mj4q8ySPWyJyqcCef1N+c3ri+LvBfiuQr+gz+ab8I8T28VwL6W/uS/W/GfBvg/5Ret33x+vZbF4Ede9nq2F/f3dfWpllMo4BUqAS9UEWRfF/wB/ouyFGqjZmivWQeJ6vY17HNdqEz4O+qZfSfKsARUyUBbzasIp/qb85vXF8XeC/FchX9Bn8034R4nt4rgX0t/cl+t+M+DfB/yi9bvvj9eykiDx16k+hMnmjghklkokkIeVaS5ZSRxgFPlrnMeAK5ni/wC/xXLySKKpNklFVrh4nNw2Xyy7AtET+qcU9B8kbAinyUE0E9WFKP6m/Ob1xfF3gvxXIV/QZ/NN+EeJ7eK4F9LfWWHblEqyZlPeBr1RGcysar2kQPkdE2SaKFvPIr2SQOexnwb4P+UXrd98fr2Rtasdf3/o9s24h8sQlTDGxkSsjZlikKglJPX9NARen4v+/wAVy8SBak1CBeTt4uTDhIzRihX6ufIbVMbN6DkhUIpJ6FA0rAkC9TfnN64vi7wX4rkK/oM/mm/CPE9vFcC+lvr2mJZRB4oqZbKS4ZFfGSOjDKlbCNCIBrR8N0JWKkRtjrMM0daU9zJFVjM58kk/rFnPnPnPnPnPnPjpP1I8585858585/8A+9TNkHHMir2zI9c58585/wD+rIqJxUOfzO4sLRef9TOfLJGTAkxvAVsYQrGI9M58586n6qLnPnP/AP3qZdsjnqjYpBVRo8TU58R/6jsFn8t2Vq4j0znznznw7llCKjfQxxC1YUEXPnPnPnPnPnPjJP8AqkznznznznznznyKTgjs58dJ/wBK5B9MX8034R4nt4rgX0t9fnV02dzReGzHyRLKreMXTkH1voSjNdbURlioDpBoS4hpWks+DfB/yi9bvtj9S5s1YRYxVzIPRtFhIFVvZAAHGCEOKz+54WcDyACYY6+J0QIkT/F/3+i8HkKqTYIxWLGPCxcT7H5dhvLr5EhpbKG0rBS08T4nzhFwsoA5QaoEWb1N+c3ri+LvBfiuQr+gz+ab8I8T28VwL6W+uy08MqwiNgCrLgQmJy+Mv1vxnwb4P+UXrd98fr2wYomKsQb0Sv8ANdjmm8P7nhbMkkrTGR1rHtAEa/xf9/o2COWWmPZEG1yDQI7E+x/hSSeWXhde7xsmukrzGR61FNBTV8RHqb85vXF8XeC/FchX9Bn8034R4nt4rgX0t/cl+t+M+DfB/wAovW774/XthJQsNY4bxv7PyuqIJSnB7CvhhXP7nhbPkirTHx1r3PAEc/xf9/o2CWSKmPkiDVzhoFdifY/wvYJXCxlwV5kJ4Q5cXhZPdHXmSR61NORT180/qb85vXF8XeC/FchX9Bn8034R4nt4rgX0t/cl+t+M+DfB/wAovW774/Xs1kRXxVz4PE2XzfYeRPD+54WU7xwCpo66V0oIsj/F/wB/ovCJBak2eMV6yDwvXE+x/gqIqKi69KtbaFU8ngfK+AEuZlAXKdVAlS+pvzm9cXxd4L8VyFf0GfzTfhHie3iuBfS39yX634z4N8H/ACi9bvvj9eyljCR1zp/DYLTyyslmZUA9gDFC7w/ueFlIyEIqSSve2QEV7fF/3+i7mjgqjZZBXI4eJyYn2P8AG8GmePEYNXHQWIQxcGHvbEEVI+hniKrAp4fU35zeuL4u8F+K5Cv6DP5pvwjxPbxXAvpb+1BaVpBLxYnvZGxz3pNFMN1YmfBvg/5Ret33x+vZFrUZX9+ng+Vbu8cR6P7nhY9BASuvX9PsRen4v+/xXLxYEqTe4F5O3h5MT7H+ilm8nuJK6TDuj2RXXoVDWsCUP1N+c3ri+LvBfiuQr+gz+ab8I8T28VwL6W/snOc0ItzGRRQ1Gqzw7CBEfWEMloOCawBwb1+VvDjNknWRYuPGbOM2cZs4zZxmzjNjllSWPOM2cZs4zZxmzjNn62bKLATGA0n9ZM2ezKggiAFBEQEWEaHjJnGTOMmcZOpnGTLJnUBKZLXtcwEZrOM2cZs4zZxl6qZxmzjNn62XcfVqTo5RUe0eFG8ZMRZOo7OMmcZM4yZagSHiOjbQ20lpXse46NZAimSUMLB6sKGDjNnGbOM2cZs4zZxmxiy80nDjNnGbOM2cZs4zZxmyJZeDuHGbF6/Kq5B9MX8034R4nt4rgX0t/Zc1FaqKPrYgxDJG9rzCPGlGEjBAjFYz4N8H/KL1u++P17LXSHx17Izzh68OUoirgIJnmtzvR/c8LKFSACokr4ukCLGvi/7/AEXg7iak2BorFjHiYuJ9j/SU+SksUuICuU2unSGgEeFVhCv9TfnN64vi7wX4rkK/oM/mm/CPE9vFcC+lv7kv1vxnwb4P+UXrd98fr2wQomGtSCeddisWub6f7nhaxyTVxccdax8YAjH+L/v9F/FLNTnxRBtc0aFrsT7H+lzGva5roCJahhdNNrMEo1QBAT6m/Ob1xfF3gvxXIV/QZ/NN+EeJ7eK4F9Lf3JfrfjPg3wf8ovW774/VxzcNgksCR66vhhigiZDF6f7nhbOkbWlrHWq9wAiv8X/f6NgfKymPdEGrlGgV2J9j/VbjREVhbJNK2Od8I1fa+pvzm9cXxd4L8VyFf0GfzTfhHie3iuBfS39yX634z4N8H/KL1uVOvH6Zp4YI3yzWl4VfOeLXWD0q4K6MT1f3PC0mdBXlysr5VlBFe7xf9/ovCHi1J08Yj1kHheuJ9j/UbI6IMmVgsTLarGeVT7LMBJHX3TXI5EVPQ35zeuL4u8F+K5Cv6DP5pvwjxPbxXAvpb+5L9b8Z8G+D/lF6+VFnjTxVUT+q2e3VYUjoICI7K5kSa2axrGo1tuSwbsld6v7nhZSpCATI4CRJAhXp4v8Av9F3OkFUbKorkePE5MT7H+oyRIhCZFq5mkBDzNmhinjdHKETbUK//ZVWz1NmvSZ4s+Uvri+LvBfiuQr+gz+ab8I8T28VwL6W/sq5GtVVD2UIgiKJLC0hAWBrgzx7EJ88DPg3wm+cPpVW48kaP5lbBSDPYs0u9ULVVIJduuSP6AzQW1hx8yGEGEjRkHhbuETse69X9zwslhQAlZgFjUIVYvF/3+K5duHbUmqQKrFHiVmJ9j/UYsSCErLVqOoQ6j+BdeIYiJPAt/X8Oxi3Gxh4IdFvGuycEkEu6clZFhbOO9P+n0xfF3gvxXIV/QZ/NN+EeJ7eK4F9Lf2Tmq4ItrGzRTU+qwQnvjj2OmlkoFR6XsrGtk5GJnCbLWumNiiY38rGZ+VSv/a6e9fddIhd810Gvd80/D6jT3ZpdTC9iRprkDU4J+XYs/L0Wfl6PPy9Hn5ejy7oK9GhKV5ameWpnlqZ5ameWpnlqZ5cnUzy1Msq2FQSmzhRNYGM2LhLnCbOE2cj+qmcJs4TZyyZbwRTVhbCRa1nbwozy1MSuTqPTPLUzy1M8tTPLUzy1MMrYnCEtlqNfC7AVB/y9Hn5ejz8vR5+XYs/L0eP1od6cHO0inmc/qL+H1KvxTQq9vwTSo2/BNQkT2/KpX/r8ql8MrhJxRkhdwmxWv5VyD6Yv5pvwjxPbxXAvpb+1HVVsE8k8UlbWyjNFkjFjgGWGBHyI1EzqSY5Zl5VznkznkzqSZ1JM6kmdSTFdKr2rnPLnPJnPJnPJnPJnUkzYasq0iBbDxmznkznkznkznkznkz9bm5s55MtIJzK8oZgMcw4g8DupJnUkzqSZxm5+fOpJnUkznky3HnOrShYxWywjQRrzyYiy87nZzyZzyZzyZzyZzyYcyUgMmBtIERX1gQknPJnPJnPJnPJnPJnPJjesiuXOeTOpJnUkznkznkzqSYxZmp/XqSYr5FRUyNFSNjV/mG/CPE9vFcC+lv705MAzOefzasWKWRlAdYk3tipXoJLFFa1SCp22AcsVbrhayWNmLF6CShRWsUgqZbESSOsp5JoLw0GH0EHBi8qEEGyEBSuq9VnJnpmPL9EjuSN7sjIsIgArxfUhFu3bBoSPTK2VYpekxDa62p4PVI2VY5OmJKUFfghJ6Z5oh4ZJpaI+xKvjVI/nm/CPE9vFcC+lv700EJDOSYqjqSBpYFrde7G+IMT0TDCEMRs5gEkQr/Ka8E91rLYmeicYYhiNntQCoa2dlLr4hQEXbSegkEMhG9eIUcdjmwUIU4Ff28/oc1HNc1WUtt0BauX1FATOvq81npIQjt5nQUANyCQ6Y30zNe+KRrG192UXW9/6TwBrASUYgDXeyvZTW/zzfhHie3iuBfS3/FKqInHFkYjeZf82b8I8T28VwL6W/4qeSCMeZ0+vMU2yQAr/Nm/CPE9vFcC+lv+KNCELgWGeUAR8w8zv82b8I8T28VwL6W/7Ob8I8T28VwL6W/7Ob8I8T28VwL6W/7Ob8I8T28VwL6W/wCzm/CPE9vFcC+lv+zm/CPE9vFcgmijha1/djZ3Y2d2NndjZ3Y2d2NndjZ3Y2d2NndjZ3Y2d2NndjZ3Y2d2NndjZ3Y2d2NndjZ3Y2d2NndjZ3Y2d2NndjZ3Y2d2NndjZ3Y2d2NndjZ3Y2d2NndjZ3Y2d2NndjZ3Y2d2NndjZ3Y2d2NndjZ3Y2d2NndjZ3Y2d2NndjZ3Y2d2NndjZ3Y2d2NndjZ3Y2d2NndjZ3Y2d2NndjZ3Y2d2NndjZ3Y2d2NndjZ3Y2d2NndjZ3Y2d2NndjZ3Y2d2NndjZ3Y2d2NndjZ3Y2d2NndjZ3Y2d2NndjZ3Y2d2NndjZ3Y2d2NndjZ3Y2d2NndjZ3Y2d2NndjZ3Y2d2NndjZ3Y2d2NhM0crGNYnt6FYi+/I3ORucjc5G5yNzkbnI3ORucjc5G5yNzkbnI3ORucjc5G5yNzkbnI3ORucjc5G5yNzkbnI3ORucjc5G5yNzkbnI3ORucjc5G5yNzkbnI3ORucjc5G5yNzkbnI3ORucjc5G5yNzkbnI3ORucjc5G5yNzkbnI3ORucjc5G5yNzkbnI3ORucjc5G5yNzkbnI3ORucjc5G5yNzkbnI3ORucjc5G5yNzkbnI3ORucjc5G5yNzkbnI3ORucjc5G5yNzkbnI3ORucjc5G5yNzkbnI3ORucjc5G5yNzkbiNRPb0K9E9+o3Oo3Oo3Oo3Oo3Oo3Oo3Oo3Oo3Oo3Oo3Oo3Oo3Oo3Oo3Oo3Oo3Oo3Oo3Oo3Oo3Oo3Oo3Oo3Oo3Oo3Oo3Oo3Oo3Oo3Oo3Oo3Oo3Oo3Oo3Oo3Oo3Oo3Oo3Oo3Oo3Oo3Oo3Oo3Oo3Oo3Oo3Oo3Oo3Oo3Oo3Oo3Oo3Oo3Oo3Oo3Oo3Oo3Oo3Oo3Oo3Oo3Oo3Oo3Oo3Oo3Oo3Oo3Oo3Oo3Oo3Oo3Oo3Oo3Oo3Oo3Oo3Oo3Oo3Oo3Oo3Oo3Oo3Oo3Oo3Oo3Oo3Oo3Oo3Oo3Oo3Oo3Oo3Oo3Oo3Oo3Oo3Oo3Oo3Oo3Oo3Oo3Eei+3iuQQwSQtc/tBs7UbO0GztBs7QbO0GztBs7QbO0GztBs7QbO0GztBs7QbO0GztBs7QbO0GztBs7QbO0GztBs7QbO0GztBs7QbO0GztBs7QbO0GztBs7QbO0GztBs7QbO0GztBs7QbO0GztBs7QbO0GztBs7QbO0GztBs7QbO0GztBs7QbO0GztBs7QbO0GztBs7UbO0GztBs7QbO0GztBs7QbO0GztBs7QbO0GztBs7QbO0GztBs7QbO0GztBs7QbO0GztBs7QbO0GztBs7QbO0GztBs7QbO0GztBs7QbO0GztBs7QbO0GztBs7QbO0GztBs7QbO0GztBs7QbO0GztBs7QbO0GwmGKJjFjT28VwP6G5tGxeQCwSon4jksRsktJeAXQfcC+rj/AAOHr/p+/wD1z+ucf8qb8I8T28VwP6G5+J//AI+uyOzp4tMhjK/DCKZq2U2czV9jwN1ONJWDU9hun3c9RYH31tFvA4DN5szq2nZOGAfbT6lAXAQB+IDB5TH0Wzn2OuW00uhW59mCY82tvbWbdyq+TZtjs1tYaSnPP2zWJhZzd2vjRKysJrhC5pKCIp+gXVnaNsO91a+tTdmPFJ23dzGnKNVXF95VQRHvHZvNgAtqzTNilvApe4PaQ8IhBtF2E88g4KxNvbYrdIa0K+vdkXZ5KuvuT95poopTb+3sR9PCPhgsN4vQWThaPs5tjIRXnn7HfXVxLWUct3tWsHwstN1uCgqUUoDzQ78krY5pVmdYUk85ejXtrZH2URloPvBtiTGIBebDUbFBV2u47KTVqMEDYLu1EKyxnOO2C4p6wyhFud2LsZK+ChbatrIG2m7WZlZTJOGE/fzgYzYNBvrWzIPjNg2jZ5rWwrxJb3a9cs4Etds2jycEdwskP4gsBWzXT9iW8BldNVHbXf2B8Q9He3w2yeS2WzbHZrbQ0lOeftmrzjTG7rfGh1tUTXEHbzYhutB9J2Se5DmjK1a+tjdksBiYL+3ttvUULz+2r9zUE3fL82tjCHBrUJaAKhW+3NjVDBKFSJvkxVeQTBf2zt5fXruu4TiEIBWm3dlFo41gytl3+zDYWLo17b2FocMfsWzWs1x5LSnHbprb4CTLcrZ7KCvNoau43e2lmiCv9ktwIKyshsJN116KE8go+1s6IMqluZdx1+OAuanOfYVgZb1/jG/CPE9vFcD+hufif/2FdlHolKXXAmTnUA09PJWCV+gyBGjFLdUyXsyPG1El1Vs01WmzCPN3hRWbNqpdPXsJmjtp6jQQSYBa+wsqOS1O/DgaMoO8HeJq+400s7KzV4yot3dGXdCp+dyIiCtHCfCilb+PGJSUg0UGlHS1EZifhf7WmMOMEtrRoezUDaSrqo373DI7WqiRKLW4LKrGnZq1ABTqYouXSrrO5Icz8PBHlG2dvMV/8lRZ+J//AI+uzZf+A1maXc1jNdhjk0hFL2iwKi0UmEDYLAcv8SThSFrhId2ifBqVVC/vg/yAsGaEcFBQEMm/DieCO0s0kSyudj2EoCM0NAtsr4M3+JW7GJLI/SxZxueSgrha6qHGF1n/AJ9Y+H4j/wDH2Zqf/EAs/DL/AL61zWzxQdwMeR+Ix4pZNeKPvg0w7qF7yrusSklKz8MIHo20nXVqlbWztI0rlloNxYFDci8N3IiIL0cF8SKVv47BKWkGjrb6qTVo5V/DGF6z2k+VdPNcX9kNFpJiVNwVSlfiVXORoVpEAQ/adsAlfn4o/wDaVmUn/h63Ls+au3CxJgtaB9brUZhdl/8AGwWaF/xgbPw8/wCR22AzMrfxAJcX+IliGtRCK3VIJB9XAZJ+GPBLO047vCrdsidLLpQkw/GYMICvo4AI9p12WpgHMfrVitlShku4/wAY34R4nt4rgn0My+18S9giiJBDjBEHFi8LHQa0wuUplHqVXSyLNDPqoM95HcOvaUa6DaKQyhASmZUvG/DqnimR8lFrgdF3Si4LqoI13LcMvNYrLtGKTH+G1U16LLea2FdCjDzRAwxAMCSh1kKiQhBq7T6sC0ksWX+tBXzR0JmrxJweymf+G1Ur1WKjoQqMd8IufidIL0q6LNUrfLqEKFX6qDJeNuFvtfEvYIYid4FYJqcI0dHpNXc0QBT6OhApB3Qi3elVNvOpLqnRKiuIYS68pBboRoxH/wBM6TP/AKZ0mXFCJRbHSQDWmi1dgY8tsWhU0MwU0dzRgXQ6QmJ+GtWjv6ghQAiQCjg6oADcEWkWXlMNdBdrPX1cAFbEBFRauDRSEyDUdSHbbPaCFVWg1FeWwlbSqBtRXDGN/DOpSXioAAleNGMLN+HVY+eWaOl0+oqJu4ZeaxV3aMcTF+G1U16LN+JjGsr6pjRdAqbAIApKqpCqhGiiVWqAVliQfCfqIB1tHaLuUgrNdP7j8M63kFMsH5f66FfQwxkijsFGgHYun1b7pbaS9oxboNoxE+uBT0cdO6nqR6kCMKCk1QGnNJMgvdUq7tUknA/DumFmbNNyN5eVKLVgaSYmYa6oK66hbGW38NapHf8AUfrVafWD10kf4cVaSI6YYeEaGOCBf4xvwjxPbxXAvpb/ACEwylqzpmTlIiInDxMBDPgcOUKIOHAyAb1ShiTyRyy/tDU9WKVIVB+wfVAWLGMNhijhjZFH4nV4VhCkJYogwcLIB/8ADm/CPE9vFcC+lv8AkOP+XN+EeJ7eK4F9Lf8AZzfhHie3iuBfS31Oc1reZyTQrw4f5Ay7qAVVC4JoZ4Yp4f4BBEIsEpE7zg4lGST+Wb8I8T28VwL6W+r8Q+HkUCPAo9LQqB4RWzvacQDWh2bCa1TXw705YgCXyXEcV2NUrLsoUWwDUiZX7EKUJaFOm2uCChCuZ37j0HwPMtLUgN0MY1PsCHmEAFT7PI40kasJ2SIcKqKdd3MdQNCRJZ2hQcsUItLfMspzBJvzXNMhU1dUWcNrWBnxXt8tTKBAyHaiEsAQTLu98qkAhZR7AlqRYDyP2qWQgqOqZtIM1CbbRWOwRAVQli6xuYq82qEdZ2xYk0cAlNfNs5SxZLLYpA7OOtHpNgS2HOVaK4juKyE6PLe+hrZhxGV2zJOf5acHdxE2lpXYPsyFVxJ8A+zStsAw7I+5soSpIAwNhHPp5bGJ+1kiPgfY3NnFVVhNhIFtM01oHXlGXdhEVNAHWXwNhVSWKQbaTO2MlnnMfn3lK5tNhJW0FiVEBPrtcJEU+wvK6srYTFZtckBIsVre3TKceCVanZXnWRFbPSXENtEZI28t46etmOfZXcVclYriLiMe5rqtx2wOgPeABT3cNmwmNLW0EqQZDCQNgNnKhhKrrmE8m2HbS7KFdG2IotLcx28BMrK6/HOjtVX84SKOpzbq2r4qoSWSzi1/VZQCpmv4tRU/lG/CPE9vFcC+lvq/ENGLRi84cGqQTxPD1UsUE7ZAjNi2ABNdLkF2EPsNe1cPNqsCgtvq5BI6ltVsursdg1PYH1+xzD7RaBm6ZVGw7na1h2tpCJaWNhDZ09NFRqib0S1NMMECgtgS9yIgsa6glD2ypsxAQpiLizOdsMFPBrat/ON4iVgh5It7NUaR/wAVqM2j/lGm5sf/ACTTsfPHbboH29FxXadyRNHPCFp5QiVXuKTfbGHYjgZNQp4mbHYAPvNTeyztTZ9ghqR9Zkibtt85aQ8AzZby1fqRI7p9oY2gBgZqqnprRxh9DXFGFzxAb6yYy2Igsds1yEKWpPs9m22EOPZnB6mJ2V2kkdvrTJrZvfPdCPS3MlZp9rPBtD51ohpSdwIYXDXUcNujU3bWGNbaHWVncRrVQyl6TtjB6m/pEpK+ZbYSEzeWxy62YVHf2lWm7jSlazYMiPvqd+qSzIWPNWVmizm7saEZUQAC2cjLHZKCuiE/5/ZZQVopEV5PKdZHWP4dFTm7RYgyM1fkPLFJ3bW1gGHkbtOwwS0FWGKfYFR74ixB1JTm3FU948TB3Hm3uzUwesCwBbPsgo+rVVkXBayjVgZUmvbsKypFhOoR1XaoxKvVqBkN8ATNRkXdjH9TP5ZvwjxPbxXAvpb6jAhDoFgLi1rXoJWTRHUlNZK15nlFYkg0iFhCkpGwl4gjyoy3ShiyzjkPwcIQVJUg2ShWSnGEq4aOnHKUuKwq66wY2MwerrRHseMfR01hMkxUteBLGNG8oQUuNsRJ9VW2XIhsNVWDOesEAQgw3awjCjiQMgHmEEnlHmlnDEnkgllDACBY9gkIYsM888RtDSHTJOU8IRRVEcuq61lvp9LLVmxCJSAFgAQWNlRjurLKKvC1KhYGKwhNaHD2IAwBNV1xkvUaiI1ERDAAjoeiWDV11c1zAowxIiZyYlqqtyFtWGhpBkY2A6gpLCTrFsDFiH7VkWt0ETJGsbXhMMeYyYUacmEqUuipjCEJIHDFFSVB269RsK7th9JTWUrZDBAAwYukKqIqcMj12ijJ7mKaCAiF8MwVHTV8qyhjV4Iss8o6CCNLeY2XWNdknknfOCFOKoky6rrWCUFKFO2cU+prLFGoaFWgV8axhyxRyxvjlCo6avmWYKIIOGUiaFgYkZBBEYoQojXtGHDFGdO6CfWdennWeUgEKeGKGYoMUyFYSURETgn8o34R4nt4rgX0t/2c34R4nt4rgX0t/wBnN+EeJ7eK4F9Lf9nN+EeJ7eK4F9Lf8Xw9ViU4MEgltSetlXCmL4cPDqsV6s8Pf0L/AIo34R4nt4rgX0t/xW12djVijFCXFlf1MTbGWN7JI2SNM7pIVQWjsriwri3KPsJQ1KQYbcnbDV10RjtwJmj1yZi2XfV1O1AprsmDVEtJJ7dwFHEccfZ3oTK6aTLKgEPlaRiTbJWf0mq7cO1ifIM97Y2Oe4eytrIMmxG164PuZZC/8Wb8I8T28VwL6W/4rfXclOO7NjNjuatK4CCPpQQRZIq9N/LrLz5adleNswaBwULob8qQwqkIXZJ3zP12aXapCydXKdDfkPNqQGDbO2U+rAISqmqnFM8syxuZRyEEESoubL/qtAa8Ovh6Il3DPPUHxQCmEz6s0ADVSY5KgSFlLbttoSJW/wCJN+EeJ7eK4F9Lf8VtVbYWYg0AkSvWNiyF0cZUz5lArGgrJw9XDOHo4eMjOeN7EABHrxoxx/8AEm/CPE9vFcC+lv8As5vwjxPbxXAvpb/s5vwjxPbxXAvpb/s5vwjxPbxXAvpb+xGWO+aaBmcU48M4px4Yr2t4cxJMQo8xEw5u5W8LCwhGlMFgYVzs48M4px4Yrmt4ccVzE98R7XfFyoicVRUVOKIqLxROKceGKqInFUcjk4ormt/qvg1zXJxaiovHhxRePDnZzI1VVEVEVVRFRFcrWpxXEVFTinM338EVFTjiOaqqiYr2ovBUVFxXtRURVXgmc7M441zXJxaqomIqLiuaioi45UROKtc1ycUxXtRURTzYAAiC54J92s4mEQDRzJBE2ZHtVeCKrWpxcioqcU5mcyNXnai8F528FXx4px4YqoioiqvBMRyOTiiKi8eCORU4pxRU44jmr7cU4qmcU48P4xvwjxPbxXAvpb6rzorBF1eWvywQMPhZBhySzDQSz2lrFWbzHLKPcw2m8Vj4bWLUpLE1pMBpM34a2vOzU4ZKRhT6+6mI0lLIialgApNWPS6s2Vu6100tBVibRAZbWuqFyjJfgEtphp9JsLuY1axdarltRpqwPZ6LyayNHP2ewGsdUdPFZ2Y0Gslki3cFlISUQRswdwh8S3W2PqSe0brm01EAKmhWl1cPtdNlLjdajreCBkgP7vXn16baxKqh2EatL2CEjTDEOP2idLSLUlEPUUw8hazSLcmwvK6x2rWWATmh2V/cNtNWeVG+5GTUtpECoBh5gZnP/DW6ly7tTCaeOqrzrQkLRKVYDGCDRizUbVVzWqtRRV1xa7PKdrUiVg239Kk1gG4poLGybYGz6BfsnutYqBdSlsIbHyldfq1ta+euE2yojqNrhZYXeuVj6FkVRdbdEPQa8Fe1Mdra6SaTICcGVvyogVSkgLq6PaauOrszFBrTSm0+rg21PAfYlWJpX4fHxkHatHFTTHMnupZtCkspZaWCqXTJ4tgZrDrFvmWqWPas2mOCh1sG5pobOy3egBhpy7Jt7Sg0+oXEgY+3RiwBJYoqKnFAiyB9lnuXbESRPdrZx7Ucj76vqiKde22MZKqc9mt7FYxOrrt8+siUcOyvZVaidHFZ0QlRBrE8Fgr6ncq4xaxXWe22xyfxTfhHie3iuBfS31ECDEtRJ/J6nItfAis1PTHU5KbUlthNTPJs4Fo0ak2KsJs211PrbxqA6oOZU7gytSoSw1suWvApg9ipJrAargFIpyHbSHathptip5jIqezqrWvFhqRiabb56V9Qg4VreVQ7UfS7Cda09iedS2w9vNb01e3YHsKSw/KRf5RgrEK1eb8v1QA9tSWPm0VzUA0trPbxWty+muq6yPMparzdI5ls7JlusMa1g9PcmXYdpa0FOTWPuFmq6WYUvYpJhdf2cSqkpI6OteBSggkWVE+W3ozByKi5AtzbGlr23SwlJaaxVEVFKMCRBrB0WpWVOoWstB10uujfrLitWDqpoE3f9GKXKOoIri7uWapopRZL9Cg6jb6gZa4GTV3xambTDWtROZrMtZHa6+eUHRyCJT35d5VWZ9ZTn+cE21mFSSw3V+XMHTbXTQPArqGlZTg9vmz05tmOCoT6e9srCtKtZ4IyIJx5Q6jb6sRa4KHVA49bmpXvp9vIr0qSbPXCzGVtbFeU8x89HJAXTXYl8Za1VHQHBk3k1iJTbdUDLWg7BTmWuvSgx3tTPaa8XXRE0my24UFdYNajGtYkGqzrrVjWzyaqS7UlrEt6U6YsC1rq5dncSjrCopihjLg80bVJPyjJSlWEGyWpodMt3WbiaPBNPfkpZ6JBZz6nXvr6IRkv8U34R4nt4rgX0t/hyijTTQTSZAKKOsqwf5hBBmkvKa9jJGOY+enrJw4gpUTh/GN+EeJ7eK4F9Lf9nN+EeJ7eK4F9LfVuNiRWh1s0I9rNcbFClaM++tbu/CZrp1jFa29IfTbLPBqqGF6353d1BSE63BdWE5r5wrp8F7tfe1N/eH2V66UG6kk0hpry9hLB02pMUq8Sp7UwS3NsDbwSlBsB7ilo7yXHX89oJR1tVbmlD7PrYzDtlOJ2OqhB2a9tg9hcom53FhG2GCqv7c1mv0Zg+6bKaPziVUS8Yol8KqG6uTLpytsSotxIFlqtisrPbhkRWW1ptF2EykOPAuNiGMqxb69r22j6me02GpVkmrQ3Vgs5M8N7HbSmzk0NqdcUZrFFPlivauCruR1aVI8vTLUmxrSUJ3Q4mup4iINp2uvSmlWr2S9kGKqq1lZeIJfgAjzzNihmmdVwXmwgraPqJ7W+q5x5dbHu7Gc187LJJ7C+U6LY7MPS32pZVy8EBD4Nis7VJdY8sNfc62dVkvtFtDdvSsgOrzYQhoyNatZfzCXVoy9itij5SaMuw2GrJGSgGuzzLNswi2uyGWk0d8XdVNMAx8Zcomx0cAv+HN+EeJ7eK4F9LfVt9aUeJVsHmqiK7Ygj6yvNtgtl2mUTXgLF1la3J+nayaKvd2uogGAjWjCtWrzQfOkJdrJxu22c5YtcTFuNmYtrp9LIHYSDE68cZp9WKkFie98Ma3IVmJfi3lefJeXFFdRPNoCh6mlOrdsqLe1sqKQKzoXwy6rDXQ0s5VztEpmva/aLXXPmdjU3ZGlUYcNrrM8OqyhCXVuTVpTwwZrABoU18pN1rljZbXzZPVks26qJhrK8yHatgLkFqCnbBsryKkjZaKvZVO1eoIqq6RpOogGAi2jCgQztfkNEfEVZJUyzxzhHWlpUyioEfX31zPNpteeAPatN3OuKsKeGEbbKCMmjlir76pO76otw600mcyNMlhbPBNE6ql2OgC8qXV6kmtDIcXqoBoXnXciQm11hf9cbVDZdTPrpx7CzZDHBLuamJYaooZcd1sJ1XGR2Babt367KAYt5WWOU4Nmu0yWcwgJ+vznDrUSkSiudNrQJoZWxPIEju9cMs4obiLYLOurgXma5ELf65NWiFWbrU8cj/DG/CPE9vFcC+lv7ANRAEfaGR/wpAhZD4jnfyT6iA4yrLf8A5E34R4nt4rgX0t/2c34R4nt4rgX0t/2c34R4nt4rgX0t/wBnN+EeJ7eK4F9Lf9nN+EeJ7eK4F9Lf9nN+EeJ7eK4F9Lf9nN+EeJ7eK4F9Lf3HOREVVbP/ANKqnO7Fm4cOPO7Od2c7s53ZzuzqOyGwHmmmhZ1VzndnO7Od2c7sSRcLsxQkiUjqOzndnO7Od2c7s53Z1v8A1nO7Od2c7s53ZzuzndiT/wDWjV53ZzuzndnO7Od2c7s6/Dimc7s53ZzuzndnO7JSWRRvkeMdAXBHNBzuzndnO7Od2c7s6jsSxHUpwudVc53ZzuzndnO7Od2JMmc7s7h+NcjkR38034R4nt4rgX0t/ZKm6A88uDSGCw0lm+6OkGgSAbWZp5degcQ2ViNbnWjx8rOMedaPOtHnWjzrR51o86rMAcA2zslg6rM60edaPOtHnWjzqszY3Vb4wO+6rM60edaPOtHnWjzrR51Y+rnWjzrR51o860edaPJzhB2LJP8AmKh6zcYSPKxj4utHnWjzrR51o860eNlZ1HrnWjzrR51o860edaPDpB1CKSaieE2sCQPrR51o860edaPOtHnWZkagJsEzk6rM60edaPOtHnWjzrR5FKxEdnWjxZWcFyD6Yv2pOPI7hq9idZBTkFeHHxVzWoqqJaV5s88IvpfJHE3mk9BvwjxPbxXAvpb+zNEyWKWNR6a34VohJVKPY9MgzX6l9TUdtIz4N8H/ACi9deLFDZ2UjPVsgcJkde2X1f3vTb3KhyQiCi684mZpd4+kpkmREkoz6uR5NDT3EVlA9yehfvk9R0bZQio3UQ8YtWFBH6oxY02Ccn1xfF3gvxXIV/QZ47Si+RHyMSuOK12A5dbsJLKkCMlma90T0ZSoWt7fjsHLfUrsRrioSoteJtTWkT1+nKSTTVr4tarxc1gyZmvElz0J8omqpZHPNefVSTuBaQ0MZpOw38lU8aGOKiks0bNajCDCRNiHc5Gscq1azX7CbAjVn2lm+M8rJRdgWSRWEVl8TBJBNrp5kJ09IT4m/CPE9vFcC+lv7kv1vxnwb4Se8Xrrg5R7S0mf48fHZ66c+OuZB6v73ouLaKrF6mUdTKKkphuP+/wugCRyEuq2vPHsQoSh/Ffvk9VhE6cEuJmviShVQA0vqjClTY5jPBeOLx4Ln9P6eMXs7wX4rkK/oM8do/49bYBPcz60MJDWDC0taIC9hYsruWMSuvobK6bFdUKz67PXA29fe29L0XXQNvY6/MOjYrEisKikjqb+bWFqVfV2J+tz1soUmwOhHG8JIo5mOZJLrLYHulqKuW4VZYrIiLrQTRZUV15DUpTy6sPaBV44JeSanr8j3yPM06mePI0WoqBKgNow3ib8I8T28VwL6W/uS/W/GfBvhJ7x5aHljyDjiVdpOQSSCXbWbK0RZnDW58RsAtkRcWzpSlErj4zw4SmVkRLLe3dKufnAabYQ6oTE2S3MkMlrJ9qiWsAKDrbW4WxQGz2yAueKsQb1f3vFzmsa5zqhi3FlLdS+D/v8V40F8jk8V++T1WTXurzGx006VuvhyWGubKl7PZcl7cRU4DynwX1sKUFDbkX1qSaYNT09jJYARkSZHER+Z5pVyyNUMSSdsNvYwGiDWJxkIQspErLyyiUWU0yyslNkFBpbJLAV0jsX4rkK/oM8bevdYgThpVguAChFeXVVxr2vKGp6sSVJR/3Ez+nj/TE9JvwjxPbxXAvpb+5L9b8Z8G+FiZ2cTJEhsojGJFlPFLXX5Icu0oqLUvXYF5jqFjbMfzcSWMTWCOtUQplYQRJbW8csF71ju0yzHgH2rWWRL/VOGBD3NSyyEBAGOfFqcaQMIpdmABi2sosWKscN6v73jsM8pco9IMNBHBBEPD4P+/xtK6GyAnFm12ymKDkFL8F++T1WL3xgFvjouY+jAcbrSI2+2hE2uu7+rRrb+W9LmoGG65TzWE1+2fTzyTat6E5GQSuzTwLx98IJHHjR81qPOBbAWD9sRX0JXDZXsfQQIwlEPglEg1NXRQmhOxfiuQr+gz+ab8I8T28VwL6W/uS/W/G/Bvg9P6syyp4D1ieoFLCHJLMr6mKaveESDQxDEtJln1yJ5E8sIYcIQ8cEFcY8izs4XYXUQk2QB7pRHyHDkoVqI805L4jdery6+ALKzXIQS3Gy7NYS18ddJH6v73hPNHBDJNJrUMhHd3M/i/7/AEXPGquQrdqLxTwX75PUfK6AIqZtAW82rCKeFUQhmWJTH0cM9cSCVX6xCKXEUQfq0BBkpQ1bXC1ocYo2RnPXYpw844eFAcM8ecbXYopoZZ2V7emXHMNrUEU0DpDaGIkpxUNXXwV8DoosX4rkK/oM9W22hVbWMUW3p7Klq5LUTYx5SaGa/HQAmu1k+yYp4sNdWy1u1XKw2FXWSVdrALsIQlayGytdnvwVoZzQNgsqKegqJy4hrOW5hqWGEd/XbMbFo5dnKRYiw1vej7NCS6ikvoTWFa3QEnxA60YM4UpTy0lv7AW60UuScK1RfSb8I8T28VwL6W/tMmge98bZJYom80j3NdC5zWfBvg/5ReuvIHks7KOJPVshQosde4n1f3vDY5HGTBUsUcbIo2MZ4v8Av9FgFCcEQJNrR00wLxScX75PUdIyMIp76GeGesCmg9UZIq7BPB64vi7wX4rkK/oM9Wz0slxV9KA9m23YK1s93VyzawbWhGVpU2qTV7SQdgsKCGlW3pD2EU9lW15t5OSxCIJbofcNklrqKqtFtT7q0oA5wqoeCcSuvqk62bDWawW7VbGoOFL2wYeEWTaK42z1ssQe9pX2uvrX4GbuDnCDEB05JV7ZWNpq1YXWNt2z+k34R4nt4rgX0t/ZMkdEITI2EaIQDWz4biugJbFPJqjuNQUx7Zf+ludXJJf+qLOrnVzq51c6udRMAcClnZdBJP6f16udXOrnVzq5sbq50YHfdRM6udXOrnVzq51P1eOOnaxjnO1xe8mOupernVzq51c6n6qLnVzq51c6uWE3lewCWLUmjxJuM0js6udXOrnVzq4dJCoZST0TxErAkD6udXOrnVzq51EyNwHn8yosn9c6udXOrnVzq5FLwa5M6uLJ/wBK5B9MX7o1SKJYnnR/vm/CPE9vFcC+lv7L2te1zXja4sMozXl1RhCDTsrqzsBCkVnwb4P+UXrrxoYrKylYirw9Wyhjlx1zZ/V/ezaJ5XCQVo40EYo8MEXof9/puK5lnWFCLr9ithUwSSL98nqOjZKEVG+hgiFrAoIvVGLB+YJycT1RfF3gvxXIV/QZ/NN+EeJ7eK4F9Lf3JfrfjPg3wf8AKL11wUw9pZzP9WzVpFhFXMh9X93KzhZ351l6n/f6oU8r2iSJF++T1HxPnBLhZQCShVQIsvqjBm/MUxuJ6ovi7wX4rkK/oM/mm/CPE9vFcC+lv7kv1vxnwb4P+UXrrIZ2W9u6RE9W2DFkQ1iDerYrBwAE0kVQAytrRBE9L/v9WzBPJrFmHrDIzxoSo/TZMe+vMYzW4p4aevjI9UcM/wCaZ5l9UXxd4L8VyFf0GfzTfhHie3iuBfS39yX634z4N8H/ACi9dZPPLb27JEX1bWSWLFWOG9UqNtNqgh9b/v8AUqIqKi0CJXW1pTv9Ni98YBj49bmmIp6+Uj1RzzrtE8C+qL4u8F+K5Cv6DP5pvwjxPbxXAvpb63vYxOL2SRyJxb4y/W/GfBvg/wCUXrrjZSLOzheicPVs1lPXxVz4fSeZECGQVLqwso4vdEep/wB/r2NrgyQ7mNj2SNR7fQfK6AEuZlAZIbVAlS+qM+b8xTBeuL4u8F+K5Cv6DP5pvwjxPbxXAvpb67CpqO7iW3frVILLD2TeLWNRwt5VElqKw+zDr2McSMcKcE6YZnwb4P8AlF664iCWzso2J6tlLGFjr3T+nYFU+wrqZvDhKiet/wB/rnHjJYUPLq5EqBz1k/oOeyIIqR9DPCRWBTQ+qMkfz+cbET1RfF3gvxXIV/QZ/NN+EeJ7eK4F9LfXsARxwiCC09Q+nt44rA3nQAtzUSJKTU1iuia4BsBs9AAUKAZIS10vI3OaXJFm4xceaXOaXOaXOaXOaXOaXAFF8zsuhxkzmlzmlzmlzmlzmlzZHA9MDv8Amlzmlzmlzmlx8r2Nc52tpMZKfcv5pernNLnNLnNLnNLnNLnNLirL1UzmlzmlzmlzmlzmlzmlxHTNmflislZsAVinNLnNLnNLnNLhzk7Irr0LoPKwuz5pc5pc5pc5pc5pc5pcjcJ+YJuHGTOaXOaXOaXOaXOaXInS8HcOaXHPmVq5B9MX8034R4nt4rgX0t9ffzpYuHFZT3BXL3zWtaxI0H16sHJ7iMzXK8ztJJhgowRZo2M+DfB/yi9dcOPHZ2ckaerZRBSo69s/o2cmVR4KwcYeIUeGCL+963/f61++TLmuZZ1pYmUFi6wqoXy+J8bJAimPoIIR6sKGH1RjDJsM5Hri+LvBfiuQr+gz+ab8I8T28VwL6W+uzoKiznhmKD1uvBKYSL4y/W/GfBvg/wCUXrrgZB7Szmcnq2atlPjrmReip/8Ayl0fbLn971v+/wBa/fJ4Jxp9n5fQfE6cIuFtAJIFVhCyeqMGRNimM9cXxd4L8VyFf0GfzTfhHie3iuBfS39yX634z4N8H/KL11kBEdvbyS+raxSyYqxo3jsh8olf0Rq0KKvAGEiz+963/f61++Tw2GvfYVcrYaiyjs6wYtvhYsfJXmMj1uGYenr4p/VHASm0Tzrw9UXxd4L8VyFf0GfzTfhHie3iuBfS39yX634z4N8H/KL11kxElvbsl9W2EFjxVijeNcnm96RYv8P73rf9/rX75PEdPJtikEXwsnPZXmOj1qWeamr5J/VHMQu0Twr6ovi7wX4rkK/oM/mm/CPE9vFcC+lv7kv1vxnwb4P+UXrrjZCLS0hd6tmsZq+KvfF4bIdKKE0catAhrgRhI/D+963/AH+tfvk8b+tWwrZEipbOKyrxyvA+V0AJczaAuQ2qBKk9UR0q7HMH64vi7wX4rkK/oM/mm/CPE9vFcC+lv7KqiIq4LsNcUSwdhhgwI8hJMBcJgLCYWfBvg/5ReuvKhms7KNnq2Q2ASOvdNjnNY1znUzHW1lPdy+P971v+/wBa/fJ6Hr5Ff9VMOkZEEVI+hIiJqwp4vVGVEuwTjJ6ovi7wX4rkK/oM/mm/CPE9vFcC+lv7JqPcEWjEfHJS6lHDdBiFV06kUH/HAMa2XkYmckmSNk4x8eSTOSTOSTOSTOSTOSTK/tVs7NB+WTOSTOSTOSTOSTOWTNlQFIwO/wCSTL+QgyeCjGgEQaCKGLkkzkkzkkzlk6uckmckmckmckmckmckmcsnVTOSTOSTOSTOSTOSTOSTEbL1X5ySZySZySZZ1qWQE4s2vHEEjzCFnInZFdehaOtWF2fJJnJJnJJnJJnJJnJJkaCfmGZE5ZM5JM5JM5JM5JM5JMibInNw5JMc2TlXIPpi/mm/CPE9vFcC+lv7UNJVDkyEwsFgjHcOjIIRg0hiZ8G+D/lF66+CCOyspI09WyCikx17Sba0hqwXkPoauUSKUsz0f3vW/wC/1r98npvwpx5oruvcSLZVMkzKGCAesChg9UYw6bBOQnqi+LvBfiuQr+gz+ab8I8T28VwL6W/uS/W/GfBvg/5ReuuCkHs7OZyLx9W1hqSKE9ayCa6PZblen+963/f61++T1WEMtE41jNfEeHVAjP8AVGDKmxTG+uL4u8F+K5Cv6DP5pvwjxPbxXAvpb+5L9b8Z8G+D/lF66weeK3t3yInplmjhjdLJfnH7EUB2beDWoien+963/f61++T1WkPXrjIk1W0Lo4RALhFRURfVGPOm0TkL6ovi7wX4rkK/oM/mm/CPE9vFcC+lv7kv1vxnwb4P+UXrrJSH29ukiL6LCyBrR1IMnebscqPJvXzDsq2jJ6v73rf9/rX75PVZPeyvMdHUs72mFYYDZGa29ISBiRy4GTj+iOUj80zxL6ovi7wX4rkK/oM/mm/CPE9vFcC+lv7kv1vxnwb4P+UXrrjZiLS0hent4TkQDxukmJ25xKrDSwVL5SENs8vDZg/LnRer+963/f61++T1WEr4Ai5mUpMhdeIRKqIqKi+XF18ziaYPcBUewa1ZJHI1Hs8IzpvzHMFiJ6ovi7wX4rkK/oM/mm/CPE9vFcC+lv7L3tjY57hNilklDkmsrSYScQYavslPCnVzPg3wkVEWLjzsxZI09+5gT5KcC1U5n3NQz5zbZrkXzg3OkaYWsa7YZL/QSQzbS+KY2gFkkSY5rGsajWeF0TCN2Cy+r+963/f61++T1HyNiCKkfTzRkACzR+EsMM8bo5komjOV9ZHZbYL802+SL/u4NzoPNJXSw7Rr0vwbb1UnwQ8N/sk46+yPjX252ZEqK1ypi/FchX9Bn8034R4nt4rgX0t/ZLiWYIljYSoiwddro7AsaC5qbF+vcXxXBTWxNVrc6Tcs6cGxiihL/I2uZ+Rdaz8jaz/7TR9XxNK1lPZmrUcfwr6+nQ8+IfysTPKw88rEzysTPKxM8rDy+Ep4GgOL6Tc6Tc6Tc6Tc6Tc6Tc6LerwzpNzpNzpNzpNzpNzpNzpt6qJnSbnSbnSbnSbnSbnSbiRt6r0zpNzpNzpNzpNzpNw5kDQilmpQKqWuEeL5WHnlYmeViZ5WJnlYmeViYtbSzXco75NVoZPmuk6yvuujavn5F1n/ANfkbW8/I+tZXVwoIqDj9JuLEzguQfTF/NN+EeJ7eK4F9Lf2unEjlcisjVvIrmJ01a3kJRETFaSicVWMhUa7OM3tnGfFjKROKrGUicV4T5wnwSteKacUiLK7gqcpHDjisJROKqwlE4qrCUTiv6+XNQ+1jEa5FlVqK1WkonFVaSicVVpKJxVWkonFVaSicV6ZPHnxFmX2VpKJxVWkonFVaSicVVpKJxVWkonFf1VkxWkonFVaSicVVpKJxVWkonFVaSicVVpKJxVEmR6ritJROKq0lE4qrSUTiqtJROKqwlE4qVBKQNPAtUC6vCFDYrCUTiqsJROKqwlE4qrCUTiqsJROKqwlE4qytclvLYJ+smfr5+vn6+fr4rSUTirUmTimK0lE4qvXVOGRtVrGov8AMN+EeJ7eK4F9Lf3jDxwIOvOmz1CwTyN1yQldispCfQfZCVzGPJcQDeiTQD64sTLe1gi9B9kJXsY8mQgO+ElHFoWQNuzvLfQdbg17o0KUxLUGZa3TuZtHGj/RK/kje9I4ujUV90nqWI6Pbw3kemZjnxSMawMcS7qhQPTKznie1Ih4a3YqsaH0nGQhCykza/KRJsZspX8834R4nt4rgX0t/eVEXCRBioFhnB1sIK5nPg9Coi5ZBSlCuZBXVRjD5Tz/AEKiLl4AYdWyDB04B9fEweX0KiL7q1OVUynr3VoajO9CoitVFi1otnQGk9RNa99wEcnpIZM+CVsNFTW1WrWv9M0fVikjyGls3zAd/wCkkYYqB0BAmtBBXMh8H8834R4nt4rgX0t/xTnNY1znKeCg7CVReKf5s34R4nt4rgX0t/xRpQoYss5Ovi8t2yOw/wA2b8I8T28VwL6W/wCKmihlbyPfFE97Hu/zZvwjxPbxXAvpb/s5vwjxPbxXAvpb/s5vwjxPbxXAvpb/ALOb8I8T28VwL6W/7Ob8I8T28VwL6W/7Ob8I8T28VTimRk9GNI88wdnmDs8wdnmDs8wdnmDs8wdnmDs8wdnmDs8wdnmDs8wdnmDs8wdnmDs8wdnmDs8wdnmDs8wdnmDs8wdnmDs8wdnmDs8wdnmDs8wdnmDs8wdnmDs8wdnmDs8wdnmDs8wdnmDs8wdnmDs8wdnmDs8wdnmDs8wdnmDs8wdnmDs8wdnmDs8wdnmDs8wdnmDs8wdnmDs8wdnmDs8wdnmDs8wdnmDs8wdnmDs8wdnmDs8wdnmDs8wdnmDs8wdnmDs8wdnmDs8wdnmDs8wdnmDs8wdnmDs8wdnmDs8wdnmDs8wdnmDs8wdnmDs8wdnmDs8wdnmDs8wdnmDs8wdnmDs8wdnmDs8wdnmDs8wdnmDsln67WtxPRwzhnDOGcM4ZwzhnDOGcM4ZwzhnDOGcM4ZwzhnDOGcM4ZwzhnDOGcM4ZwzhnDOGcM4ZwzhnDOGcM4ZwzhnDOGcM4ZwzhnDOGcM4ZwzhnDOGcM4ZwzhnDOGcM4ZwzhnDOGcM4ZwzhnDOGcM4ZwzhnDOGcM4ZwzhnDOGcM4ZwzhnDOGcM4ZwzhnDOGcM4Zwzh4/wD/xABKEAACAQMBBAcFBAkCBQMEAgMBAgMABBESITFRkQUQEyAyQVIUInGxwUBTYZIGMDNCUGBygaEjYhUkQ1SyVYKTJTRjg3OUosLR/9oACAEBAAk/AOs0aNGjRo0aNGjRo0aNGjRo0aNGjRo0aNGjRo0aNGjRo0aNGjRo0aNGjRo0aNGjRo0aNGjRo0aNGjRo0aNGjRo0aNGjRo0aNGjRo0aNGjRo0aNGjRo0aNGjR7zMCSfnTvzp350786d+dO/OnfnTvzp350786d+dO/OnfnTvzp350786d+dO/OnfnTvzp350786d+dO/OnfnTvzp350786d+dO/OnfnTvzp350786d+dO/OnfnTvzp350786d+dO/OnfnTvzp350786d+dO/OnfnTvzp350786d+dO/OnfnTvzp350786d+dO/OnfnTvzp350786d+dO/OnfnTvzp350786d+dO/OnfnTvzp350786d+dO/OnfnTvzp350786d+dO/OnfnTvzp350786d+dO/OnfnTvzp350786d+dO/OnfnTvzp350786d+dO/OnfnRY5bG057vE/M1IUV20rhSxJ+Aq7dfxMbVKskbDKspyD/Mnr+h7vE/M19+3yq0iSb2HtO2A0sGC5yTW2IaH+DHq6CkmSCQo0rZwSKtOwugGIAJwdNWqGNmRTIWOffGahWUmZUwxIA1CoD+x1mJDk5zjAJr9HSLYDOpg9QFZLZGLxE+YGRVusRikC4Ukg5GatUEaPIofUcnRVubi8kAwnDNdEG2il3OtQJN27kDJIGMZqPBa27XRn/bnFWyxGEr4WLZzVqiLEHKuGJJ0NioVnmAzLkkBa92MRK5A2nLDYoroHVZqTlySdgpSjKdMiHepqMPJHEzKmcaiBnFQLFLEQdIJIKmrRZdbIHYtggmujhMU0jxHJLDNdC6P6y61bhjKIyIy2ANYzvFdFtKUjBnYhtCVEIriIAum8YPmDVmbq5DaW4A8ABXRptdRA1bQVzuJVqhWUvKEAJIGCCagGv2btuzzUCxskjrpUkg6RmrVIhCoIIYneSK6GluHgOHfaRXRxtZnbSPj5Ag1GZJpCRHGK6BMdrIRhhqBwatDdR3Px2DH4A10ShbgHeoDC76sp8DjzqASkyrHpJxvroMshGQw1kVaiEwqpGGJzkkVYEvHIUhVGJLnURXRwt0YgZGoMudxIassWOERd7GuggLT7zElAgg6XQ71auhUmETeolqsGtro5x8QM1bm4u5ACI+Ga6HNvFLucVCkwncjaxAAxmuii9smA0zg0hjkRtMqb8GrREWIOQ4YknQ2KtEkUSBHkLEEbMtVosQ1siSaiSTvWoVlllcgKSQNIqLs5JYldk34JGcVbiUyuVwWKgADNdElY5nClxrOkGrVAgdlEmo52LmoxNcvt0E+FatgXkRD2WrYC5xXQRdT5rrIqzWExxa8hiagNxeEA6PJc10O0Eb+YDA/EB6sfaYp4e0DgnGD8Aa6JRvgzmrYm5uog6QA4xmugjDbSHxDUDVs92Z2QQpH56xkE4zXQIihc4ByVNElJkDjO/B+z+v6Hu8T8zX37V01ps5I1IiJdgF/ppgbxiD2kmMuali9nEgMm2Pw0tuYtHv68atVRyjpORnUMSNILbWBArbc64ex/q00iC27ZcEaPHg+g0hcCIAJ6mLVZ2kdo8b+LeUo4MsapzUiuhppjI4O5htAxkEAgg1D2U0hnZ48EaSRRj9qE+Iu18Oxa9iKo2oaSAaILxe4xHEIBUcXsfs2z9l+z01xjpcykTRxDy1l9hP4CmY3N68rsG3hcAjP4mvCWTP9o6Nh7I0AEYPpNGICbRgI2rw9R0WspPw0S0MhCxH9Up+gr79P/Cvvmr023yoJli/afHUa/ZCO45aq/bCJiPiX96v2uZOVeLMGr8lf9ga+/lr0L/51ZROYiQ0kn4UIhcmWD9l4dOqiuRFF2Wvw5LUbExMRuwpyDkUVMqFvCcgAnNeu56v+6jr7h/ma9CUqkhrgpn1aq/a6JeVeD2NSaC9gLRh+GnRX7PEVG3Em3X23p1nGKhL3srAI6MNClxgHAox+1C4xD2vh2LXsRVCSuk4OSKYGSLKMRxCYoIITY5bh4feNeDRFSqbjM2c6fBq8s0JP+KHV4/j72P91byQD/XHRzAEizy1vWwV97LX/axf+IoEiKVyBxOjAFOe1urlVjH+zFeiH5165f8Ayr7l/wDzrxCecr8QPdrGsXK6K39k2K+6WtGsCAQ6/BRsTEXDe6QDkUYzdxwsF9GreBSJ7GJR+wK+KgVtxEFVW8QxsIP2f1/Q93ifmaljRopSx1k4IIxTBnihVCRuJHX0whglkZgkm9M/EGrsTXOSQFzjUfMk1PCIFkRyhzr9wYqSNHEyvl84IFTASRoMSICQHBJB210tHHYDIIjyWKmponEzLo0cB1TwmB5JWCAtr98VdCC7GMk7iRuORXTiJH6lY6jyAqeMPA2SZMjOzFOpcWvZavLOnFTROZimNGT4alhkgErSJGuSSScjVmpYkMJfOvI8VN4Y0AdfJ0GARXS8Ig24GSMcwavzdTSyBs5JCjGMDPUwE2WjxxWhh5yZm+DVPCIA6uVy2vYuKljRopCx15wQRRBaE28ZIrpMxpcqe2iLFBkEipVkuZQAxXcoHkKvRBIzElCSuCd+kir8TBMe4CSTUqRskquNYOnAFdNRez6dPZa5NOmumYooySSqPIASavRquZIi5hLAFdeMNkVfRRiVmJV941nJFdJRzzLKrzls/ukEBKmEVzEDofeCK6aiEYHj1EnnpqdppI0CvIc5Y8dtTQmGRpiEBOr3z1PGkgmV8vnGBToZEiZSy505NTQuJlUKIy3kSaujBOjzSRycGDVfrKiMCQGLlwKfspoiTG+K6Vj9k3Y1sRiiXdjqkkIwWar+2TtWOSeGcjIINX4uLhCGCoDjIq5FvdjGScgEiunESP1KTqPICiWxI2T8FrpMex3ESu0TsyAFhkggU4kmkbXK9TwtHKHChM6vfbNTwIutXdHJBzuamCiNRIrcGBoeECJPidrdUsSGF2J1k7mFEFooVQkbiVGKniNo8usoM6yOFNFGY5Vb38hdIGMDFTwiaNI8sfAShp0Z0LElM42nNTQukyEKELebZq6EF1kE5yASPMEV0qGhjO4MXalCxpHoUcABipoXEoAXRqqcQ3UQwrEEqRXTcax+sOS3PTXSjR3VvpzN94QMHNdKQGBWrJSJcZO8neSfs/r+h7vE/M/abmcCNcdmmmhhVUKPgu7rkdFLq+U35WnZ0iBALYycnPf7TtbfGjS2BsORkfq55mkl15VsaRrOT+pmkjETlgU/EYrJSGNUBO8hRjb3J5IkLhmKYycVqKqSSzb2J3k4/hHr+h7vE/M/zP6/oe7xPzP8z+v6Hu8T8z/M/r+h7vE/M965eCWS8ii1qASA5r9KLuZVcM0TRxgMOBIFX0cUpGQm1mxxIAOBVwkkLKWEinKkV0pEXdgqjDbSTgCpwLiSMyLHtyVU4Jq4VZ5geyjPiIG89U6OsEjJKdoCsm8H4Vdr7PNII45CCAWJwBXSURnLaQBnBbgG3E1eJDr8IOSzfACrxJShww2hh8Qa6QjjmwMptYqOJwDV3H2Vy6JC4OQ7PuAxUwiR5FjVjnaz7AKvEiL+FTksfgoq6SYKcNjIIP4g7RXSMYlQ4ZVDOV+OAalEkUi6lcbiKu1hEhITIJyR8BXSMbzSnCqAQWNXSwiRiqlvM1eJMY8a8AjGrdvFdIxpL5ptYj44Bq8ja0CFzKDlQF37quVWGUoEcg4Jk8POpgkly5jhBz77AZwKvEiZxlV2liOIUVdJMqnDY3g8CDV+kMjLqAIJJG7OyrtZkRtLkA7DjPnU4lickBgDg6Tg7+q6SFCcAsfEeAG81fJK6DLLtDY+BqcGe309qm3K6xkVfRiK3kMcjk4VXHlk7zV+jzEEhMMpb4agKvlSYAEooZmAPmQAau4mtdJYy6hpAG/JrpOMyudKZDKGPAEipVjijGXc7gK6RjlmYEqgDA7Np3ir9FmG9BlyvxwDirhJIWGQ6nNdKQdoX0DfpLZxjVUw9p7LtdG3OjOM9Q1GGMsB6m3AV+l0r3coBa2inEUaE/ugCphFbwRga5G3KB5k10lE0rbl2qW5gVcLDEWChm4n4VfpNKg1MACCBnGdoqcSCKVonwDsdN4qYRwpjUxzgajgVOqC4kWKMnPvudwFTATzqzRp5sE31eJG7jKptZiOOBk1cpNGTjKHODwPA1KscaDU7McAD8TXSEbzYJC7RkDhkVMHktpezmX0NjODVwsk1uQJEH7pO4GpxIscrROVz403ip1cwSmKUDPuuN4rpOEOH0HfpDcNWMZq77BLrEEcik51v4cYrpy3FpaSARiNGRpX8C6zk1tB+1+v6Hu8T8z3jjVfwDIODXS/SM+Af9OabUhzxFBWuT0i8ZLbSEHhFJHGiwyYVQFGuTZzNIBIt7aa68CdEzYQb2YvgKKYm8ve3kdPulC+6g6rdfYD0lcC5mRszIhPvaUog2ZurML/AEGoY4zA8RttIAw2qujlu+k5bbWNZCCNMDUSxBIq2t4ZZOjAxSFy6nD7CSQKCvdS9ITrMXGWwDUES6elYuyTwJqqwtIYP+IW51RTF21atgwQK6MjuekPZy5d2EaxxZ82wTtq3hgkksYndISStWEN9bxyTF7vX2WC4JIOQdRFfc/WhvuZc/kpQM3Enh+FAMLWGa5lG8DI0rS+Ew6fyUqPcz3UxnYjLE6q2Wkbt2QHhBO8CvvrCv8Avn/8K6LjuekBb63d2EaxpnzbBNQQwytaQO6QsWTOaAaKztorYeY1k6mry6Tk/wDGmsJLaPtHEMgcSEBifEKj0dumoqduDuIoBkt+jtdurjI1E+8QKULPK8scugYJixVtFK5SDUXfDL7mwr6jUDXYkmAEbga3uXbbqzVhbWwHSKhDHKZH2japro+yleVTraaTsySNg+NRO3YXEvtcLKuO1J8K10VbW1uJ4HjIm1SpluAAAo5lvbmGED4sCaQAC3n3Dfproi3l7CXRcXE0gjV5MbRgAlqxHJHd3C6U2hckZCmreJ4TBE2CoIJwDn41Jbxzf8KH7dWZdOuoYVuYYllEkPhdD8doNepGP9KtVrCsIsjIpAGQdOQ2aJ7GeVTPq3MUHuA1Gi3ENzD7Mw2Nq1VtZrr2iQcFiWl0f/TIfw86kseyXpO4zHOr6i1Q9lKJkjkQetJADX/qlvX3FzVrZyyxTJHm4dlKxjcFwDsNJaxJd6GEMDMyhxsLbQKOLefpOJJuBWreLVD+zOkZXZjZw2UNfSN50pohHkg0e9KakdzGIMuxyWYjJJqwtJof+JXBLSzFG1atowAaAjuRdT6gh1BWro/os2c1qAD2r5OR4j/uqZTJBf2qyPRZLKK4iisY/UGfDSmvSPl9r9f0Pd4n5nvSSxgSLIrxkBtSfEGv0g6WkCOCFkmBV9PkRir+8sp5gBMbdwok/Egg1cXT29s5kMTSErM5OdUnmTTOgguEnXQQMsm4HIoM0ttGURD4M5yGI4ipJBLaBwijGk6xtz1F5Eu55ZZA+Dtl3gYFNLLbjpOADX6Xc5Wr29uLeBg8NtLJqiQirme1uoQVSaFgG0tvUgggiri5luWhMUrzPrL6iDk10je2TXBzMkDgK9PMI7G4WZDqyxZPUTxqRwEnSfKEZ1IcgbfKrq5tLqNNHawMASnpIIINXVw888HZSSSPrJOc68kVJIUkEmtmwXYvvLGnZo4V0gvjUduduKeRXspGdACMMXGNtSOJLOR3QDGCSMbammnubg+/NM2pseSjgBUrmS8ZC4JGkaBgYrpG+shO2Zo7eQKjE7zgg4NB1hmVhIwOXJbexJrpvpR4kKFEMqkApwGK6a6VnubWN5IA0gJD1e3VrfizRHliIDOGUEhgQanu3u5bIqXZ9blhk6s4zqNdN9KwNOiyyqkirl3AJJ2VeXs1tdwTy3BlOpTINgJIAGa6a6R9kycwK6qpBOSMiowkUShEXgFqSaC5hz2VxA2iQA7xVzc3d4U0Ca4fUyLwUCpJDJdiPtA2NK6BgYqWcR3F17SgDAdjJxSukb25ntpleN5XB8P7uANxrpi/tTLjWkTjRsGMgODg0jvDPkyMzZd2O3UWrpW/uEj09iJJBiPBGMAVNNK8S4hjLf6cRxgsoqVxNao6Koxpw+/NX97aC6bVPFA4VZDSs9vcSMzJIdXjGCK6U6Q9iV9S2nbf6YrpK7tJxD2JMOnamc42g1JNPdT47W4mfXIwFRh45FKMp3EGukr+WxQgi0eX/T+BqIhFIMZQ6WQjcVPliukL2+MBzCly4ZEPwAFTTTXMuVDStkRpnOlB5CnczS26QshxpAQ5yNmc1030hBDcStK8UbqAWc0JIrY4OUPvghtW85ySa6d6Vk7Fw8eqVTpI3EbK6Uv7maFWCCdwwAcYNXd1ZXZjCvLA4XWBuDAgg1f3V08pBLzvq3eQAwBUZaJ8HgQRuIPkRXSl/dGH9ik8uUj2YzgAZNB2ubt9TM2DoHBakkMl32faBsaV0DAxUkhWa4eclyM5c5IGKZpEvJ3llD4Iy4wQK6b6StrYkkQRyjSAfJSaeYxQSI/iyzaBjDk8aLRRKyECLAxoOQBkVuAx9r9f0Pd4n5n+Z/X9D3eJ+Z/mf1/Q93ifmf5n9f0Pd4n5n+IsRGgyxALYHwFPrikGVbBGR/f+K+v6Hu8T8z/CrUyQvKqMwcLpLGui7iOzkcILgldmdxKbwKOQdoIqKSVshQiDJJO78B8TVhN2kVwYDEpDkuKjNstvK8coYhsMhxsIromZbdyAn+ousk+HUtDTJJCEA/3S4GKs5J2htRqC4VQI1GoljUbCPsO10HfQ7CIwCVwxzpBGdtdGyraTyqiyFlD+/uYx8D1X6qQoU28y6omx55G0GrOSyf7zxwn4OKdXQ7QykEH+46rJ7iC3JEkodUUlPEEz4iKhZ4Y4kdp/IM+0J8f4X6/oe7xPzP8ACiABfQE/mohnuHiSEbyzFq8SRIG+IAzXkpNYlvrueZ0i3kFm8TcFFNmF+kFNw52B38RJ+JpgYWvUad/IFPeC1IrQXN8HLDwlYttOGWZRGrg+tsE0wYSPbwu4IKqtTqLZr+KGWQEFVCV0k93MH1wwHSEBUeLRGPLquVQt4U8Tt8FG01YLaWzbDNdjU5H4Rf8A/ald2kfW5bAGr8FGxRX7RbZyvxxREkz2TFUUgknBLMfwFOmswRyyAEFiXG81MJFSQxsQCMMu8bf4V6/oe7xPzP8ACreWZjdxSFUQv7iGrGNGxlDoIK54A+Gp7JYdmkSI5YcckGpbZwQNPYqy/HOTVrFCXOX0KAT8agSWMnJVxkVYQGGJtSRlBpU8QKtIpFjOUVlBAP4CoEeArpMZAK44Yqwg9n1auy0DTmreMwadPZlRox8KtIoc79CgE9UEZuNIXtCoLADyB6wCCMEVZQxiUEOFQDUD5GraGHIJAA0qT5ZxT63eRpJX3Zd9pIH8K9f0Pd4n5n+Z/X9D3eJ+Z/mf1/Q93ifmf5n9f0Pd4n5n9aQABkk7gK6Gvb9QxXtUAjiYjgz1b9hKygvHqDaTwyN/8OcKiKSxJwAF3mugb69TOBLgRRH4M9RdnKUGuPOrSfMZ8/4R6/oe7xPzPeW2L597tywGPw01F0T+eWo7M24Qe1RQu+WUbNYDjAYUSY5EDKSMHBq8SGyPR+shyqjXrxvNX0Ulq9jLJIIyHGsHiK/SiKyj1HsYxGgGPLWZDk0V9pQSW7PHsBIbTqFXdnCkVsjR2Yh1jQFzgv6jQEebV5CDtAdQciumdYvbmFWgMKABZTV0sVk9g8rayqguGwDk10qLGzjmaKAJEsjSaN7MTQT2uxnMMjoMK43hsV02yKjTMkAgQgqjYFXsVvNJFE80zprwpXJIFdOJ0jBeF4zkIHicDIPuV0vB0dBbRqZZn0GR3fbpXXV9De+zossVzHpHaIdmHCmpg1ndS3CWuFA0tbt4c1MB0aLxbJxpB1SaMsauFtikAmuLkoHZQTgKoPmavBeW94jGGbQI3V02lTiunYOjLa0k7IZ7MyzP5/tDsUVcQ3E1nKFFxF4ZEIyGwNgNX0VmQwMkzqG0p54BOM10uOlLRrdnkkCLmFgdgLJV/ArQ38kcIkZEIjFXCzQwXoSAjBUJpzvFfpTAlzGjOtsI41jYDbp2nUaYRR37gTjAwcjdk1LiK5klEy4ByAtdNwdGW9mQhc9mZJZN5x2h2KKu4bmazwUuIsaZUcZBIFdJW4uSZNet0Q7Gq5BuomuOzkA9DYWv9TpG5tRIo9ChctIRwFMkl5cpEil8KuuTzav0ntekAZY1nth2Xhc4Jj0VuIyK6dNrFa3rQIggR/dxkVdG5HR87ASaQh0ouTsFdLrZCUF7e3WFXXT5a2NBYb+0DxvgZXWhAJANfpGXK2yy9n7Og31exWrvHG007oHOllydANdNJ0jb3aPtwgeJ0/pq69nku5n1yaA5VEXOcGr72qOySJw+hUOCpc10uLGKQubaFYVcaQcAuTUard207QTBfCSnmKuxbm4vYoXlwp0I1dNL0pbzo5nGhNUIG5i0dZ0QxtI3wUZrphbQygyQWywqyafISMajEdyJPZZwuwatdXVmqwwhxYLDkCNB4ddHSTYmZfPS2nYK6Y7Zb+dBJCYUGkFdeMiuno7C10jwxqXLeeWkOMVdR3J6OfIuEAAkjKl66YS0EpL29sIVdNH+8mumgiKIh2CwqQCSEOGNdM+0SiGNoT2Kp2Z1V0rbNOY19zWAS2OqYHo172WyjGkDTIigipgtnbz28NyNIOt5jV7DaNLG0stzLpwiDYAoc4LE10xD0lb3UTNHMAgeN03q+g4INXSrE47aylfCKUx4OBINXKT9MXEjwwIuC+SxAYqKn1XMFrkyED3pa6baYXlzFHJD2KKFDjJqXNle2pMAIA0ypUpFjZ26iUAD35n2j7N6/oe7xPzPeuLiMK2rMMhj5kV0j0n/AP2nq4uZLGIAiOadpe1ffkg7lFDAFdHCa0HRmNTpmMSa66NWG1FjMJHiQKmtjsBIr9HLjpC6muSbaURiSMx+S6icIBUHs0009xpUjAGSCuK/R+9/4gsPYByB2GcaNeurZ5ZZ4dE1wNkUQJy5JqB5Ftr+28AzhEGNRqw7ayHR0qlnTVGH1bAa6FvLmD2h3tpbVA6sHOQpqylPSnTk0pigjAcxKF2A8SK/RzpcP7MIg7QjBO8k1Y3Tw2V3HDf2vhkdYlAIwK/RySytILhtcjRiMnKeYG0KK6EbpCxvEjJKRrK8UiDB2Gv0fmsQI/cd4ViMp4BRVpKOkbW8N2kWn3yS51LVvJLep0lHdzooy2p2JbNWMt3bT2whnSHBkQodjAVYTWllYo5jE4CySyOMZ010A9/Z3U3bxTRQiZoyd6kGuhH6PQsAuuNY2kGN+kV0TLfQudEscYDELx0nxCuh7jo6zjiYXJkTsRMTuASuiEdn6SlMTTRAkoatjbJJc/8ALbNKEaNhSv0WuJ+l2EokuJEBQsf39ZqyJMcCZR8q6OKtJmjEkhuJSzvgafMknAroJr+zvXEqPHGsrxNj3lKmug5LBSNK9pGsZl/9o4V0LD7Vqk19vCNfiqzmWdnuNEOjaQXpDL0nc2RQJvMaBcLGoqEe12ohlEMnmU3oa/Qm4WfUA4NsionE6z5DqgeNZukneMkYDLULxJd3TiNmGAVK41Cv0fvprm3UxxPEoaKQDwnVUPaX132szxxjUdbsDpFW7vP7FGgjUZJYCrSa4tYGiN5ap42VUAr9HZbKziMwdzEI2JKb2UVZSW9tZwtBbLKMM7OfeeoZEguoo0SQj3X9zBwa6CvZ5bfKQSwKGjlWsC6u7l7iVAchS+5as5LlIekY5JURNZMYFdB3HR6QTF7id4hAHT0aR4qbT28LJzGM10BezXVunZRPCA0UgHhOqnUX1y73B9IlLagtdAXsd9JD2Lu4AgXIwX11ayujRRLPdbokjB96raV0t79dekZCIFxk10Nc9IWbwItoI07YRsPECtdGGxivAgijwNIUoRzFdAXs1xb5SJ4gDFIP66tne5fscxIMnOoEgVA8k5t0ARRljpIyK/R65iuA0ObmWAQrDo3kNTZIABNWsiXw6SkvIUYYcsj1auekbi9S+kjAy4bXsXH4Cui/b4VtzBc24UFwDtDKp3kV+jM9qFVj7RJAkIBqycwxkw2ME67FUDa+k1YPbdMwSPJE+nRKSGJC10RemRkguL5I48uqZzpr9HelIks7tJ3LxADQgpNL2rpdxat+nPvA0MXHSEzXUv8A7z7o+zev6Hu8T8z9jZw9o8hQDGG1rg56mdvaLl521Y8T7wP4yzGSaBISpxgBCSCPxokLIjISN4DDFXUscEWhWbAJdEOdJoYVVAA/Bfs3r+h7vE/M/wAz+v6Hu8T8z3okcz3scB1Z2B95GKhR8xNNcu2f9NP3d3ma6NheW1nC9tMxESrgH3sbSxq1WC+tMa1Rso6ncymlSJY3lUhST4GIGM+Zro+17ZLtojHM7KAgFdHWAht7owTHtXyCPFppESGx7PS/mQ65Oat0Nva2jSxSNvlK+f8ASaijEhtWn0DOMqKgzLOiaIYz45H3KM1YWgs5pVRzA7l4S+wasjBFWyT3s6GT32KxxxjzYiuj7YS2sBlieKQtFJUEb3vSDQhIv6wCx+AFRIY7wTa2OcjQKiEhklCXDnOI87gMedWqPbaYmnkJOpBK2gGrdJ5pA7lGJAEcQyzbKhR/ap7dCHJwBNvIx5iohLcyMCE9KZwWbFDGVB6uj7F4bW7aAmWVlY4qFAiWCzlwTnWWwRUKvbrHJqm4um8LVlZOLVYyWnd1J1jNW9tC1lEjl4WZlwQTXRlr7HqIi7eRhJKBsyABgZqygM4laKeG4cr2bDeMiujrFbeK6MMxEral0HDaBVnatbW8pjMtw7jtXG8IEqx/56GQwvbvJpCyA4PvVa2ZjvpDEj27uWRlGdzirGxWCPGJLiRsyfAKKt+xuIJmgmjByA6VGkjNcwxFWzjDtgmolkZHRQGyB77AVbie+vATGjMVRVAyWYjyFWtujXKM0E1uzFCU3qQ4yDRAVRkngK6NtTZq7CM3EjB5tOwlQBgCrKD2pJjDcw3DlRGw4EV0dYCG3ujBMe1fII8Wmrfo/srO6aDExkDOQM5yKgaPsiyMgOrLodOFrou1Fl7hkRHczxIfM1aC6F87qFGxvCCuKsLZILx+yjlgdm0OdytVnbSv7KJyZnZdmojGyrCz9ofUZmaVuxjwdgGBqYkVbQxXUMImR4WJjdCcee41aWpt7aQxGa5cgSON4QKNwqxhF9BcGG5gmkIVSOBAroywAtrnsZz2rggjfpq0tnis30SzXLlQz+aqAK6Nx0hcziBLcuNGviW9NQWOi9LgGBnJXQPPWP4R6/oe7xPzPe1AP0pACQcHDU7vZdJqVEkh1yJMm5S5otDFLdLibBMasE8JIpGFpJGkELkFdejewBpSOjbK6lcL9/MXJBP4JX/qs1f+rzUSkFw8Bu5xvESIMqPxeogsC9FQJoG4Cunb1bGOCVktsJ8dOqoZJBbdhNIieIoAQ2MVe3EzO6aYTNM7asjAK0GWxlsjbGYA6Y3U5GcbgadpUhs21TBCIySNwJppZE0QpdpKe00RygZZM+HFRCW4ZLgRfF9gY05ed+kXe4lO+SQrtJrys4LdP6vEKQ64ejPYUB9aqTIaQyMtzanT5kpWD0jeTwNKfu01jTEKDkTyJCgQaveO7PV/6vNQKS3PRkcTy/cpnLPSYii6Lm+JOraTX3VvRwZLSNV+JBAqQ213ZIYngZG1uQd61EYnvLyW4EbDBVXNefSs/wD5VPcWtyly7ITNLHHJGTkMuimmFk8xEs2JGOo4BbJq/lvbhptEyuzTqsJ8Ry/grpS5tVglC2sCO8SvH6ho2sTSSqv/ABKXSJPGP6s1uN/bqeO1qnvmdZYQBJcvIu1wKE//AA8W7QzPEWBiJ2hiUq7kubtNTx/6ssoTiSTRwzxMgP4kEVKba7s9SPE6NqfB2FKiaL268edI2GGCHYK/9Xmq/e3c9Iy6FEzxkr/SKjd1iuC1opXRJJBE1XtxrZQHtmmnL6vNdFQyPHBcPhEBL4CAU/bst4lxM6qwESJxJFf+jj/yq+ms+i5YXZ5YiU1yA7ELipLh7c9G7JZS51kOMlS+9anuLW4F07xsZpY45Y3OQV0VraKWY65GLnUwA2gvvFf+rPUpt2e9e4ikcHTKj1al57+5CWvaoVZMHbKBV/d3RJly00hfcn7gpZO3tFVpNS4Xbuwf4P6/oe7xPzPeUHByMilBxtGRuNdk0V7OkkabyAFx7wNAADcBSgDgBilAycnApQMnJx5mlAJ3kClGSME+dDIO8GgMDcBUSBjvYKAedKCDvBGRUahfSAMcqUEYxgjZSjI3GlBIORkbqUAneRSgZ2kAUgwNo4ClBHAjNShorUFo4cbO1P75P4DcOpQMnJx5mgNWMZ86UZAwD50oBO842mlAJ3nzNRqWG4kAkdSgZOTgYqNWxu1AGlGP8VEq536QBmo1YjcSASKAGTk4FAHzwRmlBHAjNAEHyNRqufSAOqNWYbiQCR1KBk5OPM1EhbiQM9USavVgZ500YSyneWQMTkhlxUagnadIAzSjVjGcbcUisOBGRSqCBgYHlUasB6gDQAA3AUoGTk4G+o1bG7UAcUoyNxxupQT5EjdSgE7zjaf4P6/oe7xPzP8AM/r+h7vE/M/zP6/oe7xPzP8AM/r+h7vE/M/zP6/oe7xPzP8AM/r+h7vE/M/zP6/oe7xPzP611p1p1p1p1p1p1p1p1p1p1p1p1p1p1p1qRRTrTrTrTrTrTrTrTrUgqQU60606060606061IKkFOtOtOtOtOtOtOtSCpBTrTrTrTrTrTrTrTrTrTrTrTrTrTrTrTrRyPtvr+h7vE/M/qfCqlj8AKWH2O+l0Iqg648+Ek/jSln8MaDezncBSKsro+Qu4EEigNwoL/igvioL/igv+KC/4oL/AIoL/igv+KC7jQX/ABQX/FBf8UF/xQX/ABQFXKQ6LyKQljgNg+H4mgKC/wCKC/4oL/igv+KC/wCKA8P1oL/ipFj1xMA52AZG+mV9MajV5HA30F/xQX/FBaA8PD8aAoL/AIoCpFjLxEBzsC0VbCKM+R0jfQFBdwoL/igv+KC/4oL/AIoL/imVNULrq8hqG+pkmMduimRTkNp8xQX/ABQX/FBf8UF/xQX/ABQX/FBfF9KC/wCKC/4oL/igv+KC/wCKC/4oDxGgv+KC7q4fqhkgbBnGT8atmiEU7REMQ2Sm/GPsXr+h7vE/M/qd7xsvMYqznSSynVp2ZcIFi4GrvsxEjBY5Is+82zVg023MhAKaSopF3Ui0g8VItItItItItItINxpFpFpFpFpFpBUYJS+hkf8AoQ5NItItItItItItIPD9aRaQa3iZV+JFINaxIrfECkWiBk6UUDLO3BR5mtXR1kfDDGcTv/U37tX3SHh+/aom6Q6P+8AzPEP9w8xTJJG42GlFKO0eIhaQaliVT8QKRaUbhSLSLSLSLSLSDW8Lqo/EqQKjAlit0Vhv2ikWkWkWkWkWkWkHi+lItItItItItItIPEaRaRd1enrZBJChfDrqBApLUKIBKYXVi8gxknIOBS4E0YbHA+YpQ7hSQpOnUeGfKkgc20UboI8oNTjOkk5poOxs0RzJEpUAuMldprsIYliMsVu6FmZBtGpsjBNBVk9laYgfAkCkjNxKO1YyZCgyEksQK0ZimlTWgwGWPzrQiMZXGNgEak4Jpoba3UFoI5ULPKvkScjGaj0PJErFeBIzipJobiIHs5oWKOtRr0nb+pAI7gfFfC1OwkjwJInUo6H8VPVJFFawOY1ldDIZXG/AyAFFQoltDFi5YgktNkjSh4Dq/R4uoYhW9qjGRXQMkTMNjpdxhlNRdh0jEgLx5GHX1qRsI7nr+h7vE/M/rPSa4Dq9Xf4Hv9pn2+HVoz4M7c47/o6tXa9i2nTvzWdfZJqzvzinCxxrkn6CkIkIxawH/oRnzP8AuPV939epC3Rs7f8ANxAfs2+9QU4ZGAKkHIINau07FtOnxZrOrslz8cdXAd7OvsJNON+dOzFa+29lj16/F3/X3/WerhXDr/7Z6ZnuTZiJYAjGQvpwABWyRI/fH4sST1Wc0t5LdgRLpIXQowGZ/JazNcSESzsBtkOoFqSVoAkSzyaGAVcgFQCMk1DL2H+nEGKFcx5ALAVFKRHblYiVK69K7CoO3FQytcLbObglGGgknUNu9jUUrFLNEU6Coc72C5qwlurtVQdmyOeyPmSZPdXHVaz3FxKCUihTJIGzJO4CrlbCA/8ARt/em+DSGodLPtdySzueLMdprxmNgvxwcVDJ7enaLIrIwWNsnLMSKSTto1YzEoVAcsdhJ6v0ju0BYkKI4sAV0/fTOBsjWKLJqU3HSMqgSzHyHoXgB3PX9D3eJ+Z/Wek1wHV6u/wPVJm5mDEKu3AUZ97qhuZhAcTSRRl0j+JqbVDIB2ZQai5O4KKhnguAmsRzpoYrxFPpMl/DG39LnBHcjmaNG0vMqZRT+JoggjIqKWaUDLLEuoqOJpi0IXyG3OcYxVhdR6v3nQACjh0iZl+IrazxIW+JFbejuj3wq+Us/wBQnX939epQUIwQRsIon2WfMtkT5eqOjh0iJU14miUn4kdUc0rqoL9kmrQKcMjjINB3lfwRxjUxoOjQ/tEcYZdmdoro+8ZHOxwgwR1HDpBIy/EKSKfMj2qM7VIX9mcI7eWSPI1IEijGWNQ3EEkoJiEyaBJ/SahuLiVF1SCBNej+qn1ROOr19/1nq4Vw64w8k0ZQAsFAzUQjlhiWMgMGB0jGQa6RvLfSMaYWCg/icg7a6UvZhgjRK4ZTn7P6/oe7xPzP6z0muA6vV3+Bq/gaYkroDjVSNrma4aR2JZmOnqsJ3ne4meJkjLLMH2j3qgVnN1clFfwKynAJ+FLbzPNC5t7mNNDDHiUioY5O0vYosOMgazjI67yLtgrAJqGdWKAIaCRm+JyTWSTAtNEhW6YF5F1E4Gxat4o547rTOu5co2Tzp4pYbhtAZF0lGpFcpEzaW2g4G40ALy/VUhUblyMs3wArwxrgnzJ8yfxJ6/u/r1touYWEsD+mRahUzRI6yxNuWRNhUigBqRWx8R1eI3hU/ACvAl9KFoIGFquHfaEBNRxe3CEYkUaQ4cYUmjbvBEFWSJQQQu7IatzAHnShtETtg7jgE4NJ2SXFvGzJESgA4CowkUc8IVR/RURlaC4jmMfrVDkirSdNF9Fqd0KaSdmkZp4IiL19byoXMhG5at0gkjmdJUTw6wdpHV6vp3/WerhXD7b6/oe7xPzP6z0muA6vV3+Bq1hEmc6ggBz8adRHaiTWDvOsYGKMXsulu1znXny010hAbW4csGlBaWIHeFqcRXNi+uKRhkFvPVU0LSQRlIY4QQgzvY5qAzKb2JEG7S5Put1wR6j56RmruEWUjHaQe0RWOSBXZi3jwrhs50geVTQhbggyJKDgN6hirsrddqZzKNgaTOTkVNCVtyTGkQOC3qOaj1xCJtacRjaKjKQhBBZof3Y13nufd/XuRa7C/iKTIPvlGw/+8UulSikDgMbB1TQqtzgyLICcNu1DFOjXBfU7ybizHLHZUqLcqmh1fJVxU+bq6QLqjyojUbgtXUJtUI1MoOtwPI5rYAMUuqMQuWXiMHIqLsoGgQxp6V8hToVu5UdAM5GlcbaukhuTITFJDnAAOVzmp7cx2ja44oAQGfcGbNXFuIrxtckcwJ0PjBZcVIZJC7SSvu1O5yT1evv+s9XCuHcVNF5dmGTUMkKFzQjPtN8kL6tuFao4mvJ0aVnmzoijXexA2k8BQgczxO8E8AKg6N6spJwa/Zwxl2+AqGwWEp2iWjhzIU3jLV7JGro5mS5ySGWjYCycsHRVcPsyKuOjUhiaY9jJG4yIiRjVVoTc3vZpBAxwDI9GymtJ51icwKQ0LP8AEnUKtoH/AOVikEkmQseScs1LAZjD20E0OQsi+YwaPR6Q2l20A7VXLHFNYwxCMFpZQZCX8wFGMCkhS46PcCSSLOh1IyGANJZRWuWMMUwZpJVHmWBwuaSzjiEDmdJwXYOlPYr0eYJJiI1IlAAqGwjtTlobaXVrdPIl9wJqO3jne2M8jz5KoN2AB4jT2zm3hilEkSMnj8sEnuev6Hu8T8z+s9JrgOr1d/ge/I6KL2IoU85M+6D3/R9er9rdHQPwTe7V+zES6fhjufd/XuAaVjLg8GXaDQw6KI5F9LJsI6uA7xIiMLhyN4XBzinZ7cW6CJm8RXyJ7/r7/rPVwrh3IneJ751kA/oq2kDnpONWOt5PdqxkuejzbmCbQGYxNvViEqxczIjETdnKFTiNT7ATRHaSwFU/E7wKs7sdIxQiE2whckuKXE+iSR134ZyTikIOqXeCD4qt5z0iJZ8JGk3aZ1HTjAq2kuLizmWWeD/qNHXRszzM64TspiVOd7Z2ACoJXg9ghWR41LmIeogVFKLK0tGiSV0Kdo70hXV0q9Pdr0aLdTaLFr0M/nr0VazW0E6RLCsoYNpdCAa6Oliv4SVfKSsJR5MpSrSSC3a2mZYmQq20byDxr3XlsZEGcjBOwZqzvVv7ZBCYEhZi5GwaagaJbeH2i5nAKyJndGr0JTELODDSMzknPqfuev6Hu8T8z+p/cjZuQzV7K7Xs6rNGxzGBLnGkeWKvXt7SIM8/Z5DnhgipTIA8ojdvGUU7NVONwpxzp18VOOdOOdOOdOOdOOdOOdONx86cc6cc6cc6cc6cc6cVdRwiO9jky24lDnT8TTjnTjnTjnTjnTjnTjnTjw/WnHOpVWCONrS2J3AfvvUitpiUZH4CnHOnHOnHOnXw/WnHOnHOnFTIgeJgWO4U49m6QiHwE6Df/wC8U4p13CnHOnHOnHOnHOnHOpVUPC6lidgyCM1cJKI7dEDrubHmKcc6cc6cc6cc6cc6cc6ceLj+FOOdOOdOOdOOdOOdOOdOviPnTjnTrur098Y6t/elUxzWiQiPB1Aoc57o69/e9f0Pd4n5n9T4XQqf/cMUkItrGXWjh8mXRnSMVDEdOoTW7PsYHcQ2N4rQJLmZpWRPCmobhSjcPKlHKlHi4Uo5Uo5Uo5Uo5Uo5Uo5Uo3HypRypRypRypRypRypRQXMd9DK2fShyaUcqUcqUcqUcqUcqUcqA8P1r/7i4YQQ/wBT7M0BkQFAd2WxvNAaliQH4gUo5Uo5Uo5Uo8HD8aUcqUcqAoDW8TAUALmBUliPCSIAigB2iAkcG3EUo3DypRypRypRypRypRyoDU8LqvxIIFACSK2RG8xkUo5Uo5Uo5Uo5Uo5Uo5Uo8fD8KUcqUcqUcqUcqUcqUcqUeI+VKOVKN3CuH231/Q93ifmf1npNcB1erv8AA99ZCRfws2j0A7c9/wBP1rbb9HLpHAzONvIUCXMTAAb848qyGEKA/HHc+7+vcB1mFgunfmt4jXPxxRxDcZurfgD++orgO8DrMEgXG/Ok4xQYSi1jDh/Fnv8Ar7/rPVwrh9t9f0Pd4n5n9Z6TXAdXq7/A9+QoXvoUfHmhO0d//pwkqOLZwBW2eUmWY+Zd9pokOsbEHzBxXiMKEniSO5939e4SHWFipo5JjUn44oEzWMol+KbnFMCkkaMpHmGGe8SHWB2U8CFOKYtLJaxs5O8k9/19/wBZ6uFcPtvr+h7vE/M/rPSa4Dq9Xf4Hvxo5kvIojrGQA5wSO+cxQj2m4HwPuA9SglI2YA7jigAWhQkfEdz7v69wAlImIBoAEopI+IoAgggg+Yo5Nm4EXEwvkr3gCUhdwDuOATSqrS26OQowAT3/AF9/1nq4Vw+2+v6Hu8T8z+s9JrgOr1d/ge/aicNexIgJxpcnY3eYBEUsx/AUCJL1y4HCMHCDqjDoImJTiMbqXSpiQheAxu7n3f17kfaIsTFk4ilwDGpA4DG7q2RsRbXH9Dn3Sfge8gdBE5ZfUADkVAIYnt0ZIwchRw7/AK+/6z1cK4fbfX9D3eJ+Z7/TPskbMRFHbgByF8yzV05NPjel2A4P/uGCKADY2gbs1KhkXxKGBYfEVKka+p2CjmadWUqSCDkGuA6vV3+B77SBReRGPR95n3c95sSX0ml+IhTa5oAKselQPIDqJEXZtrI3486OY+yTT8Mdz7v69wkQ9k2sjfivDoXT8MbOrdJHp+B8jX/3Fsxgm/qTukiLsn1kb9ODnFMxthAnZFvEV8s9/wBff9Z6uFcPtvr+h7vE/M9+ymnumdjbvEdJidR4i1Xri7iGbeJfdgkHmwK+I14kiZh8QKXFzLcoJJR4nEudQJqQdhbBm0NtQk+ZHyqIxQzTvLBEd6RncMVHJu9NRyflpH8XCo5Py1HJ+Wo5Py1HJ+Wo5Py1HJ+WkbcfKo5Py1HJ+Wo5Py1HJ+Wo5Py0j8qnMAS8icFh4mU7FqKTlUcn5ajk/LUcn5ajflSsYlPs1v8A0ofeP9zSN4aRuVExq0bAsRsA41qZREmDjeMDbUcn5ajk/LUcn5aR/Dw/Go5Py1HJ+WkflTGNGiYFyNgFBiBGoBA37N9I3KkbcKDCDpFNB4CZB9RUcn5ajk/LUcn5ajk/LWpFaJwWI2AEHbTmaOOBFWQDYwFRyflqOT8tRyflqOT8tRyflqOT8tI/i4fhUcn5ajk/LUcn5ajk/LUcn5ajk/LSP4j5VHJ+WopN3pr0/bfX9D3eJ+Z75trtJLiWOOKUmGQFN4BGQRVlZ2YRtQlLdvIP6RgAGjqyulifPZtq/klt7Zy8EJUAKfLJ3nHlXSe22JbSYQyM3kSufKrpZm24YRiPAxuwK4Dq9Xf4Hv6cxXsUrajj3UOT3T/zNywgh/qet0aBfifM16erGp42UZOBkivEsSA/EDufd/XuEa3iYDNYysaqcfgOrgKOJ4iJYTwdNoo41p768GXYw7mNUkToM7BlgRWO0it0RsbRkd/1/Tv+s9XCuH231/Q93ifme/PNayh2eQwuVLEjHwBrpyW4txvjljXVj8GHc9JrgOr1d/ge+juVv4XbT5IDtPd223R4MUfAzN4j1enqBLmJgAN5OK8QhQH447n3f17gJcwsFAoEERqCDxwOrgOrZBdg3EHAP++vcyXaBwoHErSlZUtYw4beD3/X3/WerhXD7b6/oe7xPzP6z0muA6vV3+B77sha/hRtPmpPcGqUjRCvmZH2KKOZCNcjcXbax6vT1EhxExBG8HFHLGFCfjjufd/XuEh1hYqRRJJjUknjgdXAdQ/5izkE8fE6d6/3FHMcsYdf79ZIdIJGUjeCFpi0r2sZYneT3/X3/WerhXD7b6/oe7xPzP6z0muA6vV3+B7+nMt7FE2oZ91zg9w5tejT/Zp2H/8AoOv09WNSRMwyMjIFb2iQn4kdz7v69wDWkTEZrGWRWP8AcdXAdW40cQy5uLT4HxoOvGqOF3HmMgE1jXLbo7Y2DJ7/AK+/6z1cK4fbfX9D3eJ+Z/Wek1wHV6u/wPftVnD3kSAE40sTsbrGZmwkKebSPsAptUpy8rHezttY9fp6kDosTEqdxGN1LpBiUgcBjd3Pu/r3IxIiwsSnqpcAopA4bN3VwHWP+as3E0X448S/3FHKTIG6k1qsTkr6go3VCIY5IEZYxuQd/wBff9Z6uFcPtvr+h7vE/M/qruFpl3oGBI40wCgZYk4AFMro6ZVgcjFcB1erv8D3xIU9ti7PR95n3c9e2ysGKQ8Hm/ebuenqBMXZtrxvx54r9n2Safhjufd/XuAmLsm1gb8V4NC444xs6uA7my0vGMtsfRJ+8nVnsuyfXjfpwc4oMLbsE7IP4tPlnv8Ar7/rPVwrh9t9f0Pd4n5n9T4liYr8cGgolN1Hlx4jr8WTUsoRI5HKI2kNhTgGt5tUpV3cTQX8xpV8XE0F/MaC/mNBfzGgv5jQX8xoL+Y0F3HzNBfzGgv5jQX8xoL+Y0F/MaC8zV0kAW8idSSTqdTsWgvM1gXl4SiYO1F/eelASNcDack+ZNKOdKOdKOdKPDSjnTqiNEwLk7hxoqyiJAG4jG+lXmaC/mNBfzGlXOnieNBfzGgv5jQXmakWNGiYM/AVpIEagHJ2jG+lHOlG4Uo50o50o51hJUIeGQHarrtBpFSeMmOdPNZBTIiNC6s2TsBByalSaJIECyAkBx5Ggv5jQX8xoL+Y0F/MaC/mNBfzGlXxcTwoL+Y0F/MaC/mNBfzGgv5jQX8xpV8R8zQX8xpV3cTXp+2+v6Hu8T8z+pGQRgip52SJmaCJmykRPmoqV5NaMpc41ENRJSKLSud5AHnXAdXq7/A990Ux3kUp1nAIQ5IFPpjjUsaXFxOMRx/cxeS/HzPd9PUQC8bKCTgDIoglYkBI/Adz7v69wgF4mAJoglUUE/AdXAd1SbeTCXsQ818pAOI86dSs1uwRvI612GmVnit0RipyCR3/AF9/1nq4Vw+2+v6Hu8T8z+s9JrgOr1d/ge+hYx38Mj4OMIhyxNZPRdo+V4Tyj5qO96eoEu0bADzJxXiEKA/HHc+7+vcBZ2hYKBQwRGoI4HHVwHdUEEYIPmKJNrcJILGTgxH7ImlKSx2sYcHv+vv+s9XCuH231/Q93ifmf1npNcB1erv8D39TWq3SJdTISAcnBQEUgWNRpUAYAHe9PUSHETEEb848qJLGFCfjjufd/XuEhxC2krvrJJjXPxwOrgO9GHAiZlHmGAyCPxo6bkwqYJSf2y8P6h3/AF9/1nq4Vw+2+v6Hu8T8z+s9JrgOr1d/ge7IqRqMszHAAp2h6PB0y3G5pf8AalIqKbqKMjGdhO3v+nq8SRswyMjIFb3hQn4kdz7v69zxpCxFbyik4/EdXAd7GpImZfioJpQXeJX1L7pVuKmpMoTiG83K3BX4NRBGMg9319/1nq4Vw+2+v6Hu8T8z+s9JrgOr1d88evZRa7uvuYfex/UakAhBylon7Mf1H940oAAwABgCoVkDXUSAHyJO/wDt3/T1IHCxsxU7j+FLpDRIceQyO5939e5GHCRMSp3GlABRSBw2dXAd5AwWJmIO5sA7KjEYeJWCDcufIVGrowwQRkGibqy87V295P8A+JjUxiuBvglGiTke56vp3/WerhXD7b6/oe7xPzP6k4AGSahmRZmKwzsuI5CvkDUUs0szERxRjLNitS41o6NsZWXeCONcB1ervXEa/FgK6Ttl2H/qA1JNct5CGJmrocRD7y5cf+K10rK6HfDD/pR/DZtNRLGOAG/rRiDdRBdJ3PnYfh3/AE9SkxCNtQG8jzoYjMS6fhjufd/XuAtCIm1gbyKBC6F0g8MbOrgO8CYxE2oDeRg5pSITEugNvC+WeuIMR4W3MPgRtFdKGSMbobodoPgG3iug5P67ZxIORxV00B4TRsldJWzgn7xeFTIf6SD3vWerhXD7b6/oe7xPzP6nxtCwX44NFTKt1HlRvGjxZFMBGYZ0DeWrYd9HMcl65QjcdIAJFSndwFTNXSNxbkP4oSFY1+kvSv51r9JOlT/+xa6f6VP/AO0V0z0mfjOavr9vjMTQkf8ArOqkC79yJVxIB8Fq6l5LV1LyWrmXkKuZeQq5l5LV+8Y9qQqcDa+dgqd6nep3qd6nep3qd/DwHGp3q6dIjE2ptmwY2mpiyCJQpwNoxsNSmpmqZqlPh4DjUzVM1SHkKuDHCYiHbA2DjVw5UIuDs2jGyp3qd9w4VO9TvU71O9TvVy6xmJgx2bBg5NXsjwiFdD8V8jVzLyFXMvIVcy/4q6l//wAauZOS1O5H4hTUYJ/oSjMn9DFa6Q6QX4TmumulB8J6/SHpUf8A7RX6S9Kj/wDYtfpN0t+davZ5sMffkwWbb51M1SndwFen7b6/oe7xPzP6q0iWZ86nA2nVvq0R4gcqp3A1GqIq4CgYAqFtg4iom5ioWwDneKhbmKhbmKibmKibmKiPMVE3MVEdmfMVEeYqI8xUR5iojzFRHmKiPMUqqYbuKZtR3hDkgVC1RHmKiPMVEeYqI8xUR5ioWxpxvFRHmKTDyRMoJI3kUmWjjVSQRjIGKibmKibmKibmKhbGnG8VE3MVE3MVEeYpdLSxFQSRgE1ESUjVTtHkMVEeYqE7h5iojzFRHmKiPMVEeYqI8xUeGkiZQSRgEgikDPFAiEgjBIqI8xUR5iojzFRHmKiPMVEeYqFtpzvFRHmKibmKibmKhbmKhbmKibmKhbaSd4qJuYqFuYreB9t9f0Pd4n5n9dKkaZxqYgDNXsLiNC76XBwP7U7LC9tFLDD5IrE4z+JHdnjiDHALkLk/3rpGISZAeRCGKL54x51dzT20QTSZvGH/AHsZ7txHEGOAXIXJ/vV/CJSQGdWDFFztIx51dy3NvHbqztKdeiRjuB7tzFEW8OtguedPBLKDgEvlR+JxU5ln7aQM39LEd3yUmr2YtPdKrw5/0+zdtIAH4d90S2eGYxxKc7tzP3iokCnSW3A+Wa6RmnubhibqMnUgTzYekA7u8QH0nSTuB8q6TmnndWN2sn7MbMjTnvMAiKWZj5CnZIXtkkhh9CkkAn8T/APX9D3eJ+Z/XRrImc4YAirVUD4z2Y0bjneKklaE28aJqlLEspOcg92BJcHIDAHFJFBPrDD3QFbB8J+NQxQEwCIRRtq88kse7AkgByNQBxUEMd1JgZ2JgeZzxro5IUAyZBKJGd/Mt3beORh61B01CkYPkoABNY19tI2w5GGYkd3cRg0sQsoLgSiUN77KG1hdPke+o7GGCVH1Hbl92zvKplCHQGOAW8s1YRvcTtma5MwYgcEHkB3n0uVIVsZwfI1HAotJdbTI2WlKjA+GfPvBjG+M4JU7KlmMJtVRNcpY6vPIP8A9f0Pd4n5n+FsuDy/jnr+h7vE/M/woqI9J1EnYB51JIthCWnso3BHapnYTxA8h/HPX9D3eJ+Z/hSCRCQSp3HFQqZYMiJtxQHyH8c9f0Pd4n5n+Z/X9D3eJ+Z/mf1/Q93ifmf5n9f0Pd4n5n+Z/X9D3eJ+Z/mf1/Q92QAgnYT+NTLUy1MtTLUy1MtTLUy1MtTLUy1MtTLUy1MtTLUy1MtTLUy1MtTLUy1MtTLUy1MtTLUy1MtTLUy1MtTLUy1MtTLUy1MtTLUy1MtTLUy1MtTLUy1MtTLUy1MtTLUy1MtTLUy1MtTLUy1MtTLUy1MtTLUy1MtTLUy1MtTLUy1MtTLUy1MtTLUy1MtTLUy1MtTLUy1MtTLUy1MtTLUy1MtTLUy1MtTLUy1MtTLUy1MtTLUy1MtMpIfOz4HuihQoUKFChQoUKFChQoUKFChQoUKFChQoUKFChQoUKFChQoUKFChQoUKFChQoUKFChQoUKFChQoUKFChQoUKFChQoUKFChQoUKFChQoUKFChQoUKFChQoUKFDvGjRo0aNGjRo0aNGjRo0aNGjRo0aNGjRo0aNGjRo0aNGjRo0aNGjRo0aNGjRo0aNGjRo0aNGjRo0aNGjRo0aNGjRo0aNGjRo0aNGjRo0aNGjRo0aNGjRo0aNHvRhmJO0j8aiXlUS8qiXlUS8qiXlUS8qiXlUS8qiXlUS8qiXlUS8qiXlUS8qiXlUS8qiXlUS8qiXlUS8qiXlUS8qiXlUS8qiXlUS8qiXlUS8qiXlUS8qiXlUS8qiXlUS8qiXlUS8qiXlUS8qiXlUS8qiXlUS8qiXlUS8qiXlUS8qiXlUS8qiXlUS8qiXlUS8qiXlUS8qiXlUS8qiXlUS8qiXlUS8qiXlUS8qiXlUS8qiXlUS8qiXlUS8qiXlUS8qiXlUS8qiXlUS8qiXlUS8qiXlUS8qiXlUS8qiXlUS8qiXlUS8qiXlUS8qiXlUS8qiXlUS8qiXlUS8qiXlUS8qiXlUS8qiXlUS8qiXlUS8qiXlUS8qVQS+Ng/A93ifmat+2aWTQBq07hmuhXER/e10SCpw6NsKngf4gP4p6/oe7xPzNfftVzCxNjo7LUCxbTWREQifEimFdIRWlskhEIG9l8icA1KJ9Aca+BSrphamSIGLA3FcmpzFIbhELAAnBFKJ79oMrnzbOK6URWRC5iUinAurSJiJAN/u5BqcyskwAJABAK5q6JtRJMojwMAIKIWd8B5N5BNXwvLeRtLCrgxC4OrIAyV05pszGy1lv92jOauTLoKaaui8CiUqmAANLYFXOiOHIeQAHW1APM8UYQeRdxXSgQFS6Q8VFAC4gYK+NgYEU+icxN2bb8NjZU5eZAGTIAOAcMKuStvG6rIAAQcDLk1d6MlVjXCgZK52k1fgLIxA06G3DNT6LiVYCzj/eMmn7KGNMFshWlYbyKbVPGupX3EgHBBpxFHGWzJ5kDYWJNXAuYJf7gryBBFTmMyzJhgBkqVJqY+1exl9eB4qnMkqzOoY8AKuTKkaAoCAMHURUyWdoj4jbYC45E1ci4SVlGf69zA4FAG8uP76RXSazIGXtIt4GaIRpNRmGVH4Y9+rwm5jLBlOgAaKIN0NWsgg/DdUvZymdE1YBwDV8DC6lgSUBwKuTL2aIV2AYJJFN28ryskIYDEQVquDNE+0qSCCvnpIGwigHnuBmPPkvqq/OkJ2piyNQX+mlAuISA+ncc7mrpnsBESdwxjUQAMCpkuN4LgDIOnWDRCzvgPJ8avheW8jYIq4MQuG1EgAkrpBApjb2ypqWNCAxUDa2CKINxAVBbdqBq7LwospC4AAw2KuytjDJ74UAgolXRa0klwikAALL4CKmMc8zFiRgnSKfXP2S9o2MZbG2pzEZJGDHAJwBU4aydld8tHtjIq5PsokZRHgeS5qbTKhzNIMHB9NTkXTxxZkwN5bBNXymJyQCSgOw1cmURw5GwbGDYrAl1BXk89VXYuYHbSQTrWpNNtLb63GUBDZ/31eF2jGWBKLWD0pNEnatgHDGukluY9YDx/GgizXBUkvjEa7dVdMpMryY01HoaaIOV+z+v6Hu8T8zX37fKjOzSxK5UOAuTR9kiOMGMbsHNdMSuIpA2jTjOK6ceARKY3SJsjVnbnBFCKcSSNGZlGW2DOQalMTSvCgcbwStdKvcAzKmggjaQeJNAGUoqLwBdq/SSdFZHOgNsGP3TXhlCIfgQRVzD2MmMtkcyGFSB7hTOJW4tV09skswImXYVDqMGv0knMY+8ZStOWSIlA3EBK6akCG27TssNgDTnT4q4x0pM9w8sCkbxrfbisG4lMrTN/YYUUDoQpq/vHX6RXSZTDRBxhD5rV8blnKq/h93Hw6kPYy5lx/WMNW9mKA/i51NX36f+FffNXptvlV0iPbBu1DkLQIi0TH87UwjkdGQa/UGyRTq8ql2IBzvAAFeJHhB+ISrmLtfYSNGsZq6iRjPKQGcLUqLrRQuSBk6zXSb2VvEXwE3kIcVfvdlZ4MyOckHV4adkjeGMaxvADEEiv0muXgYDxOpUirgzRDLLJkHOTnyr13PV/3UdfcP8zXoSpQiSPOgY8S1SLLIgcnQQ3jwBSnQloqH+pCCRV1GYjbnSNQySVwFoHQSiCr+e10ZOYjgn39xqZLsTOqO5AL+/V09skswImU4Kh1r9JJzGPvGUrTlkiJQNxASrqP/AErTQyEgNqVcacUCE0ogq7NuQZn1AE597ccEVBGszOVEo8RZPImvFGezY/5WlPZxRozA8Ixk826vvZK/7WL/AMRQzKsrBP6iuK23t1dIzZ3quCcV6IfnXrl/8q+5b/zp9AaebDN/+Xw1MjyvOrgAgkKK2MYCfgGyRX3S1I0MUqQ4lG9QNhIr9Jrh4Tty7qVrpELHJGyRT6gCS+Tla6XN3/qgCOaohGSmCqjCjQcbPs/r+h7vE/M1JIgjcspQgHJGKJKRRhFJOTgddzcQPKxZwhypJoPJMR+0kqWYTqVbSCNGUGBTyIgkEgKYByKVpLYR6Pe8XHORVxcSxA5ETEBaeVu3YEhyDjHVJMZnLMVJGjL0jLKowJEOGq7uZEB8BNPIiQHK6CPhRYxLD2QJ36cYqSV+1K51kHw0ZHmLMRrIIUtvIqSVOyLY0EDxVGJIezCEN5gDFXl1GvpBrWQ7anZzkk9S5uNTN8EpcOydo/8AU9SzduGDacjRkDFSSoI3LKUIB2jFElIZYEBO0kCnkhmKtrKYIbDUpJY5d2OWY1rhmPieP96jJcSocqZMYBoyBQ4cFCAQRVzd81q5u+a1JK4kkiclyCQe0Aqaa3kc5fs9xNNOHt2D51AmRgc5aoycHKupwyn8DV9dFPRlaUiKJQqgnJxU0zTSFyQSNPvnqeRFEgfKEA5FMxiRCgLbyDUsrtMADrIOADSEoe3IIOCCH2EVJJOyNlA+Aqmog6E5HkQeINXdyU9Hu1EEiUbAPmTV5cx62JIBpZJZxnEkpyRSMsijAkQ4aru5kT0E0NiysB8AtSyxNJboXCYIJIqPSg3knJY8SalmaSUMCGIKjWcnFTTRToUPuEAEpS5BQBRxcn3aG2VuyT+lOqSVOyYsuggbxiiSkSBBnfgDFGR5S+vQxGgNTyIEkEgKEA5FSSiBEUKwI1e6c0zsikkFyCTqOTUszNMpDayCAC2dmBQZJ1GBKhw1STXGk5CvgLQ2YxUszmUAEOQQKjOpfA67HX4Gr66ZPRkCg6wwAdlpbauBiry6mUblJpAkaKFVRuA+z+v6Hu8T8z9ps4pZUGFZxkgZz3LdZYiQdLDIyNxqJY4kGFVRgDv28TyJ4XZQSPgf1dnFHPJnU4G052n9TaxzKpyA4zg0oVFUAKNwA8u5Ak0YYNpbiKiWOJfCqjAH8I9f0Pd4n5n+Z/X9D3eJ+Z/mf1/Q93ifme8wA4k4qVCTuAI/iPSNvEfMM4BFSB45FDKy7iG3H7DIEijXU7E4CjianRfaGCw5PjLDIA+2ev6Hu8T8z3jhGvoA1Jam5Rg6aJtTAiui57+WDHbFCqIhPx3mreaAhWLRSDSyFM5FdB3KWt1MkccxdNJLmoW1T2skwkyMAIcYpWeeQHWQRiPZkA9URiSxnmjckg/st5FWkiRzyomjUNQVycMa6Hu4LKdwsdy/47iy71Bro24u5JASBHhUUDzZjVlJZ3kCCQxSEMCjeYIroq4v/Zm0TyRlVQN6QTVpMBe3KQCNxodGf1A8KiaUSXEUOAQDlziuiri8ldS/uEIiDONrGrOW1vLbBkhkIO/cQRsIroa4u7eFmVp9aRqdHi05qMosyatJOTvxVjLdTXjskaIQDlBmug7m29rcpG7uh3DNWUtzNdOyxxxkAnAyd9WE1tNaldaSMreMZG6uh7m+S3crLMhVEBG8KTvNRSZtQ3bQNhZFZN6moGZJ2t1CZAI7eoWc3sxjBBACkDOTXRNxeSsmvKEIijONrGrSW1vLYjtYZCCQDuIIroue8naDtcRsq6VqzktntZjFJG5BOoDJ3VCYxIWGCcnYSOq2luryfJjgixqIG9iTsAro2axu3jLRrIQwkA36WFQlTZCIs5Iw2sZ/xXR9zJGlwYYlTDNNpONQroeezN0xELs6urN6Tiugri60AFnDLGm0ZwhO81bT/wCkWR4MZcOhwVAG810HdWtrNIqLMzo2CfUopC6QqCVGwnUcAV0PcWr3SM8byMpGEGa6BuroRHDS6ljUnGfcz4qBiSLWJhJsMbJ4ga6AvTYOQBcjSSQTgNoqJ9fsntGvyxqxjHU2JAmlDwZzgGv0cup4AAZekZIg+pjvb36OuKTSsCRDJkL+EKK6GubGKdwkczlXGo7g2PCatnneedYY40IBLP8AGui5rSeKETEOytlScDdUTp2F08GCQclDvqJpEjKgqCATlgKhd/bLlIBggaS4zk1Exa6SRlfZhdAztFdHy3t1GgeVUKosYO7Ux8zUEkFzA+ieCUjUh/tvBonQmBgDLMx3IBxNdBXdsk+dErFXG7OGx4aiKGxuexZiww+zORSHTasF7UkaXzUJQQ3MsBBIOShxmkMKWNw8LsxBB0DJauhLtujt/tGVBK+sJUPtNrfyxwAAgArNRurqZX0WkEkxcRg7CVB8hXmM/a/X9D3eJ+Z72NJv4c5pej0n3K0ZQNt8hip44rj/AIg8vvkLqR6uklkuFeCAJtLuTp92v+jfWiGoDLdSdGyxQIBvd3wDTmS4l9pluJfOSQ9V65ji6TndrLck+g5IJFIFiN7asUG3ToJytXEU8t48SwIhBYnVV6loJbUySXLKGOU2aUzXSZvinRukysF9fh9yriOG6iv53lErBSQTkNVz7knSkIjmTlqGa6dubuP/AIjbr2UkaKMlqvksojbGZ5yoYsc40prrpI3oFhGDO2naQ1X72vRCyTiKN0EpkIB1lc+FTX3P1r/upf8Awr/upKYPD0ZbO8jA5USy1sJeAD8lXEUNzbXUwnWRgpyzZ1UD7Lcu3ZHGA2gYLCrqFpVlsSVDg1eQMqXrFyHUgDFX8dlCbTtzPhWaTUfCuuuk/a0S0hBuHwAdJ2jI8hV3CsQVLSAs6jITaxGTU0ZL9ISugDAkrpr9IbmzmQTEIJgIwQxwNBpcTvEC1MI4rno4RQu+xQ4NOkklq0k0zJghE3YJFdJyWpEcAIUDEmUq3itZ4rpbKQEEpA2cFjXT5vpT0gjlMIAo9Q0V+khsZIVKyopQnJ2gnVVvG7WU7osq5xOfvDX6Ri5kmkgcWyKip4gSRimVri7uYdaDaRGh1MSK3C3uQK6aXo2Cxm7IKAmthjJcl6keZjdXBV/WKvYY4xDEmjUNQbAGnFXs1sv/AAsMHik7JvHXSMl9Ywwo6yuQ7I5O1NQpNTJolwPMIwJq5hdZbPQkYILFiuAumgRDaSqLkkeAutTxzXV1dQiFUYNubOqnEnsbm6ucHIUoMKDX/pkP/lXTdzZMvSNxjROEQYPiKmn1uJwiy/eIkuA1XkLaOkoC2HU4AFTxSAQXIYowbyrpmawlkmWWPSUAlQ7jl66Xe9uZVRZssmRjdnRS5gg6Rhln/oq+heSc/wCkqsGLbM7hWqP2rpAvdT/dwhQCB/XSBIolt0Ufgorp24tEHSVwOyjRGBOqpGmn9rnGvczkAZOBX6WTxwtbhZISYlCeRUg1MZra3vbZkfIJZRSEXdzPAIo/uIdexR+Jr0j5fa/X9D3eJ+Z71vHNGSDpcahkV0TapIjAowjAKkeYro6CZwMB3UEgVYwh7cYiOgf6Y/21DHKEkEi6hnSy7iKt0NyiFElx7yqd4BqBGmhB7NyMsurfg9UCRiWQyOFGMs28mrJFA6QhmeNMKMK2WeujbeO4JJ7RUAOWq0inCbRrGcH8Ks4omSPs1ZFCnTnOK6OglcbAzoCatYikDh4lKjCMNxA8sVBHIiuHUMM4Zdx+NWcM2k5XWuSvwqzhQmLsiUUDKen4VbokGkqI1GFw28YqJI4kGFRRgKPwqFHlgctE5GShIwSKt0eSFi0TkZKlt5FW8cKuxdggxknzNQIksxBlcDBbGwZro6CWT1MgyfjVtGYCmkxaRpC8MV0NZ/kroe0S6aFhEQunBqyhmeCCNPfAbSVUA4NWcMc0toYVKAJ/SM10PaGYRIJCU/eqxggtkt5kl7PAJZ/DXRNtr8XgFAADYAPKrWKePOcSKGANWcUIO/s1A51AizTY7RwPefTuyasodNy2ZgVGJDxPE10bboEkEi4QZDruOa6PgllxjUy/M1bxrBpx2YUBccMV0XbASY1gIP3TmraMXDqFaTHvEDyzUCNPECI5CPeUNvwa6Pgkn2e+yAnZxqBIxI5dwowCx3k10XbLPq1awldHwyuq6VZhkgVbRwx5ziNQo6ujLZJs5DhBkHjUayIwwysMgj4V0dBC/qRADVtHG8za5GUYLHiTVugnZAjSAe8VG4Z4V0VbtK7Eklc5PE1axPAQAYyo04G7ZXQ1n+SujLaGUAjWiAEZqyhmx4S6gkVaxQqxywRQOdRq6uMFSMjH4iuj4IXxguiAGrdI3mfXKwGC7cTUCLLNjtHAwz43ZNQpGHkLsFGMs28moEjM0hkk0jGpjvJroq2aUnOdA/zVtE8cTK6IVBVCm4gfhUKSx5DaXGRlTkGtw+1+v6Hu8T8z/M/r+h7vE/M/zP6/oe7xPzP8z+v6Hu8T8z/EYw/ZIXK6tOwbTURi7ZNYQnJAPdZSwGSvmB8P4h6/oe7xPzP8KkXbcJG8ZQHUHPkTT28lqJFE0AQhkVjjY/mRRyGUMPg1aO0yAC+dIHmcDf8ACmhadLuSFJNJVdKnBbTWJpFu3gg0DR2xDaFq4gaeSVIzCIvcUy7Bg5ySKbM0/ZQfFnIBqSGJLa1JaRxqxoXYAtBRcG1VwPLWaIaXsUyqDGuRxsUD8SamgM9xcRobNUz7r78NnOR5nqeWC6VcLPCxVwPIHyIqJekrf1xgRzD4ruanJKNpkRgVZG4EGiAoBJJ4CpY4LVBIYFZNZlCfvMfIGkEdgI1VAR7zyfvEHgD/AAv1/Q93ifmf4UpOm+gbkaSSSe5dFI0MvZrnJLEijns41TPHSMUMtpOPjioJopmklNxO6FREHY5058TVA7Wlndo0ioCxCgbDgVDMOjo7sMT2bZcgZB07wKtpkt/bO0lGgswwPdyEzVtKGkC6o8ZcJq27BVvMOj0ngErGNgxUeQXGcDzNWc5t4r1ZJYtJ1mIbNWkV0Y7feXDRsgQcAZNpPVYT3VyVBwo0xqDuLOdgq/MUX/bWpKj4M+81AkSZyQo3niT5mv2r27hPjireZZ47QpIWjZRHgHIGd7GoJUENuisXQoNeNoGahaMR3Dw4Pno8x/CvX9D3eJ+Z/hSxErcJKxdtPgOQKQK+PeAOQD8a6Rvoy2PdjlKqPgKurqbVj9vJrxjh+vYqWUjI3jPmKTTGn9yT5knzJ/hXr+h7vE/M/wAz+v6Hu8T8z/M/r+h7vE/M/wAz+v6Hu8T8z+olUyx4Lp5gHcfh1EZojNMBndk4o6UiQu34ADJpLKwtJBmIzAySkVMs06qA8gXSGPHFMOdEZpgM7snqYc+pgfgc0QBRyKO6jto4FEEUR1sCPwOaIOKI2b6YAnnRG3dRGTuogDieogiiMdZBI3gHd1MAaIpgCd2T1MOfUwI/A5oiiKYAndk9RAFMD8DnqYAndk0cRQxl2P4CvYrCCVMoHBllCmpQ8qoA7gaQWxtOPKmHOmA/EnFHIpgCdwzvpgD+JphgdZ20d/UQRRBxRGKNMOdEZHlRGfs3r+h7vE/M97pZ7Aa9jo6pq51+m0//AM8VfpLJdX0QCxRs6SdqCfAQgyQahMUjIGeMnOkkbRSzvH/wvTphQyHOvfpFJcxRpYTKVljaPkDS3l7dlssIu1k7DgBo2LTyOY5JoVZ/F2auAAa6RvDe+yCSOYSsoUquQAo3KKP+qLOUs3FkBGaEovJ7y27VzIx1B6Sd4/8AhsgKRIXJJf0ijNKZbh0gj1lFhRDgAAVO8sfRs5EUj7W0YyATSym8cTTJJ2jjAL+7V3LFBohJ0MytJ7uxdm05q3vLaKcvHOkqyKkg05BAc1bXtzaWaIkcFujMpcjJZ9BFW97F0WY1lhW5Vl0PnDKuTUzmDpO8urc6iSA6NlDUzi3/AOLCxiGTpKBSCcfialkFlaWizPEjFO1d92oinkW0v1dJLcuWCsgyGGas7+6it5zBbwwo7RoE3k6CPeNRXaWSTA2huAQ4Q70oXDQRnW6Qlgz48sJtIpJ7K2W1btoJ9SGZuKo9QXkpPSczKYoWlWjKiSXoYK+VKjT5g0L+5vEVyLxO1kxINvj8OBTuYkkU3MgyQMrjLYq9E2iWTXo8O1atb66gtZRBBDAjtGuN7NpIqG7To9cPa+0qysuQdSjNW1/JIjvlkgeRTlvJqd9Wq5I35Hv1IQ8fRyzXk33cYQEL/U9SustyIIS6DLgPvK10X0vFfxSxku8cmJRn3g+SQc0MEjaKWRzF0myR/wCo64WsmO0uXMasS2AiZAqWae9u07Uy9qwMedwUCp2eWyaaASnxEI1Ryi4FpG4ftnPvMBk1dSpD2cJ0o5BlbSMLhNrVBd21vcxzJNFKrhHwMggPRYxSNNNKisV9xFoN2NtFE6IxZse5TzT3V2C4ftGXsgScBQKkMz2V49usjHJZRQdoX6TiWREzllqG5sEKP2yTh41m4KiuTQyYYHcDiQM1LPNe3cfambtWBQvuCgVKXkgvRamU72VHrpG8PSEUHarcGYgagM407gtHTLJYEn+ojGa7Vbie6hExMjHJ0ZNNc3NwYRptYi7hB6tCUZ/ZbNu1t0mB1oChJUg1LPJfXYMvbCVgY8ncuKaY3S9iusytxCZIoSo81vFqJkZv3q6KvrWJ0jjFxKgMeSAASRRyDUrm1k6WksZRk4Cso0mpXFv0d0ha2i4JClicuaW6eyFu080dsCXlOcKDg+EVYX8FhNEy3Ec8brGGG1WGsmu0ntekI+2SOHMkkUgGDlRtCmjLHcXc7Rm4kBSNULknDmiRothDHxJbCillW5e9t0mYyOc5GTsNE+zdIxG2k/rTapp2NvZILOL+ve5+zev6Hu8T8z3oI5QDkB1DAH+9dHWv/wAKVDGGVQsKLGEEfE7N5PU6dgLDsMZOrVqzmnTsYLOWFhk6i7nIxU1kba7uGm7WbVriL/gNjVKsouJ52Lp5iXcavbEWoXshdYbtuz3Y01OkXRioouCcmVgDnApo0FreRS4YnwRfCmQ28Vk8JBJ1FmbIqezks55mmVLjUGhZ6uY3vOmZpjc3LgqMhckLiv8AhMdsYRCNJfIUU9tHe9D9IaEBBMUnYgCprREtJmbsItRABUgnJqaDXPEqXMM+QrFNzAijaLrjxFHBk4PEsaniW/hk7ZJATpEuonNSRie0uYZmdiRqYHLmp4kuhF2UsUoOiVPiNoIqeAywRlLeGDOhM72JNS2rw3bB57efUoEnqVhT2xdmGhYNWlF4EneakgEyvlkmBKsvDI2g0bWMWiMsUVvlsl95ZjTo3tN+86aSfCadSl/cF00E5ClcbauLFbUK6C4AJlKHy00EdoYFjfG1SRQiSK0kdpU8J98YGABUtsy3mDcQT6gNY2alYU1qGkGI0g1YQYOck76dGkjMhJQkrtYmpIu3neZlO3QNbZFSB7q4hYSzNueQrjkKmEc8CRGOVdyyRbiKfowKpGqYa2YjzwvUyEXl6Zo9JOQuMUUeO/uWcBSchGXBBq7sntkyIJZgwkjDVOrTToxeWTYGkcgknFOgna2SMEk6cqKliF30cyuokBMchVQhFTWoFqZB2EWrCh1xkMamhaYx9jBHFnTHHnPM0Y2gvljVVBOrAXBzVzYyWYZuxefIkiDHOMCpu1leRpZpd2t33mnh7a2vEuNMhIU6Ke0iispe1SO31MzvjG1mpQySoUb4EYNXdk9qmVimlBEkatUpYSqxeY+JpSclqvLJbUoInuEBMzR7sYNSxRdEQhDIu+V+yOxaaNVs70SuDkZUDGBT2kguoUSRLjUNBTcQRU8U/t+jJQFd6kMKu7JrMEiGWUHtIlJqaMzMIvffYCUYEnZxp0WWSFEUtnTkEGnsbezQp2hhLPI4StygAVLF7TPcSzrICdIctqQ1KhvTKJ3kJOlpdeomriKK/tozHiQExyId6nFewxQBSCkOpmZvI5NNG91dyEIVJISIDCrk08Zny7xyLkhH1alIp7PNlBBczhy+iZ8kDJAyRTdFhbKX2kBC+SYgTTCK4EcdyhUeGQGhmeYGaZjv1ynJ+zev6Hu8T8z9jhRpYSTGxG1SwwcdUSxiSQyPjZlm3k/j/GYVEzoFaQeIqNwzSgqQQQdxBqzRraJkZIxkKCm7YPs/r+h7vE/M/wAz+v6Hu8T8z3rkwhukYUlYfdnxA1dE9G2iFp5I/BLKdyV0tJbWltcqMx4LjKjCqTV0blrVVkhmfAYxv5NjzFO9zdyXU0NunnI+vCr8BXS89vcxX7gyRhSQB+4M1+kN2Vs79odGBiRUNXR9jsxEUB3IGGTii8Kf8O7a1g9APhP9RFX2boWchMhYau0FSg3V0sUYlk3Bn3ua/So9IP20Ynt5CrBwTglQBlcVdm2U25uJ5kALhdwVc10zLcaLUvA0gHaxsB6hV+XvZRG93LFvhQAFyxqdhDOJzKnk+FGM05To8XvYPIN0zgZYf0irh1tLKCCW4i9ayvgk1cmNxayXksiYJ0IPdFTvG891ZhnHmr+IU5DQMjXc/wB2HbCoKOSVBJ/t1fpDd20dt0hLCkaBSABV2fZY+iUlYOQFDZ2saLRdGywTNAh2a1Q47Q10zdWsNqkDIsQH7610jPdQ2VukgMldOT2jT5eCGEL2aL+7qyMtXSUtnd2d08M0kIX3yldP3ZW1vniMRC6XWI1+k56ORJnjt4I2CnShxrfINX6pcQTNF7WqghlG3WAfMiv0hm6TWZm9rjkKuqJ6sgCv0reyibHZRRlI8DG85yWqdZ3t7p4RMB+0Ubmqcwt7bApcegt7wrpiA3XaRheycFsaq6QWy9ojMs90cZVB5LnzNdPHpOzu1ZTrILQuBkHIArwohc/BRmumrizE7M1vBAFCKinA15GWrpGS1vLK7aGaWEL/AKmK/SK7K2d+0OjC4kVDX6UT2Jt710gjVwoCAekisPc5KROdmsM2lGYCv0vF1epoeS2JQxSepVUCpxC19IwIfauCgI1iumJry1ublYJ0mC7C+5lxXS09pCOjxP8A6IU5bURX6TSwQxhu0mYIskhY+o7BgV0v/wARtRaiaKVyGKHcVJFfpKejoop2ighjZVYhNmtiQa6WeOe1uzH7VAP2yAV+kd5osb7sgMKdajBrpWeys7W4MEKQadTMm9mJq8y73KwzXoj8EZPiK1+kU99DctIJlZ0cbFyNiD+Eev6Hu8T8z3oDLo6SheQbMBBvJzVqRaXKmK9jjwqr6ZK6PN3AblBKkbASA6KgEEt0FSODIYpGnEikIaF5BawnB0B2JZ/iahaMydITOoPmpNQNH23SUssefNDuNIV6MeWKXH35RQFq3ItZLGFEfZhiK6Ji9pMTlAufGw2ECkCXtmIZVjkxgum9TX6HtHIWAdm7IRrt2kHeas/agLc289upCuVzkFc10O9sGtWSBHYGV2O/IFWejpOzEJdIwFaVcAOjUjxAJMJpfuVlq2JtrK6LORj3V0+I1ARBcwRW8THc407SKiPtUlp7HDuJ7KJSAatSL2Ca3JQ493Qaja4vJZ4pZnG+R9YLNUCyz3VwkWgk5C494jHVA0Yn6Skkjz++h3EUGTo6SzSO4k3awGJMQq1Is4Ojni1LjShzsWoGFvPHbiF/JygqArbXltHGj7MH3SDiugZLowArBPG6iN1/d1Zpwbm4naefTu1OdwqFozJ0hPIoPmhNdAm/tXnaWGaLRqAc50sHroNY5dey11qCycSRXQD9G+zTiSa4fQhIG9AEroE9I+0yhrebKEIuPAdfhAq3ELy37ygLtGlgPDUBlf22Byox4Q1dGwm5MkWBHGqtgOCatEupLWMxTW7YBdD6c1+jT2kYBLTS9mpBxsAA2mvC6FD8GGK6ElvBAWW3nicBCrHI1ZpkN1dXDTzBTlQT+6KhaPtuk5ZY8+aGv0anvRc30ksbqIyukjcS9FIbie4a4hizqSHcVSv0OY3KgAt/pCIndnVUcZuRdSlEbcToromSxtLWcTzPK6sXZNyrioSbb/hoj17Ma9ecV0a1/ZxQujW4Kkq5Ox9L10ULS2ew7NFGk4Ibc2Nmo10E1/aTXDTQSxaC669pVg9dG+xEucR5Ukr5E6NgNQGNbjpEyxE/vpjeK6JlvrK6uGnhaFlDKz71YGrPsDdT/wDNlHBEUIOdJPEiujkS2hMvauijhgaqsFSzjVTBOGyZCf4P6/oe7xPzP6iR2a9lWRw2MAgY+xx5njjMaHyQMcnA4nj9qd1kspWkQDGGJGP4l6/oe7xPzP8AM/r+h7vE/M/zP6/oe7xPzP8AM/r+h7vE/M/zP6/oe7xPzP8AM/r+h7vE/M/zP6/oe7xPzP6zcBmomzxqKTlUbbdgqKTlUUnKopOVRScqik5VFJyolniYK4A3HGajeopOVRScqik5VFJyqJ+VMUEkgjQkb2bcKik5VFJyqKTlUUnKopOVRScqjbOM1FJyqKTlUUnKopOVRScqik5VE2QMhcVFJyqKTlUUnKopOVRScqik5VG2RUUnKopOVRScqik5VFJypWCKpZiRuA31l45FDKwGwg7jUUnKopOVRScqik5VFJyqKTlRPbBNZTG0LxqN6ik5VFJyqKTlUUnKopOVRsfKopOVQPyrcRn7b6/oe7xPzP6n9yNm5DNXksj3k6rPGxymJd2BW27nykQ9PFj+AqUyS4cM53nSSKzu4GieRrPi4GieRonkaJ5GieRonkazyNFzKZR2wO4NpGMUf8GieRonkaJ5GieRonkaaQKLyIpo+8z7uazyNE8jRPI0TyNE8jRPI1nw8DxonkaJ5GieRonkaJ5Gp1jQb2c4FdJ2+NOPGKk1KwzqG0GieRonkaJ5GieRonkazuHkaJ5GieRonkaJ5GieRot2RhfXgHOnBzii5txAgiLeIr5ZonkaJ5GieRonkaJ5Gs8jRf2r2YAjy0ZrPI0TyNE8jRPI0TyNE8jWfEfI0TyNZ3cDXp/VHScHB34p0OLl44yq6cqhxnvHAG+rhZWhxr0bQM+We86qowMk4Hd9f0Pd4n5n9T4XUqf7jFLD7LYy61cE6pNHhBFI6XKoUHZyEYB/EVtkzIx94sNpOMVwHV6u/MHaWQMyjehCgYPfuVhCXsTgt5kHYvxPf9H17sBuL6bPZxA4AHqY+QqcXUo2rEBiGP4LXR1tjR6BxqbCZy9nIcxn+n0mkMM8TaJoT4kbge7wHecKGidS3pBG+phKiQIocbmA8x3511+zhOy8wM51d/1nq4Vw65JI3jhZ1ZGKkEV0pdLdraCWMo5VBhc4K1jW8fv/AIsDg0+hipAbGcHjir6d44o4kDSHXiRhksBVzPPawBEXtGLapgPexV9OL0wdqpSQqkRO1VVRUrPOtkZGZtpLuM1cPB/pK8rJsbDe8wBqZ3RZbh42c6m7NCcbTUzyEpJcNq2nBOwCr6eXpSddUEFszAQk+EYHDzJptUwiUSHi2NtW4LT5AmlbRCn9TV0kbpDtEMJ0Qf42tUKRRjcqAAUcADJNXE0dsZHS2ijcoAqbNZI3k1cSCGBDBEoOyZgSDI3V+kFuiFjhTbqSBwzqrp+1eN1KsDbLgjnU3tTW8SutynpP7r8G7nr+h7vE/M/rPSa4Dq9XfxpnlDJjfgKBt7+nMd9DKdRx7qHJ7/o+vcBkmc6IYh4ndtwFMHv7nbK/ko8kX8B1fd/XqT/mYxieIbp4+H9Q8qfKOP7g+YP4jucB3sanhdBniQRWNcVuiNg5GR38dmbYRjbt1Zz1jucT1cK4df8A2z10ae1ktAiymRdAUjAY1cIDFHjLMF1HzNTxs3BWBNRpFDd3PaC5LBmCYxhVoAEKCmrzYHO08TVoIDGEPYdopMpUjO0bAKto45S8ZWAOCdCEZUtuzUKQSPEyRIG1aRpwNRq1W3MduU/aBjMfIDHhFQpbE26RxLr1HKAeIiujI7UoqrJM7q64G/Sq9SBlIwQRkGruWxkJyUX3oW+KGreIFANM0TZWT+x2g0ca0Zc/1DFW4gRA6G4EgJdCT4QNoJq0SFIEK6tYYudROQB1dHoWZiSdTbSasYUmIwrOXIFL/U58TniT3PX9D3eJ+Z/Wek1wHV6qtu1mlJwW2KoHmTUKx3EIVjpOVYNuIpCzkhUQb2Y1bxx9uD2bxsSMj905qyQwQMVJkJVnIGTpFAgOucHyoNoeZDGTuI0DOOpO1Ry4kl26QUGcKero6KWztpGRndirSFN+gVAZZ7x+zhh3HX5g/CrBELxl45YSWQ43g53GkdiL+Fn0eSA7Se/6Pr1kAAZJPkKH+hHmKyU+n96Tr+7+vX7th0i+Dwin+gfucB3hlzBIFxvJ005iMVrH2uvePjUBjigkVYy2QzAjOSKQu2oLGg3s7bAKsoYku20xvExbS+MhWzVlFKLU6ZnlcqC+M6VxVu8LklXjbeGU4PUG7A2igH93Vq6omkYYARd5Jq1jQXJIjaNi2CBnDZrwoparREtp2ADKxLJr3ahVojiJAzvKSq7fIVHodZGR1znDA9XCuHXOYhKNLMFDHT5gZqfteyUIHwFOld2cVaRSsBgF1BIFWUMcgBAZFAOD9n9f0Pd4n5n9Z6TXAdUEsvvgYjGo0Xt55FbQrjS+B+8BUhnaaESiZvGADjSa8C3qFq8ftmrkpzV+YgpZW0Y2ngaRVMRaPC7joOMimYpHKgj4AFATiujLxBqK9o8eI9nnmo1Rf+YOF/p6lt57R5pHSYyfsS+1gwq5MQkurpTKBg7W3j8SKu5pra8hdikrayjJTsrNfQo2nzQnaO/6Pr1tiS62zMP+nAPEaULHGoVF4Adf3f169gdfdbzDeRH4g0cXlo/YzD1Y3N8COvgO9sdYJCpHELS9q8lvGz6xnLcSKAAFxD/4VMkUsUySxM5wutDsBq2igAv4sKr62kPmw4AVfzw9lfSBUibRgnbqNPreC4kh7T1hDgHqZuwForBfLVnGeqRUUsFBPE7hVwbhHnEaxv8Aua/Na8ihPwDCiCXlg0Y/qFXhinTGspjUKALW07Av687cnq4Vw+2+v6Hu8T8z+s9JrgOr1VI8csZykiHDCppJZ5BgyuctipXmUknW/iBzkY+FXM1xIi6UMhzoFXc8CzHMiRnAY0ulEGAKVQIJQqkbyCoO3qdg9rr0gbjrGDmrmVVjVgYhjQ+rzPwq+uoIbhtU0EbYR6Uxxw4MLIcNGRuINXU91clNAkmOSq8BSIxkvYojqHk5wSO/6Pr1MAiKWY8AKXEt6+Ywd6wjYg7n3f17myCbFvd8AGPuE/Dr4DvAEpC7AHiATQAaW3R2CjABNSMWu3V2B3AgY2VcSzpK5fU595cnIAI4Ve3F3LEpERmIIjBq8uLR5hibsWwJKTEacdpJ8yT1KugWwkz55zjqXKNV1NcGLbGJDkKaleaOdiSr7gCNwq5nljhOYonOVWrmW3mZQHaI41CsnLkszHJY8SerhXDvEC5ubhLeJiMhS58VdN3slzbqJJBM+Y5QPENNdKXkMnsSzLAkmIxXS17LNJ0aXAkfUEYrnK109et0tKYcxvKzRlj4g2sYAq/eyhmjaW4njBL6RsCrgHGa6Uub2yukdZUm1OYnAyGDECulJ4LKFoSViOHOU2BW8hV5JcwrAlxA8p1OFJwVJrpi/wBZldzH2vuHDkYr9KbmKUkmOKOXQIh/SgJNSieaB5YkkYeMq2lWNfpPeydLKgcqdZidt5TRprpO+gmaGGQQK+mMFsAiukbq4nmSFIxcPrVHc4BArp2+a5ypmEj6o5B5rprpW4sLaML7IiP2KSrja2qruS4jjv3jhd31nQB3vX9D3eJ+Z/VTIXXegYE8qkVF4sQBTBgVyCDkVwHV6u/AEeOUCR/WSoIJ79qJw17Eig/usx2N3/R9epiDdPqnPCBNrc6ACqoAHAL3Pu/r3B7kqFaP/N2TmCX8ceFurgO8gdFhdmXiADkVCIYnt0KRjcg4d+3HbC3DmXiM409/1nq4Vw70qx3MMqzwE+tD510ZDZo+EuLjtg40/wCxRSanNr2MSEgeEADaaVfaTYdlgnZr04xmugooMRJC91JKjBdH7ygUEmubKDsJIpDpE0ZFdBR2kAB1O8qu5ONgUKKtUuQpgE0BbQxym9WqNIridFijgRtfZxpxPE0gWRC+ofFyRXRMN37XctLFdPIq4B8nB8hWhJp7mdwy7RtbUrV+j8EsqKEE/bKsbY2aiKjV7lxH7oPmGBOCacRzaEMfBXTBGa6Jt4ghUTTmUMrKN5RR5moFKqRDZxsQ4WNd7cATUQj7a/lkjAIIKHvev6Hu8T8z+p3pEzD4gUMXM1yglkHicS51A1CbhoFZlt8gK5bjmsrIk8gMX3O3Oj+1I24UrcqRvFStypW5UrcqVuVK3KkblQcy9qO2zuDadmKVuVK3KlblStypW5UrcqEoQXsWjSNpkz7tI3KlblStypW5UrcqVuVI3h4fjSsFAySRuFI+bl9FuOEKbBzNK3KlblStypW5UjeHh+NK3KlblStypW5UjLBdgW1xwD/uNUb8qRtwpW5UrcqVuVK3KlblSOIuyfXgbdODmlc2/YJ2RI26aVuVK3KlblStypW5UjcqEntfsw2eWjNK3KlblStypW5UrcqVuVI/iNK3KkbdXp/W6+2u9Ha5OV9wYGB9g9f0Pd4n5n9SMqQQfhV88ttbOXgiKgaT5ZPnjyrpFo7mHWNYX3WDeRWpWlkmdpZpCMF2auA6vV35w7SyhnX0FVAwe/ciEJeROCfNlOxe/wCj60T299KIQRvVN7tShUjQIoHkAO7939e7sZkyrcHXaprZPGTHOvmJE2GuA7zhFaJwW9II31MJY44EVZBuYce/cDtfZwvZeYGc6u/6z1cK4fbfX9D3eJ+Z/Wek1wHV6u+V0zyhkxvwqgbe+VBjvoZTqOPdQ5Pf9H1rbBa5tbf5uw733f17x02/Saa04CZN4rgO9jU8LoPIZIIrGuK3RGwcjI75HZezCPftznPf9Z6uFcPtvr+h7vE/M/rPSa4Dq9XfVtDzIYyd2NAzjvozFb+F30+SA7T39s7qIoRxkc4Fb0T329TNtY977v695f8AmbRxcQnz1JtI/uK8MsSuPwzvHeBLtA4UDeTpoESpbRhw28Hvq3YG0VQf3dWrv+s9XCuH231/Q93ifmf1npNcB1ervklI5kEfwKDvuylr+FGK+aE985h6Oj7R+Blfwjv/AHf172403+mG9otv/wCNztA+B72Q6QOVI4haJaV7aMuTvJ77HsRaKwHlq1b+/wCs9XCuH231/Q93ifme+wUcScVIrf0kHuek1wHV6u+FCwShVxvIKg7e+FJkvYom1DPuucHveCKMsf7UP+ZvCbiXO8Fzs5Dv/d/Xvg5tHAmx9y+xqI0kZBHDu41JC7jzGQCaADy2yOQNgye+F7P2YSf7s5x3/WerhXD7b6/oe7xPzPfuZpvaJCsQdisS8FwKmeynbwGKQjUf6SabJA2n61c5kyQNhAYjeAdxqTGs4UAFmY/gBUodSCNmwgrvBHka4Dq9XfgCPFIA7+slQc9+2Ewe9iQA+TE7G73hdvaLn8IojsB+JoYATAHf+7+vfXKSR6GB4HNMO3sJjC2d7JvRu6gdViclfUAN1QiKN4EZYxuUcO/bjtfZwxl8yM409/1nq4Vw+2+v6Hu8T8z34YWEhIlll2iMcQPM0JLuSQYt70ktpwNqH00Pe7F9HxwaA1+1RfH/AHVHruFykCgZd2fyUVhZrmV53QbkzuWkXdxpBzpB4uNIOdIOdIOdIOdIOdIOdKe27Udtk7NWkYxSjnSLzpBzpBzpBzpRzpG0e2RdnoP/AFM+7mkHOkHOkHOkHOlUADJJO4VGM3UmiDJ8MKbBzNIudPH8aQc6Qc6Qc6Qc6Qc6Qc6Rc6eP40g50g50g50g50g50g50i5wPOkUQ3Q9ln27NW9GNIOdIOdIOdIOdKOy7F9eDt04OcUp9n9nTstR26aQc6Qc6Qc6Qc6Qc6Qc6U+1+zjO33dGaUc6Qc6Qc6Qc6Qc6Qc6RfEfOkHOkXdxr0/bfX9D3eJ+Z7/TD2k8l1MjQygSImjaGwcEZrpvXF6LeMR5+LUMqBjbt2VGwILFFLkqhbeVFSXGu319mwlIO2pJnBy2ZHLnma4Dq9XfnDtJKGdRvQhQMHv3SwBbyJwSM6mU7F7pInv5Oy/pj/AH2oARxoEUcAK9H17/3f17/AVsLLlG4Ou1TWy4iJimX0yJsPccIrROC3pBG+pxNGluirINzjv3A7Y24XseAznV3/AFnq4Vw+2+v6Hu8T8z37RHkjJPMY2008ZBJ0dqxTke56TXAdXq77KVnlDKBvACgbe+6Ax3kUp1HGxDk47v7KLNra8MDxsOr0fXv/AHf17/AdXu23Si/2E6DuEAvC6AndkgimBeK3RWKnIJXvsug2wjx55znv+s9XCuH231/Q93ifmf1npNcB1ervqwjkmQxk7iAgBx343dlv4XbT5IDtJ7h/5q7cQQAb9T7zQ92JAvxPmf7nq9H17/3f17/AdWy4iIlhb/8AIm0UcF1w6+YddjA/A9eS7QOqgeZKnFKVmS2jVw28Hvq3YG0VQ37urV3/AFnq4Vw+2+v6Hu8T8z+s9JrgOr1d9mMaTIIwdwGgZx33dWa/hRinmhO0Hubbayzb23Av++/X6Pr3/u/r3+A6/dtOksyR8EmHiXrJDrA5XG8HScUzNK1rGXLbye+zdgLRSB+7q1d/1nq4Vw+2+v6Hu8T8z+s9JrgOr1d8KFglCrjeQVB298ITJfRRHUM+65wes/8AOXb9jAOBO9q8MSAfix8yfiev0fXv/d/Xv8B1nFzCwlgb0yJtHOhhyNLp6XXYwPVjKQuw+IBNAB5bZHYLsGTwHfC9mLYSf7s5x3/WerhXD7b6/oe7xPzP6k4A3mu1UuxWOVkIjkK7wrVIEiRckmmJSWPUuRg4auA6vV34AjRShXYb3JUHJ79sswe9iQBvJidjfEdRAAGST5CgewXMNkD6M+8/c9H17/3f17/Adz3bDpJ9LcI7jyP4BupA6rE7FfJgBuqERJJAjLGNyA+Q79uvaC3DmXzIzjT3/WerhXD7b6/oe7xPzP6nxGGTHxwaIL+1RbBvGM6qhV+yid487QG0nbX/AGqVJuHCpByqT97hUg5VIOVSDlUg5VIOVSDlTt2vajtiRs1aRjFOOVSDlUg5VIOVSDlUg5U0hT22Ls9A2iTPu5qQcqmxJcDVcMN8cA3/ANzuFOFjjUKgCjctSDlUg5VIOVSfu8PxqQcqkHKpByqQcqkHKpByqTbp4fjUg5VIOVSDlUg5VIOVSDlUnkPKpByqQcqkHKnwrrgHG4+RH4g1KFvbQ9lKMeLHhcfgRTnsuxfXgbdODnFM3s/s6dlrG3T5ZqT/ABUg5VIOVSDlUg5VIOVM/tfswyce72eak/xUn+KkHKpByqQcqkHKpP3j5VIOVS+XCvT9t9f0Pd4n5n9VaKsrZ2/HfgeVJmMgqQSTsO+lCxomlFHkK4Dq9XfnDvLKDInoIUADv3IhCXsTqeLA7FoFmzpjjHidzuUUwe+ujrnbhwQfgO76Pr3/ALv69/gO6pNzbjE8Y/60PmPiN4qYezzW7e/6QVOc/CphLEkCKsg3MOPfuB25twpi8wufF3/WerhXD7b6/oe7xPzP6z0muA6vV32QieQMoG8AKBt788USQXcU7tIcDTGcmoilrECLKFhx3ysOJ73o+vf+7+vf4DvD/wClX2ofhbTOCMn/AGGnRmit0QlNoOPMHvumg2wjx+9nOe/6z1cK4fbfX9D3eJ+Z/Wek1wHV6u+pCyTI0fAgIAcd5wqKMknYAKiJ6MivIvjNxb+kUBgbAO96Pr3/ALv69/gO8gYvA6qp8zpOKYiCWNRFMw/ZN929HIO4jvIexNoqhv8Adqzjv+s9XCuH231/Q93ifmf1npNcB1ervs5RZkEYO7GgZx3ZljjHMngB5mkeDo1WzHBueb/c9EoPboUIT0Z2j4d/0fXv/d/Xv8B3iQ4gkK43g6TjFL2hltk7QOMkk7812lx0UT7sgy0kH4NxWpkkjYZDKcg91n7D2RSB+7q1d/1nq4Vw+2+v6Hu8T8z+s9JrgOr1d/TpglCpjfgqDt65URBvLEACrM3TffvlIB9Wqc3V1vBIxHH+CL1Yy97FGcjPuk7e/wCj69/7v69/gO94khdx8QCaxrlgVzgYGTQBB3g1MIWJy9u+2GT+37pqB7Cbi+2Jz/tcUwZTuIOR1gdl7MJN23Ocd/1nq4Vw+2+v6Hu8T8z+pOAoJJ/AVY9naXkhjhl15P4al8s1bie5nLaFZtKhU3kmo+zlikaOWMnOGX8fMVwHUR4vOmHOnFToPiwq8hHxcV0jbL8ZVrpa3/s9RSPl/deCNnMtdBXbcDMREtS2lkh9AMr8zUs17KNuZ3LAfBdwpQFGwADAHXbLMGvIlAPkSdjf27/o+vf+7+vf4DvIHVInJXyIAOyoREjwqwjG5QfIdcauh3hhkGry4sm34RtUZ+KGks71R8YX+oroS+j4lAJRQ7AdkB20qMjf010tbH4uBXSNq3wlWruH84qZD8CKcUw50c+8erhXD7b6/oe7xPzP6nxNEyj4kVn2m3uEadMEGMRZyTUg9kMU0TS71VjuzQIjubt2iJGMqABn+9Ft3E1r5mo2dA+QA7L8jVm//wAslWTf/K9WHN3royPm1dGQ1ZIKicPHIok944zpyMUp/MaVvzGlb8xpW/MaVvzGkb8xqOQqbyIJpY7JM+7Rbma18zWvma18zWvma18zRPh4njWvma18zWvma18zWvma18zRbw8TxrXzNa+ZrXzNa+ZrXzNa+ZrVuHma18zWvma18zWvmaLczWoxCJ9eCclcHNI4gMCGMFjnT5ZpW/MaVvzGlb8xpW/MaVvzGlb8xqFzOLcNvOnTmrCM10XFXRic2qw5SPVk3/yyVZyf/M9KyxIxwNRONvE1r5mi+7ia9P231/Q93ifmf1SAE7zgZNRoV9OkY5UABjApU2fiaVOZpUwDnea7PmaCczSpzpU5mgnM0E5mnUm4cOQcjGFxWgj+9KmPiaVOZpU5mlTma0czUip2FzHPxyUOcUYyPwJpU5mlTmaVOZpU5mlTmaVMYxvNBD/c0qczSpzNKnM0qczSpzNGPIGMZNKnM0qczSpzNKnM0qczSpzNaMsN2TSpzNKnM0qczSpzNKnM0UAkjZSduzUMVIj9jCsedxOnzxSpzNKnM0qczSpzNKnM0qczUilmgERT4HOaCf5rRzNaOZrRzNaOZpU5mtBJOcZNKnM0E5mt4GPtvr+h7vE/M/riwXIGQC20/gKkY9kmttSMufwGRU4MktrDIIwchAxOFHwHddgGOFwpbb/YVczLgjWQrIccNvGo5LeERoUgkJyT5uAfI91yqscDClvlV1KgBXtGCMh052jJxvoEWEcQjbaShm/254Df3WcFwSuEZt3wFXXZvnSXaMgjjgGpWkZZ5gSxyW97ee75KTTt7bJdqXfUdqu+CuN2O/dl1kt5ykYGFRQRjvOUJUgMPI8akd7qMl72XUTlP9/lkncO85QspAI3j8aWdNjCa4kzpuCRnHeOEjXJqYF5rRJBGGyEGo4UfwD1/Q93ifmf1wzUCuh8SkZBqKNUaFEVQMFCCcn+/dGauDBKGDI44qfMeYq5jkm7ERL2SlVC5yd/mT3RmrlIJJCMsQfD5jZxprQQImFSFWBzxOe6AaAGakDkSSPkDHjYnu7iMVeIej4Z+1SPR7525Ck8Ae/IuIYHTRjadfecJIUIRiMgHyNT2kgZ9c76W7SQ8cnvMy6lK5U4Iz5ir9JobR9cYCEOzAYBY96BJY23qwyDUUSIYBGigbQc7T/f+Aev6Hu8T8z/AAogADJJ8hVzGInICPqGCW4H+Oev6Hu8T8z/AApgsSLt/H8KheO3kDXHR8D+FcnbkergP456/oe7xPzP8KRHAOfeGRmkUsnhOMkfD+Oev6Hu8T8z/M/r+h7vE/M/zP6/oe7xPzP8z+v6Hu8T8z/M/r+h7vE/M/zP6/oe7ETjO0EcahfmKhfmKhfmKhfmKhfmKhfmKhfmKhfmKhfmKhfmKhfmKhfmKhfmKhfmKhfmKhfmKhfmKhfmKhfmKhfmKhfmKhfmKhfmKhfmKhfmKhfmKhfmKhfmKhfmKhfmKhfmKhfmKhfmKhfmKhfmKhfmKhfmKhfmKhfmKhfmKhfmKhfmKhfmKhfmKhfmKhfmKhfmKhfmKhfmKhfmKhfmKhfmKhfmKhfmKhfmKhfmKhfmKhfmKhfmKhfmKhfmKhfmKhfmKhfmKhfmKhfmKhfmKhfmKhfmKhfmKhfmKhfmKhfmKhfmKhfmKhfmKhfmKhfmKhfmKhfmKhfmKhfmKhfmKhfmKhfmKhfmKhfmKhfmKhfmKhfmKhfmKhfmKhfmKhfmKhfmKhfmKhfmKhfmKhfmKhfmKhfmKhfmKjYYbO0j+b//xAA8EQABAwICBwUFBwQCAwAAAAABAAIRAxIiMQQQEyAhMkIUMFBSYiNBcXKBJEBRYYCCsTNDcKEFFVOR0f/aAAgBAgEBPwBSpUqVKlSpUqVKlSpUqVKlSpUqVKlSpUqVKlSpUqVKlSpUqVKlSpUqVKlSpU7jBL4KLGQ4jpQaTkrHzCtMSjTcFY7EPKhTcRKtMSrHYvSrHYUWOHEoNJEoU3FGm8I03gSVs3xKtMSrDi9K2bolBjiJQpPOStMwjSeBJWyem03OyQYSrH3Qtm6YRpvAkqx8wrDMIAl0BGm8KwxKNJ4EoU3kShSeRKFN5QY45d/TID2kpzySg6XdK2jL59CLmljfii5oY4BB4N0q8Q0iFeAxqvZe8lbQSwlVDwdDmKkeNvmVwvemkRSH5okN2uLmVzL77k0tLGy7rWE3w7mQLBkrxDPSg8e1lMMPaVe2KiMB8lylrw3FbarwXPW0Zf8AsTTjYESAxwu5k6o03BNd7O7yqmQHtJTHNDnSto0tb86ub7VSwlrrkHiKivFrITCLpLkc/vQJBkagY4omdYJGW8STnuAkGRrkxH6BA0nVaUGmWoj8EGkoCUQQgCURGfhoIAaVHvV4vlBwFqa4BXcIQj3ou4QECAEYNx/wOCITiP1CaMYr08Vvq3evcfyuQ5dwH7M4XdYw/TPugJKLSEBKtKjg5FpCLSEBKIhWlASrTE/cXU6jA0vbbcLm/BHRa4tmm/FyqhSq09KptLMXq1OcG5uRcGiSr2zFy/uft3H8rkMkHMJgOV7Ji7imuDskLuyuwiNq345FGlVbU2ZabvL7+K7LpF9mzdcnNc1zmubBG+3maiRkgQEHq7gr/SiZQMZKUXTKBhXGI+4N2cOvv9Nq0qt2huik1Zc2jDrvmJhUtN0VlxeWOdUd+cchEkfEp7qTtK0cNF2DHZyzxy1PDpktu5k5pil6f/iDXC3zYV/c3HcrkMk0EFuHluVjrnfuVIOH42+pMJbQuDTc2q3F9E+uDp9OuKjTGz5vlErtOjNoGgzZ3WZuxN55iVpTqbq9U0+W/D4LoxAr0yXFu60zUduP5HJplu4COzuF3G8Yfp4Ros9opw6NwmAqf9R24/kcqZ924J7M7EI2rf4PhGiia9MW3encqH3Knzbj+RyaUNYH2Zxt6xi+h4eEaNG3pzd+3PcJlM5tx/I5DJMPu1iOzu5pvHwyP+/CNFMV6ZLrfVrefdqp8+4/kchkmmDrB+zuF3WMP0z8I0O7tFO3P1ayZOqn/UduP5HIZammRqF3ZHZRtW/HI+EaKAa9MFt3p1PMDXT59x/I5DLU0wdQH2dxt6xi+mXhGjRt6cud+3PUTJ1s5tx/I5DLW0yEI7O7E6bx8Mj/AL8I0UxXpm631Ko73bjOfcfyOQy1gwgZ0V2Lrbh+h4+EaFTJ0imbbkczuM59x/I5DLcoNL9Cq4OtuP6FER4KKZKZSAzWjAGs2W3I5ncp824/kchluaKB2WqbcV7cXTkUWA5o0j7kWkeASpKvcto/zLaP8y0aqRWpl1S0eZWhWhWhWhAQ7l3HcrkGthWhWhWhNfbozgH8bxg+ma2j/Mto9XvVxU/ojhQoUKFChQoUKFChQoUKFChQoUKFChQoUKFChQoUKFChQoUKFChQoUKFChQoUa5UqVKlSpUqVKlSpUqVKlSpUqVKlSpUqVKlSpUqVKlSpUqVKlSpUqVKlSpUqVOumAXtBTmNLHm221AStmZhWmJWz4SHLZmXDyoUyVaYlGmRd6Uabhb6kWECUGEhxQpkrZHBi5kaZAlbMqwwCtmcXpQZI4OQYSEKZPUg2XQjSIDjctkUGGJQpuxT0rZmYWydLY6kaZAlbMytk6WjzINkwrPUtk6GnzI0iA43BCmShSJE3BCmSgyepHh3zCA+SnVHE8yDpMly2gvuV4IbKdUbDgEKsh0ragtbitW1hjQFtWXvK2vIU9wI4PVHnhXi96Y4eyH5pz2C+OZyvZdemuZAlAsdcA7mQewIVBa0XWoPGOepMMPaVeIqepOLGvkq9hDZ6UKoJefMtqL018vZiuRewB4HUjVBw9Ka6KcphAe0lMe0OcStrNs+dXj2vqV7CWOPSg8Q/wBSFQWtxWpjgDNyOf3oGO8md+f0CBpOq0oN4tVs5INJQj3ohASiIMeGggBq4K/jKv5UHQruEIIklB0BEg3f4HDoCcQf0l56w1zjA760xPTuT4CzLXopAr05cR8vfAjszuOK8fDLcZ1bwEmEWwJQEhWqICLUWwreElH8lagJVvDvbxfCL2gwU14JgJmSrUK1HZ7Rtt7Lh8EdA0kFogYj5hh9/H8FRpPpaVTBcwerMd80Odo1rf8Aytw+/Ip2i126R2cs9phw/Muw17owWxddcLfwzT2Fj3NdzNTOr5k6oGmCnPa0wUHgmNYzRIKmMkHEK5XlEygSNRdKBIyRcSI7w5cEWuL2z09ScHkuw81qa120uLVScwNdc27P9qr1W1WaKLuLKJDvjcSqf/J0afHmdU5nW+gtk/ieKNSnW0vR7BeWstceW4982RoxIb/dGL35J+kM7WyuKkWin7vKACv+woBmwpuFPBztbwm6cjJWkvp1K9V9NtrXOTOpVGvdwCexxuhubLUGuNSS378zLXo0benLXftz74R2Z343j4ZbjOrwFmR16KQK9Ml1vq74H7M4XdYw/TPcZ1eA04jh6v516Jd2inbn6u+F3ZHZRtW/HI7jIxfN4CzI69FANemC27098I7O429YxfTLcZ1eAsy16NG3pyXD5c++Edmdx43j4ZbjOrwFmWvRSRXpw631d8CezOF3WMP0PHcZ1fN4CzL/AN69Fk6RTht3fAHsrsI/qtxfQ7jOr5vAWZa9GANenIu+XvgB2Z3DjePhluM6vAWZHXosCvTN1vq74EdmcLusYfpnuM6vAacRw9X869BoOFVj+rvqDC/RKo6b2/wU9jmGDrZGKPN4DTY9w4Yk3RqhzwqnQYzj1KiJqtFs+nvtDHsKpt624voeCexrxBT9EPS5GlUHSm9X3+VJTH1AIuW0qedbSp51QrEVml9V4b3zKltBwD33X/6hbSp51tKnnW0qedNLsUqSp/RHChQoUKFChQoUKFChQoUKFChQoUKFChQoUKFChQoUKFChQoUKFChQoUKFCjX/AP/EADgRAAEDAgMECQIFBAMBAAAAAAEAAhEDEgQTIiAhMTIQMEFCUFJigbEUIyQzQHGAUWFy8XCCspH/2gAIAQMBAT8A8XqOtY4hNqPvaD3k5wbxWYyJVwmEKrCr2w0+ZGowGFeJhCo02+pXtlw8qbUa4wEXAGEarAhVYUKrCYCzWTCuEwrxp9SzGzCNRgMFGswGCrhEoVWEwFnU/MnVWNMFGowWq9kSsxkShVYTAWYyJV7YcUXANkoVGFZjJcPKhWYTARqsBhGswGCjUYEajBx6+qCWOATaQA9SLbWxrcrH5bR60GPD3R5E1jy9pKNIgth2lWEOcC16yiXOWW+ykAhSIzQExu9steqw3XDuqw2M/wA09pmqfQmguytPKrX2WWpweHuhvcUuGVLeVOFQ8UWEPdN+pOaftQniWOAVhmmhJbaGKHtc7TdcrCBTWW+z/unDQ4poLnNNvKm03i0pzfu2d1yqAmm4BVGPLWQspwLv8FYftelQ8BzbeZFhml6UWkOdN+pPBIgNehw3/qiARB6CJEFAR0kA8doADhsEAiD0wJn+AhcB0XBFwh0IO/qi4BEwg4FEgIEHh4aQSXBT2Kw2Qi0m5OaSrTMoz2IN3yUWkmQgCLR/wOQZ3JgP8hHcNmfwrRd3+X247FDdWp6rdbdXun87tjt6omBKDgUTCvCu3tQcCg4FExxQM8FeETCuEx+ikIkEdFKhVqlwptuVOlUqOtY2XI4avDnZe5vN7Iz9I3hGb78BsYec+jHNe35VT8xydQqspte6na1y+nrZeZlut8yq0atEw9tq7VI4qR1DuVyAPFEEosngrd8oM9SaIRE8VG6EGRbqRAKDADP6DegIuVpW+HdGHfh8qwVMt2ZTfq9MzEKjWpX4wyz72pl3Aapgp9fDOFRt1PJuqabTdJG6CoH0wNvf5vbhsUADWpgtu1t0+6fzuVepSfTqRVZ93Ltb5bRvlfUYc0aZLmC2mxvquafhY19JwabmOq3uuczlt7PddqA0QoMyhw3+Cu4bL2W4Nmre5/L7bGHj6ilLo1t+VXbZWeNjt8Idw2Kbb3tCxU/S0hduvPwNjDT9RRjzt+VjKclz9jt8Idw2MNT3XLGD8Mw2992r2GxhxOIo6Z1t+VVbJeCnCHR09vhB4dLRJgJgtbCxcfTM/wA/bhsYeM+jPnb8p3O5YqnBv6e3wh3DpwtOTf0Ys/hmC7vu0+3HYw5ivRN0a26vdO53Kq29kdPb4Q7h00m2sjoxk/TM/pe74Gxhp+ooxxvb8p/O7oxDLX9Hb4Q7h0Ydlz7vL04wfhmG3v8AN7cNjDia9EW3a26fdO53dFdl7Ojt8IPBNEmAqbLGR04yPpmf5+3DYw8Z9GfO35Tud3TiKdr5C7fCHcFh6UazsYw/hmC7vnT7DYw+7EUdVutvyn87ul7A9sFPaWPg+EMo6b38qGxjJ+mZp77vjYw0/UUYbOtvync7titTa93qTmuaYPgga4ptCoVToBu8p/I7ZxcfTM0993xsYeM+jLZ1t+U7ndsH8xOpteN6dhiOCLHji39fKlyvcs6p5lnVPOs6p506rUIi9Z9bzrPreZZ9bzLPreZOqF2GaDU338vtx2KBArUyXW626vKn16t7oes+t5ln1vMs+t5lnVLpuWdU86zqnnWdU8yzHlXFT/I6qSGOITHPDmAuuuTjHdWaIlXiYQq74LVmthp8yNUBB4JcEKrTb6kKrDd6U2qCYtRcAWhGq0IVRq08qFZpMLNH/VXiXBCoDb6kakHe1GqAUawHdRdDZQqglotWcPKnVQDAbcjVENjvLNbErNbDp7qFUEws0RKzWw4+VOda2Ss0eVZrZePKhWBLRbzI1QO6jWAMWo1QO6nVI32oGeueC5jgE2mwCLUWACA1ZT7I9aFIgutTaT72ko0YLYWWQ52m5GjLnErKfY0LJ5gExhBbLVXGifKrDYwJ7CM0+hNY92VPK1ZdS2zupzH3OIRD22Et5Uab3cUaZvcbbk6mftR3U8SxwCyzNP0prXubA5VY9pcW95GkQ1g5rVkmxObFNxttTWPJaT3U2kW2kcyc2a0Ko0uY4BPYS1oCyiLo8iyz9r0rLeA5o7yNMzS9KNM3O03J7CRAahuG/wDVET1gEbET0wOP8BC8DovCLtzldG4ovARnsQcDuRMIGRI8NLSS5b1ZuhWc2pFk95W75RQaAi2TKAIt/wCBy0kprSP4llpaYP6UtI4+A4qDVEOJ0N5v26Tw67t2K8fbgzobtEwJQdJhEwWq9TJag8FNdKu3wEJ7VfNqJhX797etGFrGjm7rYu5t8TEwmYWs+nmBu7V728YVTDVadMVHRb+/Dt3rFkmqJcHaGfAQIPBXBEyOu7VIiVcOjEEk0Zdd9pqpYWrVpueyO93t+neYCpYarVbc3/f7J+FqtpZp5dPe83CR0u5XINI395Fs8UWAq3fKsCAhEAoDcgyEQDxQaAZHWNID2ktuCp16DMPWaHn7jIst7Z3b/wCio18OynTl5upZjWiOa7gqtaiMJktfdra5umLd2+T2rFAiqNFuhvwPlARcrSogO67tUboVp4obgsSCDT02/ab/ALWCrUaIc9z9UOa5tvMHDsPYsNiKFJtK6p+TWNRunmuA3J1egMG+k15dda623ld27+0frsVGaIa/kbzfsOk8Ou7djER9uA/kbzeA4ozVEPu0N+B0u4dd27GIMmnqu0N9v7eA4u/NF0cjP/I6XcOu7djE3TRmPym+A4oAVRDLdDfgdLuHXduxiAAaem3Q33/v4DiozRBfyN5v2HSeHXduxiI+1BfyN5vAcUSaol12hvwOl3Dru3YxBJNOXXfab/rwHFgiqJbboZ8dLuHXduxiAQactt+03wHEgCqIaW6G837DpPDru3Yrx9uBGhvgOKINUQ+7Q34HS7h13bsYiDlw67Q3/XgOLvzdUcjP/I6XHd1xO/YxN00Zj8pvgOKAFUCy3Q34ClEo8OuPHolSsS0jK0W6G+/9/wBdJVzle/zLEuY+pLX3aG837CVChEbuujeoUKFWq/lhlR/I3/6rj5lJ/iv/AP/Z)"
   ]
  },
  {
   "cell_type": "markdown",
   "metadata": {
    "id": "lODP3ypTJxmZ"
   },
   "source": [
    "Проверяемая гипотеза называется основной (нулевой) и обозначается Н0\n",
    "\n",
    "a = 0.05"
   ]
  },
  {
   "cell_type": "code",
   "execution_count": null,
   "metadata": {
    "colab": {
     "base_uri": "https://localhost:8080/"
    },
    "id": "Bh683P-GZdLF",
    "outputId": "ee4a91d4-407d-49c0-edde-32ae5af6e485"
   },
   "outputs": [
    {
     "data": {
      "text/plain": [
       "KstestResult(statistic=0.13068734822609923, pvalue=0.6832974046260625)"
      ]
     },
     "execution_count": 101,
     "metadata": {},
     "output_type": "execute_result"
    }
   ],
   "source": [
    "# тест Колмогорова\n",
    "\n",
    "# Ho = two distributions are identical, F(x)=G(x) for all x; \n",
    "# Ha = that they are not identical\n",
    "\n",
    "from scipy import stats\n",
    "\n",
    "mu, sigma = df['Before'].mean(), df['Before'].std(ddof=1)\n",
    "stats.kstest(df['Before'], 'norm', args=(mu, sigma)) # Гипотеза о нормальности не отвергается"
   ]
  },
  {
   "cell_type": "code",
   "execution_count": null,
   "metadata": {
    "colab": {
     "base_uri": "https://localhost:8080/"
    },
    "id": "P9UW8qj6-hR_",
    "outputId": "f9d32441-9e33-4edd-8f80-5035b1beee38"
   },
   "outputs": [
    {
     "data": {
      "text/plain": [
       "KstestResult(statistic=0.15978425031808619, pvalue=0.40999285761502785)"
      ]
     },
     "execution_count": 102,
     "metadata": {},
     "output_type": "execute_result"
    }
   ],
   "source": [
    "mu, sigma = df['After'].mean(), df['After'].std(ddof=1)\n",
    "stats.kstest(df['After'], 'norm', args=(mu, sigma)) # Гипотеза о нормальности не отвергается"
   ]
  },
  {
   "cell_type": "code",
   "execution_count": null,
   "metadata": {
    "colab": {
     "base_uri": "https://localhost:8080/"
    },
    "id": "hAWlEhWL-2bf",
    "outputId": "82feeaca-9a00-4ee4-e8f7-2d5ce216d34e"
   },
   "outputs": [
    {
     "data": {
      "text/plain": [
       "Ks_2sampResult(statistic=0.27586206896551724, pvalue=0.22213483447265486)"
      ]
     },
     "execution_count": 103,
     "metadata": {},
     "output_type": "execute_result"
    }
   ],
   "source": [
    "# Ho = the two distributions are identical, F(x)=G(x) for all x; \n",
    "# Ha = the alternative is that they are not identical.\n",
    "\n",
    "# Гипотеза об одинаковом распределении не отвергается:\n",
    "stats.ks_2samp(df['Before'], df['After'])"
   ]
  },
  {
   "cell_type": "code",
   "execution_count": null,
   "metadata": {
    "colab": {
     "base_uri": "https://localhost:8080/"
    },
    "id": "UxYkEdY4ZdIO",
    "outputId": "b23205d8-5c75-4032-96e7-a4a3256ce649"
   },
   "outputs": [
    {
     "data": {
      "text/plain": [
       "Ttest_relResult(statistic=-2.215587843931166, pvalue=0.03502259756218883)"
      ]
     },
     "execution_count": 104,
     "metadata": {},
     "output_type": "execute_result"
    }
   ],
   "source": [
    "# t-критерий Стьюдента для связанных выборок:\n",
    "# https://docs.scipy.org/doc/scipy/reference/generated/scipy.stats.ttest_rel.html\n",
    "\n",
    "#  the null hypothesis that 2 related or repeated samples have identical average (expected) values\n",
    "\n",
    "# If we observe a large p-value, for example greater than 0.05 or 0.1 then we cannot reject the null hypothesis \n",
    "# of identical average scores. \n",
    "# If the p-value is smaller than the threshold, e.g. 1%, 5% or 10%, then we reject the null hypothesis of equal averages.\n",
    "\n",
    "stats.ttest_rel(df['Before'], df['After']) # Нулевая гипотеза отвергается - различия статистически значимы, терапия была эффективной."
   ]
  },
  {
   "cell_type": "code",
   "execution_count": null,
   "metadata": {
    "id": "v5xjevpXZbxl"
   },
   "outputs": [],
   "source": []
  },
  {
   "cell_type": "markdown",
   "metadata": {
    "id": "YXmqke7LS4nI"
   },
   "source": [
    "#### Решение (вариант № 3) - на основе доверит. интервала"
   ]
  },
  {
   "cell_type": "code",
   "execution_count": null,
   "metadata": {
    "colab": {
     "base_uri": "https://localhost:8080/"
    },
    "id": "yWm1rCbWJLzN",
    "outputId": "a52ec698-5048-4db3-f44d-22cbacbc431a"
   },
   "outputs": [
    {
     "name": "stdout",
     "output_type": "stream",
     "text": [
      "Теоретический доверительный интервал равен [80.95678023325956, 84.42253011156805]\n"
     ]
    }
   ],
   "source": [
    "from scipy import stats\n",
    "\n",
    "alpha = 0.05\n",
    "\n",
    "# Вычисляем теоретический доверительный интервал\n",
    "\n",
    "n = len(df['Before'])\n",
    "mu = np.mean(df['Before'])\n",
    "sigma = np.std(df['Before'])\n",
    "\n",
    "CI_Theoretical = [\n",
    "    mu - stats.norm.ppf(1-alpha/2)*sigma/np.sqrt(n), \n",
    "    mu + stats.norm.ppf(1-alpha/2)*sigma/np.sqrt(n)]\n",
    "\n",
    "print(\"Теоретический доверительный интервал равен\", CI_Theoretical)\n",
    "\n",
    "low = mu - stats.norm.ppf(1-alpha/2)*sigma/np.sqrt(n)\n",
    "upper = mu + stats.norm.ppf(1-alpha/2)*sigma/np.sqrt(n)"
   ]
  },
  {
   "cell_type": "code",
   "execution_count": null,
   "metadata": {
    "id": "o-JEwTuSKQjB"
   },
   "outputs": [],
   "source": [
    "# через сравнение с интервалом\n",
    "\n",
    "def effect (data):\n",
    "  res = []\n",
    "\n",
    "  for i in data:\n",
    "    if low <= i <= upper:\n",
    "      res.append(1)\n",
    "    else:\n",
    "      res.append(0)\n",
    "  return res"
   ]
  },
  {
   "cell_type": "code",
   "execution_count": null,
   "metadata": {
    "colab": {
     "base_uri": "https://localhost:8080/"
    },
    "id": "SVo8ZAKjKQgB",
    "outputId": "17fb72a2-0abb-437f-81c1-de788f98248c"
   },
   "outputs": [
    {
     "data": {
      "text/plain": [
       "0.3448275862068966"
      ]
     },
     "execution_count": 107,
     "metadata": {},
     "output_type": "execute_result"
    }
   ],
   "source": [
    "df['Res'] = effect (df['After'])\n",
    "share = sum(df['Res']) / len(df['Res'])\n",
    "share  # доля человек, которая осталась в доверительном интервале до лечения составляет 30% - можно сказать, что лечение было эффективно"
   ]
  },
  {
   "cell_type": "code",
   "execution_count": null,
   "metadata": {
    "id": "ENEPNDrJKQZ2"
   },
   "outputs": [],
   "source": []
  },
  {
   "cell_type": "markdown",
   "metadata": {
    "id": "tRwTUweFXO-F"
   },
   "source": [
    "### seattle\n",
    "В файле seattle.txt записаны цены на недвижимость в одном из районов Сиэтла в 2001 году и в 2002 году (объекты недвижимости выбирались случайно). Изменились ли в среднем цены в этом районе за год?\n"
   ]
  },
  {
   "cell_type": "markdown",
   "metadata": {
    "id": "NSac-38seqkE"
   },
   "source": [
    "*Выводы тут*"
   ]
  },
  {
   "cell_type": "code",
   "execution_count": null,
   "metadata": {
    "colab": {
     "base_uri": "https://localhost:8080/",
     "height": 204
    },
    "id": "VOIIliUEeqkE",
    "outputId": "6ff190a8-cba4-4eb7-f6a0-f4f3a007f9c3"
   },
   "outputs": [
    {
     "data": {
      "text/html": [
       "<div>\n",
       "<style scoped>\n",
       "    .dataframe tbody tr th:only-of-type {\n",
       "        vertical-align: middle;\n",
       "    }\n",
       "\n",
       "    .dataframe tbody tr th {\n",
       "        vertical-align: top;\n",
       "    }\n",
       "\n",
       "    .dataframe thead th {\n",
       "        text-align: right;\n",
       "    }\n",
       "</style>\n",
       "<table border=\"1\" class=\"dataframe\">\n",
       "  <thead>\n",
       "    <tr style=\"text-align: right;\">\n",
       "      <th></th>\n",
       "      <th>Price</th>\n",
       "      <th>Year</th>\n",
       "    </tr>\n",
       "  </thead>\n",
       "  <tbody>\n",
       "    <tr>\n",
       "      <th>0</th>\n",
       "      <td>142.0</td>\n",
       "      <td>2002</td>\n",
       "    </tr>\n",
       "    <tr>\n",
       "      <th>1</th>\n",
       "      <td>232.0</td>\n",
       "      <td>2002</td>\n",
       "    </tr>\n",
       "    <tr>\n",
       "      <th>2</th>\n",
       "      <td>132.5</td>\n",
       "      <td>2002</td>\n",
       "    </tr>\n",
       "    <tr>\n",
       "      <th>3</th>\n",
       "      <td>200.0</td>\n",
       "      <td>2002</td>\n",
       "    </tr>\n",
       "    <tr>\n",
       "      <th>4</th>\n",
       "      <td>362.0</td>\n",
       "      <td>2002</td>\n",
       "    </tr>\n",
       "  </tbody>\n",
       "</table>\n",
       "</div>"
      ],
      "text/plain": [
       "   Price  Year\n",
       "0  142.0  2002\n",
       "1  232.0  2002\n",
       "2  132.5  2002\n",
       "3  200.0  2002\n",
       "4  362.0  2002"
      ]
     },
     "execution_count": 108,
     "metadata": {},
     "output_type": "execute_result"
    }
   ],
   "source": [
    "# Код ниже\n",
    "\n",
    "df = pd.read_csv('https://raw.githubusercontent.com/ilyaaaaaaaa/stat_HSE_DPO_21-Fall/main/data/seattle.txt', sep='\\t')\n",
    "df.head()"
   ]
  },
  {
   "cell_type": "code",
   "execution_count": null,
   "metadata": {
    "id": "LYQMbU3XXNWL"
   },
   "outputs": [],
   "source": [
    "v1 = df[df['Year'] == 2001]['Price'] # данные по стоимости за 2001 г\n",
    "v2 = df[df['Year'] == 2002]['Price'] # данные по стоимости за 2002 г"
   ]
  },
  {
   "cell_type": "markdown",
   "metadata": {
    "id": "9lsfAgH6Zhwb"
   },
   "source": [
    "#### Решение (вариант№ 1) непараметрический"
   ]
  },
  {
   "cell_type": "code",
   "execution_count": null,
   "metadata": {
    "colab": {
     "base_uri": "https://localhost:8080/"
    },
    "id": "ojvRu85ZQiQc",
    "outputId": "a4e505e0-9115-41d3-a914-3253991e4a8d"
   },
   "outputs": [
    {
     "data": {
      "text/plain": [
       "MannwhitneyuResult(statistic=1295.5, pvalue=0.7563872675701748)"
      ]
     },
     "execution_count": 110,
     "metadata": {},
     "output_type": "execute_result"
    }
   ],
   "source": [
    "# Mann-Whitney\n",
    "\n",
    "# Ho = the distribution underlying sample x is the same as the distribution underlying sample y\n",
    "# Ha = 'two-sided': the distributions are not equal, i.e. F(u) ≠ G(u) for at least one u\n",
    "\n",
    "stats.mannwhitneyu(v1, v2, alternative='two-sided') # Ho гипотеза не отвергается. Цены за год не изменились."
   ]
  },
  {
   "cell_type": "code",
   "execution_count": null,
   "metadata": {
    "id": "IDNgXf7a3KHq"
   },
   "outputs": [],
   "source": []
  },
  {
   "cell_type": "markdown",
   "metadata": {
    "id": "f40DiEhS0Q-u"
   },
   "source": [
    "#### Решение (вариант № 2) - параметрический"
   ]
  },
  {
   "cell_type": "code",
   "execution_count": null,
   "metadata": {
    "colab": {
     "base_uri": "https://localhost:8080/",
     "height": 279
    },
    "id": "t-8Blg5NQiTb",
    "outputId": "8e27e956-ceb8-44d3-b7cc-5a65676ab3d7"
   },
   "outputs": [
    {
     "data": {
      "image/png": "[encoded data removed]",
      "text/plain": [
       "<Figure size 432x288 with 1 Axes>"
      ]
     },
     "metadata": {
      "needs_background": "light"
     },
     "output_type": "display_data"
    }
   ],
   "source": [
    "sns.histplot(data=pd.concat([v1, v2], axis = 0, keys = ['2001','2002']).reset_index(), kde=True, bins = 25,\n",
    "             x ='Price', hue = 'level_0');\n",
    "sns.set(rc={\"figure.figsize\":(8, 7)}) "
   ]
  },
  {
   "cell_type": "code",
   "execution_count": null,
   "metadata": {
    "colab": {
     "base_uri": "https://localhost:8080/"
    },
    "id": "ro6QvF_I3_yi",
    "outputId": "9db1995a-7d7a-43be-8b09-7fa45a28eeb1"
   },
   "outputs": [
    {
     "data": {
      "text/plain": [
       "KstestResult(statistic=0.10199767623856881, pvalue=0.6616412025406231)"
      ]
     },
     "execution_count": 112,
     "metadata": {},
     "output_type": "execute_result"
    }
   ],
   "source": [
    "# тест Колмогорова\n",
    "\n",
    "# Ho = two distributions are identical, F(x)=G(x) for all x; \n",
    "# Ha = that they are not identical\n",
    "\n",
    "# 2001\n",
    "mu, sigma = v1.mean(), v1.std(ddof=1)\n",
    "stats.kstest(v1, 'norm', args=(mu, sigma)) # Гипотеза о нормальности не отвергается"
   ]
  },
  {
   "cell_type": "code",
   "execution_count": null,
   "metadata": {
    "colab": {
     "base_uri": "https://localhost:8080/"
    },
    "id": "DZb1fzmk-NDV",
    "outputId": "0e225849-da2b-4e13-901a-a5404859f384"
   },
   "outputs": [
    {
     "data": {
      "text/plain": [
       "KstestResult(statistic=0.2927691699402488, pvalue=0.000272082474651694)"
      ]
     },
     "execution_count": 113,
     "metadata": {},
     "output_type": "execute_result"
    }
   ],
   "source": [
    "# 2002\n",
    "mu, sigma = v2.mean(), v2.std(ddof=1)\n",
    "stats.kstest(v2, 'norm', args=(mu, sigma)) # Гипотеза о нормальности отвергается. Возможно из-за того, что выборка слишком мала."
   ]
  },
  {
   "cell_type": "code",
   "execution_count": null,
   "metadata": {
    "colab": {
     "base_uri": "https://localhost:8080/"
    },
    "id": "rJfvzOGNZvNo",
    "outputId": "b1a3e7ff-ccfc-4b73-8841-8119b6fd6271"
   },
   "outputs": [
    {
     "data": {
      "text/plain": [
       "Ks_2sampResult(statistic=0.14, pvalue=0.7166468440414822)"
      ]
     },
     "execution_count": 114,
     "metadata": {},
     "output_type": "execute_result"
    }
   ],
   "source": [
    "# Ho = the two distributions are identical, F(x)=G(x) for all x; \n",
    "# Ha = the alternative is that they are not identical.\n",
    "\n",
    "# Гипотеза об одинаковом распределении не отвергается:\n",
    "stats.ks_2samp(v1, v2)"
   ]
  },
  {
   "cell_type": "code",
   "execution_count": null,
   "metadata": {
    "colab": {
     "base_uri": "https://localhost:8080/"
    },
    "id": "NQ08kdIMZvLI",
    "outputId": "d4bf253d-6a02-482e-a2d5-5045c25ae0e5"
   },
   "outputs": [
    {
     "data": {
      "text/plain": [
       "Ttest_indResult(statistic=-0.8057258725189664, pvalue=0.42235167114691463)"
      ]
     },
     "execution_count": 116,
     "metadata": {},
     "output_type": "execute_result"
    }
   ],
   "source": [
    "# T-test\n",
    "\n",
    "#  Ho = 2 independent samples have identical average (expected) values\n",
    "\n",
    "stats.ttest_ind(v1, v2) # Ho гипотеза не отвергается. Цены за год не изменились."
   ]
  },
  {
   "cell_type": "code",
   "execution_count": null,
   "metadata": {
    "id": "WEYbzsTu0U2I"
   },
   "outputs": [],
   "source": []
  },
  {
   "cell_type": "code",
   "execution_count": null,
   "metadata": {
    "id": "_px1CUdrZu_M"
   },
   "outputs": [],
   "source": []
  },
  {
   "cell_type": "markdown",
   "metadata": {
    "id": "Gl2o-SqZXVl0"
   },
   "source": [
    "### methylphenidate\n",
    "В рамках исследования эффективности препарата метилфенидат пациенты с синдромом дефицита внимания и гиперактивности в течение недели принимали либо метилфенидат, либо плацебо. В конце недели каждый пациент проходили тест на способность к подавлению импульсивных поведенческих реакций. На втором этапе плацебо и препарат менялись, и после недельного курса каждый испытуемые проходили второй тест. Был ли эффект от применения препарата? Данные находятся в файле methylphenidate.txt.\n",
    "\n"
   ]
  },
  {
   "cell_type": "markdown",
   "metadata": {
    "id": "1Hg6CwiverT_"
   },
   "source": [
    "*Выводы тут*"
   ]
  },
  {
   "cell_type": "code",
   "execution_count": null,
   "metadata": {
    "colab": {
     "base_uri": "https://localhost:8080/",
     "height": 204
    },
    "id": "yyTmPFVserUA",
    "outputId": "d4d30c7b-a618-47a3-f3f0-2eb5b8ba22f8"
   },
   "outputs": [
    {
     "data": {
      "text/html": [
       "<div>\n",
       "<style scoped>\n",
       "    .dataframe tbody tr th:only-of-type {\n",
       "        vertical-align: middle;\n",
       "    }\n",
       "\n",
       "    .dataframe tbody tr th {\n",
       "        vertical-align: top;\n",
       "    }\n",
       "\n",
       "    .dataframe thead th {\n",
       "        text-align: right;\n",
       "    }\n",
       "</style>\n",
       "<table border=\"1\" class=\"dataframe\">\n",
       "  <thead>\n",
       "    <tr style=\"text-align: right;\">\n",
       "      <th></th>\n",
       "      <th>Placebo</th>\n",
       "      <th>Methylphenidate</th>\n",
       "    </tr>\n",
       "  </thead>\n",
       "  <tbody>\n",
       "    <tr>\n",
       "      <th>0</th>\n",
       "      <td>57</td>\n",
       "      <td>62</td>\n",
       "    </tr>\n",
       "    <tr>\n",
       "      <th>1</th>\n",
       "      <td>27</td>\n",
       "      <td>49</td>\n",
       "    </tr>\n",
       "    <tr>\n",
       "      <th>2</th>\n",
       "      <td>32</td>\n",
       "      <td>30</td>\n",
       "    </tr>\n",
       "    <tr>\n",
       "      <th>3</th>\n",
       "      <td>31</td>\n",
       "      <td>34</td>\n",
       "    </tr>\n",
       "    <tr>\n",
       "      <th>4</th>\n",
       "      <td>34</td>\n",
       "      <td>38</td>\n",
       "    </tr>\n",
       "  </tbody>\n",
       "</table>\n",
       "</div>"
      ],
      "text/plain": [
       "   Placebo  Methylphenidate\n",
       "0       57               62\n",
       "1       27               49\n",
       "2       32               30\n",
       "3       31               34\n",
       "4       34               38"
      ]
     },
     "execution_count": 117,
     "metadata": {},
     "output_type": "execute_result"
    }
   ],
   "source": [
    "# Код ниже\n",
    "\n",
    "df = pd.read_csv('https://raw.githubusercontent.com/ilyaaaaaaaa/stat_HSE_DPO_21-Fall/main/data/methylphenidate.txt', sep=' ')\n",
    "df.head()"
   ]
  },
  {
   "cell_type": "code",
   "execution_count": null,
   "metadata": {
    "colab": {
     "base_uri": "https://localhost:8080/"
    },
    "id": "XLPPqRF5Xb9g",
    "outputId": "b9e9a41a-df7b-49b5-d2dd-5ead3115be22"
   },
   "outputs": [
    {
     "data": {
      "text/plain": [
       "(24, 2)"
      ]
     },
     "execution_count": 118,
     "metadata": {},
     "output_type": "execute_result"
    }
   ],
   "source": [
    "df.shape"
   ]
  },
  {
   "cell_type": "markdown",
   "metadata": {
    "id": "Rof_rtvZaB1v"
   },
   "source": [
    "#### Решение (вариант№ 1) непараметрический"
   ]
  },
  {
   "cell_type": "code",
   "execution_count": null,
   "metadata": {
    "colab": {
     "base_uri": "https://localhost:8080/"
    },
    "id": "RW1VXjKjZQvr",
    "outputId": "c8b52760-514a-4960-f67d-d78dc3c634fb"
   },
   "outputs": [
    {
     "data": {
      "text/plain": [
       "(-5.0, 0.06391465663909912)"
      ]
     },
     "execution_count": 119,
     "metadata": {},
     "output_type": "execute_result"
    }
   ],
   "source": [
    "# Ho = P(X>Y)=0.5\n",
    "# Ha = P(X>Y)≠0.5\n",
    "\n",
    "from statsmodels.stats.descriptivestats import sign_test\n",
    "\n",
    "sign_test(df.Placebo, df.Methylphenidate)  # Ho гипотеза не отвергается. Есть эффект от применения препарата."
   ]
  },
  {
   "cell_type": "code",
   "execution_count": null,
   "metadata": {
    "id": "alYtbtfsxbmr"
   },
   "outputs": [],
   "source": []
  },
  {
   "cell_type": "code",
   "execution_count": null,
   "metadata": {
    "colab": {
     "base_uri": "https://localhost:8080/"
    },
    "id": "mEHHdiTDZQsc",
    "outputId": "824877ad-13ab-4fde-8582-f2abedfd14b9"
   },
   "outputs": [
    {
     "data": {
      "text/plain": [
       "WilcoxonResult(statistic=48.5, pvalue=0.003707013753450903)"
      ]
     },
     "execution_count": 120,
     "metadata": {},
     "output_type": "execute_result"
    }
   ],
   "source": [
    "# Wilcoxon\n",
    "\n",
    "scipy.stats.wilcoxon(df.Placebo, df.Methylphenidate)"
   ]
  },
  {
   "cell_type": "code",
   "execution_count": null,
   "metadata": {
    "colab": {
     "base_uri": "https://localhost:8080/",
     "height": 36
    },
    "id": "7XnmwmrSZQpL",
    "outputId": "ae823876-4e0a-459d-882b-21d74c630924"
   },
   "outputs": [
    {
     "data": {
      "application/vnd.google.colaboratory.intrinsic+json": {
       "type": "string"
      },
      "text/plain": [
       "'Есть эффект от применения препарата.'"
      ]
     },
     "execution_count": 121,
     "metadata": {},
     "output_type": "execute_result"
    }
   ],
   "source": [
    "T_imp = 48.5\n",
    "T_crit = 91\n",
    "\n",
    "# Сравниваем Тэмп. с Ткр., который при уровне значимости p=0.05 и n=24 равен 91:\n",
    "'Есть эффект от применения препарата.'if T_imp <= T_crit else 'Эффекта от применения препарата нет.'\n",
    "\n",
    "# Различия статистически значимы"
   ]
  },
  {
   "cell_type": "code",
   "execution_count": null,
   "metadata": {
    "id": "Q8a-rcHwP09z"
   },
   "outputs": [],
   "source": []
  },
  {
   "cell_type": "markdown",
   "metadata": {
    "id": "Dv3C9bHtyKIz"
   },
   "source": [
    "#### Решение (вариант № 2) - параметрический"
   ]
  },
  {
   "cell_type": "code",
   "execution_count": null,
   "metadata": {
    "colab": {
     "base_uri": "https://localhost:8080/",
     "height": 284
    },
    "id": "0YkkY1vUzS3C",
    "outputId": "c16db255-deab-49f9-d5e7-90da5bb2b9a0"
   },
   "outputs": [
    {
     "data": {
      "image/png": "[encoded data removed]",
      "text/plain": [
       "<Figure size 864x288 with 2 Axes>"
      ]
     },
     "metadata": {},
     "output_type": "display_data"
    }
   ],
   "source": [
    "df.hist(figsize=(12,4), bins=10);"
   ]
  },
  {
   "cell_type": "code",
   "execution_count": null,
   "metadata": {
    "id": "QyCumei60Kgj"
   },
   "outputs": [],
   "source": [
    "tab_1 = df.Placebo\n",
    "tab_2 = df.Methylphenidate"
   ]
  },
  {
   "cell_type": "code",
   "execution_count": null,
   "metadata": {
    "colab": {
     "base_uri": "https://localhost:8080/"
    },
    "id": "eBGLpm52zSzr",
    "outputId": "97cb930b-1288-481b-ff4b-2d9c450d6e59"
   },
   "outputs": [
    {
     "data": {
      "text/plain": [
       "KstestResult(statistic=0.2548394516353422, pvalue=0.07328693674046188)"
      ]
     },
     "execution_count": 124,
     "metadata": {},
     "output_type": "execute_result"
    }
   ],
   "source": [
    "# тест Колмогорова\n",
    "\n",
    "# Ho = two distributions are identical, F(x)=G(x) for all x; \n",
    "# Ha = that they are not identical\n",
    "\n",
    "# Placebo\n",
    "mu, sigma = tab_1.mean(), tab_1.std(ddof=1)\n",
    "stats.kstest(tab_1, 'norm', args=(mu, sigma)) # Гипотеза о нормальности не отвергается"
   ]
  },
  {
   "cell_type": "code",
   "execution_count": null,
   "metadata": {
    "colab": {
     "base_uri": "https://localhost:8080/"
    },
    "id": "FZF0oUuzzSwd",
    "outputId": "ff7af88f-fbd4-4c6f-913f-f6ea35aebeff"
   },
   "outputs": [
    {
     "data": {
      "text/plain": [
       "KstestResult(statistic=0.16528820400202715, pvalue=0.48454237277130535)"
      ]
     },
     "execution_count": 125,
     "metadata": {},
     "output_type": "execute_result"
    }
   ],
   "source": [
    "# Methylphenidate\n",
    "mu, sigma = tab_2.mean(), tab_2.std(ddof=1)\n",
    "stats.kstest(tab_2, 'norm', args=(mu, sigma)) # Гипотеза о нормальности не отвергается."
   ]
  },
  {
   "cell_type": "code",
   "execution_count": null,
   "metadata": {
    "colab": {
     "base_uri": "https://localhost:8080/"
    },
    "id": "YQydEuij0p_3",
    "outputId": "f3d2a070-1190-47c9-8a51-8d34a0647625"
   },
   "outputs": [
    {
     "data": {
      "text/plain": [
       "Ks_2sampResult(statistic=0.25, pvalue=0.4490368220409109)"
      ]
     },
     "execution_count": 126,
     "metadata": {},
     "output_type": "execute_result"
    }
   ],
   "source": [
    "# Ho = the two distributions are identical, F(x)=G(x) for all x; \n",
    "# Ha = the alternative is that they are not identical.\n",
    "\n",
    "stats.ks_2samp(tab_1, tab_2)\n",
    "\n",
    "# Гипотеза об одинаковом распределении не отвергается."
   ]
  },
  {
   "cell_type": "code",
   "execution_count": null,
   "metadata": {
    "colab": {
     "base_uri": "https://localhost:8080/"
    },
    "id": "2SBUysh9xml2",
    "outputId": "2e319d3d-e62e-4661-e8f7-95375fd03988"
   },
   "outputs": [
    {
     "data": {
      "text/plain": [
       "(0.9798052906990051, 0.8922504186630249)"
      ]
     },
     "execution_count": 127,
     "metadata": {},
     "output_type": "execute_result"
    }
   ],
   "source": [
    "# The Shapiro-Wilk test tests the null hypothesis that the data was drawn from a normal distribution.\n",
    "\n",
    "stats.shapiro(df.Placebo-df.Methylphenidate) # критерий Шапиро-Уилка не отвергают гипотезу о нормальности данных"
   ]
  },
  {
   "cell_type": "code",
   "execution_count": null,
   "metadata": {
    "colab": {
     "base_uri": "https://localhost:8080/"
    },
    "id": "HHTWP9LnxmjE",
    "outputId": "ef0767a3-e601-4ef2-b536-18402e3209de"
   },
   "outputs": [
    {
     "data": {
      "text/plain": [
       "Ttest_relResult(statistic=-3.2223624451230406, pvalue=0.003771488176381471)"
      ]
     },
     "execution_count": 128,
     "metadata": {},
     "output_type": "execute_result"
    }
   ],
   "source": [
    "# t-критерий Стьюдента для связанных выборок:\n",
    "\n",
    "stats.ttest_rel(df.Placebo, df.Methylphenidate) # Нулевая гипотеза отвергается, эффект от применения препарата есть."
   ]
  },
  {
   "cell_type": "code",
   "execution_count": null,
   "metadata": {
    "id": "Aq2rzIKDxmbE"
   },
   "outputs": [],
   "source": []
  },
  {
   "cell_type": "markdown",
   "metadata": {
    "id": "ew4ByKQOXjyD"
   },
   "source": [
    "### mtcars\n",
    "В файле mtcars.csv находятся данные из американского журнала Motor Trend 1974 года. Они описывают расход топлива в зависимости от 10 характеристик автомобиля (все автомобили 1973-1974 года). А именно, в данных вы найдете следующие столбцы:\n",
    "1. mpg — расход топлива (миль/галлон); \n",
    "2. cyl — количество цилиндров мотора; 3) disp — объем мотор (куб. дюйм);\n",
    "4. hp — мощность мотора (в лошадиных силах);\n",
    "5. drat — передаточное число редуктора заднего моста;\n",
    "6. wt — вес (тысяч фунтов);\n",
    "7. qsec — время, за которое автомобиль проезжает 1/4 мили;\n",
    "8. vs — тип двигателя (0 = V-образный, 1 = рядный);\n",
    "9. am — тип коробки передач (0 = автоматическая, 1 = ручная);\n",
    "10. gear — количество передних передач; 11) carb — количество карбюраторов.\n",
    "\n",
    "- Влияет ли тип двигателя на расход топлива? \n",
    "- А тип коробки передач?"
   ]
  },
  {
   "cell_type": "markdown",
   "metadata": {
    "id": "3sfH1lFJemdp"
   },
   "source": [
    "*Выводы тут*"
   ]
  },
  {
   "cell_type": "code",
   "execution_count": null,
   "metadata": {
    "colab": {
     "base_uri": "https://localhost:8080/",
     "height": 204
    },
    "id": "OqCi07e-XsGv",
    "outputId": "e3dac6b7-4ec6-41bd-ccb1-e3c49ea4a1f7"
   },
   "outputs": [
    {
     "data": {
      "text/html": [
       "<div>\n",
       "<style scoped>\n",
       "    .dataframe tbody tr th:only-of-type {\n",
       "        vertical-align: middle;\n",
       "    }\n",
       "\n",
       "    .dataframe tbody tr th {\n",
       "        vertical-align: top;\n",
       "    }\n",
       "\n",
       "    .dataframe thead th {\n",
       "        text-align: right;\n",
       "    }\n",
       "</style>\n",
       "<table border=\"1\" class=\"dataframe\">\n",
       "  <thead>\n",
       "    <tr style=\"text-align: right;\">\n",
       "      <th></th>\n",
       "      <th>mpg</th>\n",
       "      <th>cyl</th>\n",
       "      <th>disp</th>\n",
       "      <th>hp</th>\n",
       "      <th>drat</th>\n",
       "      <th>wt</th>\n",
       "      <th>qsec</th>\n",
       "      <th>vs</th>\n",
       "      <th>am</th>\n",
       "      <th>gear</th>\n",
       "      <th>carb</th>\n",
       "    </tr>\n",
       "  </thead>\n",
       "  <tbody>\n",
       "    <tr>\n",
       "      <th>Mazda RX4</th>\n",
       "      <td>21.0</td>\n",
       "      <td>6</td>\n",
       "      <td>160.0</td>\n",
       "      <td>110</td>\n",
       "      <td>3.90</td>\n",
       "      <td>2.620</td>\n",
       "      <td>16.46</td>\n",
       "      <td>0</td>\n",
       "      <td>1</td>\n",
       "      <td>4</td>\n",
       "      <td>4</td>\n",
       "    </tr>\n",
       "    <tr>\n",
       "      <th>Mazda RX4 Wag</th>\n",
       "      <td>21.0</td>\n",
       "      <td>6</td>\n",
       "      <td>160.0</td>\n",
       "      <td>110</td>\n",
       "      <td>3.90</td>\n",
       "      <td>2.875</td>\n",
       "      <td>17.02</td>\n",
       "      <td>0</td>\n",
       "      <td>1</td>\n",
       "      <td>4</td>\n",
       "      <td>4</td>\n",
       "    </tr>\n",
       "    <tr>\n",
       "      <th>Datsun 710</th>\n",
       "      <td>22.8</td>\n",
       "      <td>4</td>\n",
       "      <td>108.0</td>\n",
       "      <td>93</td>\n",
       "      <td>3.85</td>\n",
       "      <td>2.320</td>\n",
       "      <td>18.61</td>\n",
       "      <td>1</td>\n",
       "      <td>1</td>\n",
       "      <td>4</td>\n",
       "      <td>1</td>\n",
       "    </tr>\n",
       "    <tr>\n",
       "      <th>Hornet 4 Drive</th>\n",
       "      <td>21.4</td>\n",
       "      <td>6</td>\n",
       "      <td>258.0</td>\n",
       "      <td>110</td>\n",
       "      <td>3.08</td>\n",
       "      <td>3.215</td>\n",
       "      <td>19.44</td>\n",
       "      <td>1</td>\n",
       "      <td>0</td>\n",
       "      <td>3</td>\n",
       "      <td>1</td>\n",
       "    </tr>\n",
       "    <tr>\n",
       "      <th>Hornet Sportabout</th>\n",
       "      <td>18.7</td>\n",
       "      <td>8</td>\n",
       "      <td>360.0</td>\n",
       "      <td>175</td>\n",
       "      <td>3.15</td>\n",
       "      <td>3.440</td>\n",
       "      <td>17.02</td>\n",
       "      <td>0</td>\n",
       "      <td>0</td>\n",
       "      <td>3</td>\n",
       "      <td>2</td>\n",
       "    </tr>\n",
       "  </tbody>\n",
       "</table>\n",
       "</div>"
      ],
      "text/plain": [
       "                    mpg  cyl   disp   hp  drat  ...   qsec  vs  am  gear  carb\n",
       "Mazda RX4          21.0    6  160.0  110  3.90  ...  16.46   0   1     4     4\n",
       "Mazda RX4 Wag      21.0    6  160.0  110  3.90  ...  17.02   0   1     4     4\n",
       "Datsun 710         22.8    4  108.0   93  3.85  ...  18.61   1   1     4     1\n",
       "Hornet 4 Drive     21.4    6  258.0  110  3.08  ...  19.44   1   0     3     1\n",
       "Hornet Sportabout  18.7    8  360.0  175  3.15  ...  17.02   0   0     3     2\n",
       "\n",
       "[5 rows x 11 columns]"
      ]
     },
     "execution_count": 129,
     "metadata": {},
     "output_type": "execute_result"
    }
   ],
   "source": [
    "# Код ниже\n",
    "import pandas as pd\n",
    "\n",
    "df = pd.read_csv('https://raw.githubusercontent.com/ilyaaaaaaaa/stat_HSE_DPO_21-Fall/main/data/mtcars.csv', index_col=0)\n",
    "df.head()"
   ]
  },
  {
   "cell_type": "code",
   "execution_count": null,
   "metadata": {
    "colab": {
     "base_uri": "https://localhost:8080/"
    },
    "id": "Wxd7trqtJtSK",
    "outputId": "5064d730-751b-48f4-e587-2712a94d790c"
   },
   "outputs": [
    {
     "data": {
      "text/plain": [
       "['mpg', 'cyl', 'disp', 'hp', 'drat', 'wt', 'qsec', 'vs', 'am', 'gear', 'carb']"
      ]
     },
     "execution_count": 130,
     "metadata": {},
     "output_type": "execute_result"
    }
   ],
   "source": [
    "df.columns.tolist()"
   ]
  },
  {
   "cell_type": "code",
   "execution_count": null,
   "metadata": {
    "id": "ub5jdtIV3X6q"
   },
   "outputs": [],
   "source": [
    "#  Судя по тепловой карте ниже:\n",
    "\n",
    "# vs - mpg: Да, тип двигателя влияет на расход топлива.\n",
    "# am - mpg: Тип коробки передач почти так же влияет на расход топлива как и тип двигателя."
   ]
  },
  {
   "cell_type": "code",
   "execution_count": null,
   "metadata": {
    "colab": {
     "base_uri": "https://localhost:8080/",
     "height": 544
    },
    "id": "a9UDrChS2bjn",
    "outputId": "ab174519-8188-416b-b7df-074c775eeb42"
   },
   "outputs": [
    {
     "data": {
      "image/png": "[encoded data removed]",
      "text/plain": [
       "<Figure size 1008x648 with 2 Axes>"
      ]
     },
     "metadata": {},
     "output_type": "display_data"
    }
   ],
   "source": [
    "import seaborn as sns\n",
    "import matplotlib.pyplot as plt\n",
    "import numpy as np\n",
    "\n",
    "plt.figure(figsize=(14,9))\n",
    "\n",
    "corr = df.corr()\n",
    "\n",
    "heatmap = sns.heatmap(corr,annot=True,linewidths=.5,fmt= '.2f',\\\n",
    "            mask=np.zeros_like(corr, dtype=np.bool), \\\n",
    "            cmap=sns.diverging_palette(100,230,as_cmap=True), square=True)"
   ]
  },
  {
   "cell_type": "code",
   "execution_count": null,
   "metadata": {
    "colab": {
     "base_uri": "https://localhost:8080/"
    },
    "id": "6f4lhnfS3QeP",
    "outputId": "c3bff365-99be-4b5c-ceba-d08bd63bdfd3"
   },
   "outputs": [
    {
     "name": "stdout",
     "output_type": "stream",
     "text": [
      "intercept: 38.94634352727835\n",
      "coef: [-1.59726643e+00 -2.67344709e-04 -9.65901813e-03  1.92829172e+00\n",
      " -1.85071566e+00 -2.19623303e-01 -1.60379814e+00 -1.45710998e+00\n",
      " -6.21076979e-01 -5.33346073e-01]\n"
     ]
    }
   ],
   "source": [
    "import numpy as np\n",
    "from sklearn.linear_model import LinearRegression\n",
    "from sklearn.model_selection import train_test_split\n",
    "\n",
    "X = df.drop('mpg',axis=1)\n",
    "y = df['mpg']\n",
    "\n",
    "Xtrain, Xtest, ytrain, ytest = train_test_split(X, y, test_size=0.3, random_state=50)\n",
    "\n",
    "model = LinearRegression()\n",
    "model.fit(Xtrain, ytrain)\n",
    "\n",
    "print('intercept:', model.intercept_)\n",
    "print('coef:', model.coef_)"
   ]
  },
  {
   "cell_type": "code",
   "execution_count": null,
   "metadata": {
    "id": "T9rgUOJjIQos"
   },
   "outputs": [],
   "source": [
    "# pip install pingouin"
   ]
  },
  {
   "cell_type": "code",
   "execution_count": null,
   "metadata": {
    "colab": {
     "base_uri": "https://localhost:8080/",
     "height": 388
    },
    "id": "7iTGJx79GVDo",
    "outputId": "4f9c82b5-f356-40e3-f06c-af8f3ccd13de"
   },
   "outputs": [
    {
     "data": {
      "text/html": [
       "<div>\n",
       "<style scoped>\n",
       "    .dataframe tbody tr th:only-of-type {\n",
       "        vertical-align: middle;\n",
       "    }\n",
       "\n",
       "    .dataframe tbody tr th {\n",
       "        vertical-align: top;\n",
       "    }\n",
       "\n",
       "    .dataframe thead th {\n",
       "        text-align: right;\n",
       "    }\n",
       "</style>\n",
       "<table border=\"1\" class=\"dataframe\">\n",
       "  <thead>\n",
       "    <tr style=\"text-align: right;\">\n",
       "      <th></th>\n",
       "      <th>names</th>\n",
       "      <th>coef</th>\n",
       "      <th>se</th>\n",
       "      <th>T</th>\n",
       "      <th>pval</th>\n",
       "      <th>r2</th>\n",
       "      <th>adj_r2</th>\n",
       "      <th>CI[2.5%]</th>\n",
       "      <th>CI[97.5%]</th>\n",
       "    </tr>\n",
       "  </thead>\n",
       "  <tbody>\n",
       "    <tr>\n",
       "      <th>0</th>\n",
       "      <td>Intercept</td>\n",
       "      <td>12.303374</td>\n",
       "      <td>18.717884</td>\n",
       "      <td>0.657306</td>\n",
       "      <td>0.518124</td>\n",
       "      <td>0.869016</td>\n",
       "      <td>0.806642</td>\n",
       "      <td>-26.622597</td>\n",
       "      <td>51.229346</td>\n",
       "    </tr>\n",
       "    <tr>\n",
       "      <th>1</th>\n",
       "      <td>cyl</td>\n",
       "      <td>-0.111440</td>\n",
       "      <td>1.045023</td>\n",
       "      <td>-0.106639</td>\n",
       "      <td>0.916087</td>\n",
       "      <td>0.869016</td>\n",
       "      <td>0.806642</td>\n",
       "      <td>-2.284686</td>\n",
       "      <td>2.061805</td>\n",
       "    </tr>\n",
       "    <tr>\n",
       "      <th>2</th>\n",
       "      <td>disp</td>\n",
       "      <td>0.013335</td>\n",
       "      <td>0.017858</td>\n",
       "      <td>0.746758</td>\n",
       "      <td>0.463489</td>\n",
       "      <td>0.869016</td>\n",
       "      <td>0.806642</td>\n",
       "      <td>-0.023801</td>\n",
       "      <td>0.050472</td>\n",
       "    </tr>\n",
       "    <tr>\n",
       "      <th>3</th>\n",
       "      <td>hp</td>\n",
       "      <td>-0.021482</td>\n",
       "      <td>0.021769</td>\n",
       "      <td>-0.986841</td>\n",
       "      <td>0.334955</td>\n",
       "      <td>0.869016</td>\n",
       "      <td>0.806642</td>\n",
       "      <td>-0.066752</td>\n",
       "      <td>0.023788</td>\n",
       "    </tr>\n",
       "    <tr>\n",
       "      <th>4</th>\n",
       "      <td>drat</td>\n",
       "      <td>0.787111</td>\n",
       "      <td>1.635373</td>\n",
       "      <td>0.481304</td>\n",
       "      <td>0.635278</td>\n",
       "      <td>0.869016</td>\n",
       "      <td>0.806642</td>\n",
       "      <td>-2.613834</td>\n",
       "      <td>4.188055</td>\n",
       "    </tr>\n",
       "    <tr>\n",
       "      <th>5</th>\n",
       "      <td>wt</td>\n",
       "      <td>-3.715304</td>\n",
       "      <td>1.894414</td>\n",
       "      <td>-1.961189</td>\n",
       "      <td>0.063252</td>\n",
       "      <td>0.869016</td>\n",
       "      <td>0.806642</td>\n",
       "      <td>-7.654954</td>\n",
       "      <td>0.224346</td>\n",
       "    </tr>\n",
       "    <tr>\n",
       "      <th>6</th>\n",
       "      <td>qsec</td>\n",
       "      <td>0.821041</td>\n",
       "      <td>0.730845</td>\n",
       "      <td>1.123413</td>\n",
       "      <td>0.273941</td>\n",
       "      <td>0.869016</td>\n",
       "      <td>0.806642</td>\n",
       "      <td>-0.698834</td>\n",
       "      <td>2.340916</td>\n",
       "    </tr>\n",
       "    <tr>\n",
       "      <th>7</th>\n",
       "      <td>vs</td>\n",
       "      <td>0.317763</td>\n",
       "      <td>2.104509</td>\n",
       "      <td>0.150991</td>\n",
       "      <td>0.881423</td>\n",
       "      <td>0.869016</td>\n",
       "      <td>0.806642</td>\n",
       "      <td>-4.058802</td>\n",
       "      <td>4.694328</td>\n",
       "    </tr>\n",
       "    <tr>\n",
       "      <th>8</th>\n",
       "      <td>am</td>\n",
       "      <td>2.520227</td>\n",
       "      <td>2.056651</td>\n",
       "      <td>1.225404</td>\n",
       "      <td>0.233990</td>\n",
       "      <td>0.869016</td>\n",
       "      <td>0.806642</td>\n",
       "      <td>-1.756812</td>\n",
       "      <td>6.797266</td>\n",
       "    </tr>\n",
       "    <tr>\n",
       "      <th>9</th>\n",
       "      <td>gear</td>\n",
       "      <td>0.655413</td>\n",
       "      <td>1.493260</td>\n",
       "      <td>0.438914</td>\n",
       "      <td>0.665206</td>\n",
       "      <td>0.869016</td>\n",
       "      <td>0.806642</td>\n",
       "      <td>-2.449991</td>\n",
       "      <td>3.760817</td>\n",
       "    </tr>\n",
       "    <tr>\n",
       "      <th>10</th>\n",
       "      <td>carb</td>\n",
       "      <td>-0.199419</td>\n",
       "      <td>0.828752</td>\n",
       "      <td>-0.240626</td>\n",
       "      <td>0.812179</td>\n",
       "      <td>0.869016</td>\n",
       "      <td>0.806642</td>\n",
       "      <td>-1.922904</td>\n",
       "      <td>1.524066</td>\n",
       "    </tr>\n",
       "  </tbody>\n",
       "</table>\n",
       "</div>"
      ],
      "text/plain": [
       "        names       coef         se  ...    adj_r2   CI[2.5%]  CI[97.5%]\n",
       "0   Intercept  12.303374  18.717884  ...  0.806642 -26.622597  51.229346\n",
       "1         cyl  -0.111440   1.045023  ...  0.806642  -2.284686   2.061805\n",
       "2        disp   0.013335   0.017858  ...  0.806642  -0.023801   0.050472\n",
       "3          hp  -0.021482   0.021769  ...  0.806642  -0.066752   0.023788\n",
       "4        drat   0.787111   1.635373  ...  0.806642  -2.613834   4.188055\n",
       "5          wt  -3.715304   1.894414  ...  0.806642  -7.654954   0.224346\n",
       "6        qsec   0.821041   0.730845  ...  0.806642  -0.698834   2.340916\n",
       "7          vs   0.317763   2.104509  ...  0.806642  -4.058802   4.694328\n",
       "8          am   2.520227   2.056651  ...  0.806642  -1.756812   6.797266\n",
       "9        gear   0.655413   1.493260  ...  0.806642  -2.449991   3.760817\n",
       "10       carb  -0.199419   0.828752  ...  0.806642  -1.922904   1.524066\n",
       "\n",
       "[11 rows x 9 columns]"
      ]
     },
     "execution_count": 135,
     "metadata": {},
     "output_type": "execute_result"
    }
   ],
   "source": [
    "import pingouin as pg\n",
    "\n",
    "X = df.drop('mpg',axis=1)\n",
    "y = df['mpg']\n",
    "\n",
    "lm = pg.linear_regression(X, y)\n",
    "# lm.loc[[7,8]]\n",
    "lm\n",
    "\n",
    "# По столбцу P-val можно определить значитмость признака. Если значение менньше 0.05 - признак значимый."
   ]
  },
  {
   "cell_type": "code",
   "execution_count": null,
   "metadata": {
    "id": "GQ7wBYLn9MmQ"
   },
   "outputs": [],
   "source": [
    "# import statsmodels.api as sm\n",
    "# from scipy import stats\n",
    "\n",
    "# X = df.drop('mpg',axis=1)\n",
    "# X = sm.add_constant(X)\n",
    "# y = df['mpg']\n",
    "\n",
    "# model = sm.OLS(y, X)\n",
    "# results = model.fit()\n",
    "# print(results.summary())"
   ]
  },
  {
   "cell_type": "code",
   "execution_count": null,
   "metadata": {
    "colab": {
     "base_uri": "https://localhost:8080/",
     "height": 235
    },
    "id": "TUfpcTaS9Mi-",
    "outputId": "879c6160-65c6-40a3-b6d8-c21d6a5ba29b"
   },
   "outputs": [
    {
     "data": {
      "text/html": [
       "<div>\n",
       "<style scoped>\n",
       "    .dataframe tbody tr th:only-of-type {\n",
       "        vertical-align: middle;\n",
       "    }\n",
       "\n",
       "    .dataframe tbody tr th {\n",
       "        vertical-align: top;\n",
       "    }\n",
       "\n",
       "    .dataframe thead th {\n",
       "        text-align: right;\n",
       "    }\n",
       "</style>\n",
       "<table border=\"1\" class=\"dataframe\">\n",
       "  <thead>\n",
       "    <tr style=\"text-align: right;\">\n",
       "      <th></th>\n",
       "      <th>names</th>\n",
       "      <th>coef</th>\n",
       "      <th>se</th>\n",
       "      <th>T</th>\n",
       "      <th>pval</th>\n",
       "      <th>r2</th>\n",
       "      <th>adj_r2</th>\n",
       "      <th>CI[2.5%]</th>\n",
       "      <th>CI[97.5%]</th>\n",
       "    </tr>\n",
       "  </thead>\n",
       "  <tbody>\n",
       "    <tr>\n",
       "      <th>0</th>\n",
       "      <td>Intercept</td>\n",
       "      <td>18.497586</td>\n",
       "      <td>10.848614</td>\n",
       "      <td>1.705064</td>\n",
       "      <td>0.100105</td>\n",
       "      <td>0.858072</td>\n",
       "      <td>0.830778</td>\n",
       "      <td>-3.802059</td>\n",
       "      <td>40.797231</td>\n",
       "    </tr>\n",
       "    <tr>\n",
       "      <th>1</th>\n",
       "      <td>hp</td>\n",
       "      <td>-0.018143</td>\n",
       "      <td>0.014619</td>\n",
       "      <td>-1.241060</td>\n",
       "      <td>0.225665</td>\n",
       "      <td>0.858072</td>\n",
       "      <td>0.830778</td>\n",
       "      <td>-0.048193</td>\n",
       "      <td>0.011907</td>\n",
       "    </tr>\n",
       "    <tr>\n",
       "      <th>2</th>\n",
       "      <td>wt</td>\n",
       "      <td>-3.145462</td>\n",
       "      <td>1.016523</td>\n",
       "      <td>-3.094334</td>\n",
       "      <td>0.004675</td>\n",
       "      <td>0.858072</td>\n",
       "      <td>0.830778</td>\n",
       "      <td>-5.234956</td>\n",
       "      <td>-1.055969</td>\n",
       "    </tr>\n",
       "    <tr>\n",
       "      <th>3</th>\n",
       "      <td>qsec</td>\n",
       "      <td>0.730445</td>\n",
       "      <td>0.598835</td>\n",
       "      <td>1.219776</td>\n",
       "      <td>0.233499</td>\n",
       "      <td>0.858072</td>\n",
       "      <td>0.830778</td>\n",
       "      <td>-0.500479</td>\n",
       "      <td>1.961369</td>\n",
       "    </tr>\n",
       "    <tr>\n",
       "      <th>4</th>\n",
       "      <td>vs</td>\n",
       "      <td>0.354424</td>\n",
       "      <td>1.762555</td>\n",
       "      <td>0.201086</td>\n",
       "      <td>0.842196</td>\n",
       "      <td>0.858072</td>\n",
       "      <td>0.830778</td>\n",
       "      <td>-3.268559</td>\n",
       "      <td>3.977408</td>\n",
       "    </tr>\n",
       "    <tr>\n",
       "      <th>5</th>\n",
       "      <td>am</td>\n",
       "      <td>2.908447</td>\n",
       "      <td>1.425182</td>\n",
       "      <td>2.040754</td>\n",
       "      <td>0.051550</td>\n",
       "      <td>0.858072</td>\n",
       "      <td>0.830778</td>\n",
       "      <td>-0.021057</td>\n",
       "      <td>5.837952</td>\n",
       "    </tr>\n",
       "  </tbody>\n",
       "</table>\n",
       "</div>"
      ],
      "text/plain": [
       "       names       coef         se  ...    adj_r2  CI[2.5%]  CI[97.5%]\n",
       "0  Intercept  18.497586  10.848614  ...  0.830778 -3.802059  40.797231\n",
       "1         hp  -0.018143   0.014619  ...  0.830778 -0.048193   0.011907\n",
       "2         wt  -3.145462   1.016523  ...  0.830778 -5.234956  -1.055969\n",
       "3       qsec   0.730445   0.598835  ...  0.830778 -0.500479   1.961369\n",
       "4         vs   0.354424   1.762555  ...  0.830778 -3.268559   3.977408\n",
       "5         am   2.908447   1.425182  ...  0.830778 -0.021057   5.837952\n",
       "\n",
       "[6 rows x 9 columns]"
      ]
     },
     "execution_count": 137,
     "metadata": {},
     "output_type": "execute_result"
    }
   ],
   "source": [
    "# Пробуем удалять наименее значимые признаки, т.е. с наибольшим значением 'pval':\n",
    "\n",
    "df = df.drop(['cyl', 'carb', 'drat', 'gear', 'disp'], axis=1)\n",
    "\n",
    "X = df.drop('mpg',axis=1)\n",
    "y = df['mpg']\n",
    "\n",
    "lm = pg.linear_regression(X, y)\n",
    "lm"
   ]
  },
  {
   "cell_type": "code",
   "execution_count": null,
   "metadata": {
    "id": "8EXOlD4a9MbU"
   },
   "outputs": [],
   "source": [
    "# Судя по значениям pval самыми значимыми признаками являются: \n",
    "# wt - вес (тысяч фунтов);\n",
    "# am - тип коробки передач (0 = автоматическая, 1 = ручная);\n",
    "\n",
    "# vs - тип двигателя (0 = V-образный, 1 = рядный);  - Наименее значимый признак"
   ]
  },
  {
   "cell_type": "code",
   "execution_count": null,
   "metadata": {
    "id": "w1xaJutA9MY3"
   },
   "outputs": [],
   "source": []
  }
 ],
 "metadata": {
  "colab": {
   "collapsed_sections": [],
   "name": "Копия блокнота \"Maria Ch - 5_task2.ipynb\"",
   "provenance": [],
   "toc_visible": true
  },
  "kernelspec": {
   "display_name": "Python 3",
   "language": "python",
   "name": "python3"
  },
  "language_info": {
   "codemirror_mode": {
    "name": "ipython",
    "version": 3
   },
   "file_extension": ".py",
   "mimetype": "text/x-python",
   "name": "python",
   "nbconvert_exporter": "python",
   "pygments_lexer": "ipython3",
   "version": "3.8.8"
  },
  "toc": {
   "base_numbering": 1,
   "nav_menu": {},
   "number_sections": true,
   "sideBar": true,
   "skip_h1_title": false,
   "title_cell": "Table of Contents",
   "title_sidebar": "Contents",
   "toc_cell": false,
   "toc_position": {},
   "toc_section_display": true,
   "toc_window_display": false
  }
 },
 "nbformat": 4,
 "nbformat_minor": 1
}
