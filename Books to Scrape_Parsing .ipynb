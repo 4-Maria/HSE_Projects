{
 "cells": [
  {
   "cell_type": "code",
   "execution_count": null,
   "metadata": {},
   "outputs": [],
   "source": [
    "import requests  \n",
    "\n",
    "url = 'http://books.toscrape.com/catalogue/page-1.html'\n",
    "response = requests.get(url)\n",
    "response"
   ]
  },
  {
   "cell_type": "code",
   "execution_count": null,
   "metadata": {},
   "outputs": [],
   "source": [
    "from bs4 import BeautifulSoup\n",
    "\n",
    "# распарсили страничку в дерево \n",
    "tree = BeautifulSoup(response.content, 'html.parser')  # содержимое запроса в байтах - .content\n",
    "tree\n",
    "\"\"\"\n",
    "Использование .content обеспечивает доступ к чистым байтам ответного пейлоада, \n",
    "то есть к любым данным в теле запроса. Однако, зачастую требуется конвертировать\n",
    "полученную информацию в строку в кодировке UTF-8. response делает это при помощи .text.\n",
    "\"\"\""
   ]
  },
  {
   "cell_type": "code",
   "execution_count": null,
   "metadata": {},
   "outputs": [],
   "source": [
    "response.encoding # узнаю кодировку"
   ]
  },
  {
   "cell_type": "code",
   "execution_count": null,
   "metadata": {},
   "outputs": [],
   "source": [
    "books = tree.find_all('article', {'class' : 'product_pod'})\n",
    "books[0]     # вся инфа о первой книге"
   ]
  },
  {
   "cell_type": "code",
   "execution_count": null,
   "metadata": {},
   "outputs": [],
   "source": [
    "t = books[0].h3.a.get('title')\n",
    "h = books[0].h3.a.get('href')\n",
    "print (t)\n",
    "print ('http://books.toscrape.com/catalogue/' + h)"
   ]
  },
  {
   "cell_type": "code",
   "execution_count": null,
   "metadata": {},
   "outputs": [],
   "source": [
    "books[0].p.get('class')[1]"
   ]
  },
  {
   "cell_type": "code",
   "execution_count": null,
   "metadata": {},
   "outputs": [],
   "source": [
    "books[0].find('p', {'class': 'price_color'}).text"
   ]
  },
  {
   "cell_type": "code",
   "execution_count": null,
   "metadata": {},
   "outputs": [],
   "source": [
    "books[0].find('p', {'class': 'instock availability'}).text.split()"
   ]
  },
  {
   "cell_type": "code",
   "execution_count": null,
   "metadata": {},
   "outputs": [],
   "source": [
    "info = []\n",
    "for i in range(20):\n",
    "    d = {'title': books[i].h3.a.get('title'),\n",
    "        'url': 'https://books.toscrape.com/catalogue/' + books[i].h3.a.get('href'),\n",
    "        'rating': books[i].p.get('class')[1],\n",
    "        'price': books[i].find('p', {'class': 'price_color'}).text,\n",
    "        'instock': books[i].find('p', {'class': 'instock availability'}).text.split()}\n",
    "    info.append(d)\n",
    "info"
   ]
  },
  {
   "cell_type": "code",
   "execution_count": null,
   "metadata": {},
   "outputs": [],
   "source": [
    "num_page = 17916#2913591\n",
    "f'http://books.toscrape.com/catalogue/page-{num_page}.html'  # для перебора по страницам"
   ]
  },
  {
   "cell_type": "code",
   "execution_count": null,
   "metadata": {},
   "outputs": [],
   "source": [
    "def get_page(num_page):  # функция перебора книг на странице\n",
    "    url = f'http://books.toscrape.com/catalogue/page-{num_page}.html'\n",
    "    response = requests.get(url)\n",
    "    \n",
    "    tree = BeautifulSoup(response.content, 'html.parser')\n",
    "    books = tree.find_all('article', {'class' : 'product_pod'})\n",
    "    info = []\n",
    "    for i in range(20):       # на каждой странице 20 книг\n",
    "        d = {'title': books[i].h3.a.get('title'),\n",
    "        'url': 'https://books.toscrape.com/catalogue/' + books[i].h3.a.get('href'),\n",
    "        'rating': books[i].p.get('class')[1],\n",
    "        'price': books[i].find('p', {'class': 'price_color'}).text,\n",
    "        'instock': books[i].find('p', {'class': 'instock availability'}).text.split()}\n",
    "        info.append(d)\n",
    "    return info"
   ]
  },
  {
   "cell_type": "code",
   "execution_count": null,
   "metadata": {},
   "outputs": [],
   "source": [
    "books_list = []\n",
    "for i in range(1, 51):  # всего 50 страниц\n",
    "    books_info = get_page(i)  # собираю инфу по каждой книге через функцию get_page\n",
    "    books_list.extend(books_info)\n"
   ]
  },
  {
   "cell_type": "code",
   "execution_count": null,
   "metadata": {},
   "outputs": [],
   "source": [
    "import pandas as pd\n",
    "df = pd.DataFrame(books_list)\n",
    "df"
   ]
  },
  {
   "cell_type": "code",
   "execution_count": null,
   "metadata": {},
   "outputs": [],
   "source": [
    "df.columns = ['Book', 'Web', 'Rating', 'price', 'Avail-ty']\n",
    "df"
   ]
  },
  {
   "cell_type": "code",
   "execution_count": null,
   "metadata": {},
   "outputs": [],
   "source": [
    "def get_price(price):               # данные по ценам конвертированы в float\n",
    "    return float(price[1:])   # срез, берем значение со второго символа, т.к. первый это £\n",
    "df['price'] = df['price'].apply(get_price)\n",
    "df"
   ]
  },
  {
   "cell_type": "code",
   "execution_count": null,
   "metadata": {},
   "outputs": [],
   "source": [
    "df['price'].hist(); # bins=20"
   ]
  },
  {
   "cell_type": "code",
   "execution_count": null,
   "metadata": {},
   "outputs": [],
   "source": [
    "import os\n",
    "os.getcwd()   # смотрю куда сейчас сохраняются файлы"
   ]
  },
  {
   "cell_type": "code",
   "execution_count": null,
   "metadata": {},
   "outputs": [],
   "source": [
    "os.chdir('C:\\\\Users\\......')    # прописала адрес сохранения\n",
    "os.getcwd()"
   ]
  },
  {
   "cell_type": "code",
   "execution_count": null,
   "metadata": {},
   "outputs": [],
   "source": [
    "df.to_excel('Books.xlsx', index=False)        # сохранила таблицу в эксель на рабочий стол"
   ]
  },
  {
   "cell_type": "code",
   "execution_count": null,
   "metadata": {},
   "outputs": [],
   "source": []
  }
 ],
 "metadata": {
  "kernelspec": {
   "display_name": "Python 3",
   "language": "python",
   "name": "python3"
  },
  "language_info": {
   "codemirror_mode": {
    "name": "ipython",
    "version": 3
   },
   "file_extension": ".py",
   "mimetype": "text/x-python",
   "name": "python",
   "nbconvert_exporter": "python",
   "pygments_lexer": "ipython3",
   "version": "3.8.8"
  },
  "toc": {
   "base_numbering": 1,
   "nav_menu": {},
   "number_sections": true,
   "sideBar": true,
   "skip_h1_title": false,
   "title_cell": "Table of Contents",
   "title_sidebar": "Contents",
   "toc_cell": false,
   "toc_position": {},
   "toc_section_display": true,
   "toc_window_display": false
  },
  "varInspector": {
   "cols": {
    "lenName": 16,
    "lenType": 16,
    "lenVar": 40
   },
   "kernels_config": {
    "python": {
     "delete_cmd_postfix": "",
     "delete_cmd_prefix": "del ",
     "library": "var_list.py",
     "varRefreshCmd": "print(var_dic_list())"
    },
    "r": {
     "delete_cmd_postfix": ") ",
     "delete_cmd_prefix": "rm(",
     "library": "var_list.r",
     "varRefreshCmd": "cat(var_dic_list()) "
    }
   },
   "types_to_exclude": [
    "module",
    "function",
    "builtin_function_or_method",
    "instance",
    "_Feature"
   ],
   "window_display": false
  }
 },
 "nbformat": 4,
 "nbformat_minor": 4
}
